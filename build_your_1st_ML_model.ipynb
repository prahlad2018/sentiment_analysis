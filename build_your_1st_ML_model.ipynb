{
  "cells": [
    {
      "cell_type": "markdown",
      "metadata": {
        "id": "_Zde7QhhJsIq"
      },
      "source": [
        "\n",
        "# Sentiment Analysis\n",
        "\n",
        "## Objective:\n",
        "In this module, we aim to explore the different regression and classification models and try to analyse which model performs best on a given data.\n",
        "\n",
        "- **1. Text Data Cleaning and Preprocessing:**\n",
        "     - Remove noise such as punctuation, stopwords, and special characters.\n",
        "     - Apply tokenization, stemming, and lemmatization to standardize text data.\n",
        "     - Prepare the text data for further analysis and modeling.\n",
        "\n",
        "- **2. Text Vectorization Techniques:**\n",
        "     - Utilize techniques such as CountVectorizer, TF-IDF, or Doc2Vec to vectorize the cleaned text data.\n",
        "\n",
        "- **3. Naive Bayes, KNN Models Implementation:**\n",
        "    - Apply the Naive Bayes & KNN algorithms to classify text data based on the vectorized inputs.\n",
        "     - Evaluate the model's performance using metrics such as accuracy, precision, recall, and F1-score.\n",
        "\n",
        "- **4. Hyperparameter Tuning :**\n",
        "     - Perform hyperparameter tuning using techniques such as GridSearchCV or RandomizedSearchCV.\n",
        "     - Identify the optimal set of hyperparameters that maximize the model's performance.\n",
        "\n",
        "\n",
        "##1. Introduction\n",
        "\n",
        "Sentiment analysis, often referred to as opinion mining, is a natural language processing (NLP) technique used to determine the emotional tone behind a body of text. It involves classifying text into categories like positive, negative, or neutral, thereby offering valuable insights into public opinion, customer feedback, and brand perception.\n",
        "\n",
        "<center><img src=\"https://media.sproutsocial.com/uploads/2023/07/Sentiment-analysis-HUB-Final.jpg\" width = 500 height = 300 /></center>\n",
        "\n",
        "The process is crucial in various applications, such as understanding customer sentiments in reviews, monitoring social media for brand sentiment, and gauging public opinion on specific topics."
      ]
    },
    {
      "cell_type": "markdown",
      "metadata": {
        "id": "1mxUWlljP5JC"
      },
      "source": [
        "##2. Steps involved\n",
        "\n",
        "This notebook leverages algorithms and machine learning models to transform unstructured text data into structured information, enabling the classification of text into `Positive`, `Negative`, and `Neutral` categories.\n",
        "\n",
        "1. **Data Collection** <br>\n",
        "  a. **Gather Text Data:** The data is downloded from kaggle please refer to this <a href='https://www.kaggle.com/datasets/kashishparmar02/social-media-sentiments-analysis-dataset'>link</a> for more details about the data.\n",
        "\n",
        "  b. **Labeling Data:** Label the text data with corresponding sentiment categories such as `Positive`, `Negative`, and `Neutral`.\n",
        "2. **Data Preprocessing** <br>\n",
        "  a. **Text Cleaning:** Remove noise from the text, such as processing hashtags, special characters, and stopwords (e.g., \"the,\" \"and\").\n",
        "\n",
        "  b. **Tokenization:** Break down the text into individual words or tokens.\n",
        "\n",
        "  c. **Lemmatization/Stemming:** Reduce words to their base or root form (e.g., \"running\" to \"run\").\n",
        "\n",
        "3. **Feature Engineering**<br>\n",
        "  a. **Vectorization:** Convert text data into numerical features using methods like Bag of Words (BoW), TF-IDF, or word embeddings (e.g., Word2Vec, Doc2Vec, GloVe, spacy). In this notebook, we will generate word embeddings using `Doc2Vec`.\n",
        "\n",
        "4. **Model Selection**<br>\n",
        "  a. **Choose an Algorithm:** Select a machine learning algorithm suitable for classification tasks. Common choices include Logistic Regression, Support Vector Machines (SVM), Naive Bayes, and deep learning models like RNNs or Transformers. In this notebook we will use `Naive Bayes`, `Logistic regression` and `K-Nearest Neighbors (KNN)` for classification.\n",
        "\n",
        "  b. **Hyperparameter tunning and Model Training:** Train the selected model using the labeled data and tune hyper parameters to it's optimal performance.\n",
        "\n",
        "5. **Model Evaluation**<br>\n",
        "  a. **Performance Metrics:** Use metrics like accuracy, precision, recall, F1-score, and Confusion matrix to assess the model's effectiveness.\n",
        "  We are evaluating the performance of two classification models: `Naive Bayes`, and `K-Nearest Neighbors (KNN)`. Each model is trained using different word embeddings:\n",
        "\n",
        "  b. **Doc2Vec Embeddings:** These embeddings are generated from a model specifically trained on our sentiment analysis dataset.\n",
        "\n",
        "Based on the observations above, we aim to draw final conclusions regarding the comparative performance of the models with different word embeddings."
      ]
    },
    {
      "cell_type": "code",
      "execution_count": 1,
      "metadata": {
        "id": "MabsDJe4tQgs"
      },
      "outputs": [
        {
          "ename": "ModuleNotFoundError",
          "evalue": "No module named 'seaborn'",
          "output_type": "error",
          "traceback": [
            "\u001b[31m---------------------------------------------------------------------------\u001b[39m",
            "\u001b[31mModuleNotFoundError\u001b[39m                       Traceback (most recent call last)",
            "\u001b[36mCell\u001b[39m\u001b[36m \u001b[39m\u001b[32mIn[1]\u001b[39m\u001b[32m, line 7\u001b[39m\n\u001b[32m      4\u001b[39m \u001b[38;5;28;01mimport\u001b[39;00m\u001b[38;5;250m \u001b[39m\u001b[34;01mnumpy\u001b[39;00m\u001b[38;5;250m \u001b[39m\u001b[38;5;28;01mas\u001b[39;00m\u001b[38;5;250m \u001b[39m\u001b[34;01mnp\u001b[39;00m\n\u001b[32m      6\u001b[39m \u001b[38;5;66;03m# Data visualization\u001b[39;00m\n\u001b[32m----> \u001b[39m\u001b[32m7\u001b[39m \u001b[38;5;28;01mimport\u001b[39;00m\u001b[38;5;250m \u001b[39m\u001b[34;01mseaborn\u001b[39;00m\u001b[38;5;250m \u001b[39m\u001b[38;5;28;01mas\u001b[39;00m\u001b[38;5;250m \u001b[39m\u001b[34;01msns\u001b[39;00m  \u001b[38;5;66;03m# For creating attractive and informative statistical graphics\u001b[39;00m\n\u001b[32m      8\u001b[39m \u001b[38;5;28;01mimport\u001b[39;00m\u001b[38;5;250m \u001b[39m\u001b[34;01mmatplotlib\u001b[39;00m\u001b[34;01m.\u001b[39;00m\u001b[34;01mpyplot\u001b[39;00m\u001b[38;5;250m \u001b[39m\u001b[38;5;28;01mas\u001b[39;00m\u001b[38;5;250m \u001b[39m\u001b[34;01mplt\u001b[39;00m  \u001b[38;5;66;03m# For plotting graphs and charts\u001b[39;00m\n\u001b[32m     10\u001b[39m \u001b[38;5;66;03m# Utility for text processing\u001b[39;00m\n",
            "\u001b[31mModuleNotFoundError\u001b[39m: No module named 'seaborn'"
          ]
        }
      ],
      "source": [
        "# Import the necessary libraries\n",
        "# Data manipulation and numerical operations\n",
        "import pandas as pd\n",
        "import numpy as np\n",
        "\n",
        "# Data visualization\n",
        "import seaborn as sns  # For creating attractive and informative statistical graphics\n",
        "import matplotlib.pyplot as plt  # For plotting graphs and charts\n",
        "\n",
        "# Utility for text processing\n",
        "import re\n",
        "\n",
        "# Import the warnings module, which allows control over warning messages\n",
        "import warnings\n",
        "\n",
        "# Suppress all warnings in the script\n",
        "warnings.filterwarnings(\"ignore\")"
      ]
    },
    {
      "cell_type": "code",
      "execution_count": null,
      "metadata": {
        "id": "ZXYFDKpd2nnO"
      },
      "outputs": [],
      "source": [
        "\n",
        "# Machine learning models and metrics\n",
        "from sklearn.naive_bayes import GaussianNB\n",
        "from sklearn.linear_model import LogisticRegression\n",
        "from sklearn.neighbors import KNeighborsClassifier\n",
        "from sklearn.model_selection import train_test_split, GridSearchCV\n",
        "from sklearn.metrics import (accuracy_score, classification_report,\n",
        "                             precision_score, recall_score, f1_score,\n",
        "                             confusion_matrix)"
      ]
    },
    {
      "cell_type": "code",
      "execution_count": null,
      "metadata": {
        "colab": {
          "base_uri": "https://localhost:8080/"
        },
        "collapsed": true,
        "id": "I8vvyCFBtX5p",
        "outputId": "b097e543-3cea-4ab3-8e6e-a3ee2ca2e55f"
      },
      "outputs": [
        {
          "name": "stderr",
          "output_type": "stream",
          "text": [
            "[nltk_data] Downloading package vader_lexicon to /root/nltk_data...\n",
            "[nltk_data] Downloading package punkt to /root/nltk_data...\n",
            "[nltk_data]   Unzipping tokenizers/punkt.zip.\n",
            "[nltk_data] Downloading package stopwords to /root/nltk_data...\n",
            "[nltk_data]   Unzipping corpora/stopwords.zip.\n",
            "[nltk_data] Downloading package wordnet to /root/nltk_data...\n"
          ]
        },
        {
          "data": {
            "text/plain": [
              "True"
            ]
          },
          "execution_count": 4,
          "metadata": {},
          "output_type": "execute_result"
        }
      ],
      "source": [
        "# Importing Natural Language Processing (NLP) libraries\n",
        "import spacy\n",
        "import nltk\n",
        "from nltk.corpus import stopwords\n",
        "from nltk.tokenize import word_tokenize\n",
        "from nltk.stem import PorterStemmer, WordNetLemmatizer\n",
        "from nltk.sentiment.vader import SentimentIntensityAnalyzer\n",
        "from gensim.models.doc2vec import Doc2Vec, TaggedDocument\n",
        "\n",
        "# Load spaCy's English language model\n",
        "nlp = spacy.load(\"en_core_web_sm\")\n",
        "\n",
        "# Download VADER lexicon if not already downloaded\n",
        "nltk.download('vader_lexicon')\n",
        "\n",
        "# Initialize VADER sentiment intensity analyzer\n",
        "sid = SentimentIntensityAnalyzer()\n",
        "\n",
        "# Initialize the PorterStemmer\n",
        "stemmer = PorterStemmer()\n",
        "\n",
        "# Download NLTK stopwords if not already downloaded\n",
        "nltk.download('punkt')\n",
        "nltk.download('stopwords')\n",
        "nltk.download('wordnet')"
      ]
    },
    {
      "cell_type": "markdown",
      "metadata": {
        "id": "WjVtLgYvls06"
      },
      "source": [
        "# 2. Steps involved"
      ]
    },
    {
      "cell_type": "markdown",
      "metadata": {
        "id": "IaH8He0UzDoc"
      },
      "source": [
        "# 2.1 Data Collection"
      ]
    },
    {
      "cell_type": "markdown",
      "metadata": {
        "id": "qq2-sJKUqKbY"
      },
      "source": [
        "## 2.1.1 Gather text data<br>\n",
        " The data is downloded from kaggle <a href='https://www.kaggle.com/datasets/kashishparmar02/social-media-sentiments-analysis-dataset'>link</a>\n",
        "\n",
        " The dataset `Social Media Sentiments Analysis` captures a vibrant tapestry of emotions, trends, and interactions across various social media platforms. This dataset provides a snapshot of user-generated content, encompassing text, timestamps, hashtags, countries, likes, and retweets. Each entry unveils unique stories—moments of surprise, excitement, admiration, thrill, contentment, and more—shared by individuals worldwide."
      ]
    },
    {
      "cell_type": "code",
      "execution_count": null,
      "metadata": {
        "id": "nEIUPDGuJeJd"
      },
      "outputs": [],
      "source": [
        "#Load data from the csv file\n",
        "sentiment_data = pd.read_csv('/content/sentimentdataset.csv')"
      ]
    },
    {
      "cell_type": "code",
      "execution_count": null,
      "metadata": {
        "colab": {
          "base_uri": "https://localhost:8080/",
          "height": 206
        },
        "id": "s70SyQ8mt1RJ",
        "outputId": "027bc691-c61c-4319-e884-ce3858b60351"
      },
      "outputs": [
        {
          "data": {
            "application/vnd.google.colaboratory.intrinsic+json": {
              "summary": "{\n  \"name\": \"sentiment_data\",\n  \"rows\": 732,\n  \"fields\": [\n    {\n      \"column\": \"Unnamed: 0.1\",\n      \"properties\": {\n        \"dtype\": \"number\",\n        \"std\": 211,\n        \"min\": 0,\n        \"max\": 732,\n        \"num_unique_values\": 732,\n        \"samples\": [\n          605,\n          34,\n          301\n        ],\n        \"semantic_type\": \"\",\n        \"description\": \"\"\n      }\n    },\n    {\n      \"column\": \"Unnamed: 0\",\n      \"properties\": {\n        \"dtype\": \"number\",\n        \"std\": 212,\n        \"min\": 0,\n        \"max\": 736,\n        \"num_unique_values\": 732,\n        \"samples\": [\n          609,\n          35,\n          305\n        ],\n        \"semantic_type\": \"\",\n        \"description\": \"\"\n      }\n    },\n    {\n      \"column\": \"Text\",\n      \"properties\": {\n        \"dtype\": \"string\",\n        \"num_unique_values\": 707,\n        \"samples\": [\n          \"Walking the Great Wall of China, each step a testament to ancient engineering marvels. \",\n          \" Laughter is the key to joy\\u2014attending a stand-up comedy show. \",\n          \" The fear of the unknown is keeping me up at night.    \"\n        ],\n        \"semantic_type\": \"\",\n        \"description\": \"\"\n      }\n    },\n    {\n      \"column\": \"Sentiment\",\n      \"properties\": {\n        \"dtype\": \"category\",\n        \"num_unique_values\": 279,\n        \"samples\": [\n          \" Elation       \",\n          \" Confidence    \",\n          \" Loss \"\n        ],\n        \"semantic_type\": \"\",\n        \"description\": \"\"\n      }\n    },\n    {\n      \"column\": \"Timestamp\",\n      \"properties\": {\n        \"dtype\": \"object\",\n        \"num_unique_values\": 683,\n        \"samples\": [\n          \"2019-12-12 17:00:00\",\n          \"2018-03-10 09:45:00\",\n          \"2022-01-05 10:30:00\"\n        ],\n        \"semantic_type\": \"\",\n        \"description\": \"\"\n      }\n    },\n    {\n      \"column\": \"User\",\n      \"properties\": {\n        \"dtype\": \"string\",\n        \"num_unique_values\": 685,\n        \"samples\": [\n          \" VenomousHeart \",\n          \" GamingEnthusiast \",\n          \" DreamChaser       \"\n        ],\n        \"semantic_type\": \"\",\n        \"description\": \"\"\n      }\n    },\n    {\n      \"column\": \"Platform\",\n      \"properties\": {\n        \"dtype\": \"category\",\n        \"num_unique_values\": 4,\n        \"samples\": [\n          \" Instagram \",\n          \" Twitter \",\n          \" Twitter  \"\n        ],\n        \"semantic_type\": \"\",\n        \"description\": \"\"\n      }\n    },\n    {\n      \"column\": \"Hashtags\",\n      \"properties\": {\n        \"dtype\": \"string\",\n        \"num_unique_values\": 697,\n        \"samples\": [\n          \" #Fulfillment #PuzzleChallenge                \",\n          \" #Nostalgia #ClassicFilmMoments \",\n          \" #Isolation #EmotionalWinter            \"\n        ],\n        \"semantic_type\": \"\",\n        \"description\": \"\"\n      }\n    },\n    {\n      \"column\": \"Retweets\",\n      \"properties\": {\n        \"dtype\": \"number\",\n        \"std\": 7.061286414470437,\n        \"min\": 5.0,\n        \"max\": 40.0,\n        \"num_unique_values\": 26,\n        \"samples\": [\n          18.0,\n          17.0,\n          15.0\n        ],\n        \"semantic_type\": \"\",\n        \"description\": \"\"\n      }\n    },\n    {\n      \"column\": \"Likes\",\n      \"properties\": {\n        \"dtype\": \"number\",\n        \"std\": 14.089848390888744,\n        \"min\": 10.0,\n        \"max\": 80.0,\n        \"num_unique_values\": 38,\n        \"samples\": [\n          31.0,\n          51.0,\n          25.0\n        ],\n        \"semantic_type\": \"\",\n        \"description\": \"\"\n      }\n    },\n    {\n      \"column\": \"Country\",\n      \"properties\": {\n        \"dtype\": \"category\",\n        \"num_unique_values\": 115,\n        \"samples\": [\n          \" France         \",\n          \" Australia \",\n          \" India         \"\n        ],\n        \"semantic_type\": \"\",\n        \"description\": \"\"\n      }\n    },\n    {\n      \"column\": \"Year\",\n      \"properties\": {\n        \"dtype\": \"number\",\n        \"std\": 2,\n        \"min\": 2010,\n        \"max\": 2023,\n        \"num_unique_values\": 14,\n        \"samples\": [\n          2016,\n          2018,\n          2023\n        ],\n        \"semantic_type\": \"\",\n        \"description\": \"\"\n      }\n    },\n    {\n      \"column\": \"Month\",\n      \"properties\": {\n        \"dtype\": \"number\",\n        \"std\": 3,\n        \"min\": 1,\n        \"max\": 12,\n        \"num_unique_values\": 12,\n        \"samples\": [\n          10,\n          7,\n          1\n        ],\n        \"semantic_type\": \"\",\n        \"description\": \"\"\n      }\n    },\n    {\n      \"column\": \"Day\",\n      \"properties\": {\n        \"dtype\": \"number\",\n        \"std\": 8,\n        \"min\": 1,\n        \"max\": 31,\n        \"num_unique_values\": 31,\n        \"samples\": [\n          7,\n          30,\n          3\n        ],\n        \"semantic_type\": \"\",\n        \"description\": \"\"\n      }\n    },\n    {\n      \"column\": \"Hour\",\n      \"properties\": {\n        \"dtype\": \"number\",\n        \"std\": 4,\n        \"min\": 0,\n        \"max\": 23,\n        \"num_unique_values\": 22,\n        \"samples\": [\n          12,\n          20,\n          13\n        ],\n        \"semantic_type\": \"\",\n        \"description\": \"\"\n      }\n    }\n  ]\n}",
              "type": "dataframe",
              "variable_name": "sentiment_data"
            },
            "text/html": [
              "\n",
              "  <div id=\"df-39847acc-c6a7-4aea-9a20-087719658a8e\" class=\"colab-df-container\">\n",
              "    <div>\n",
              "<style scoped>\n",
              "    .dataframe tbody tr th:only-of-type {\n",
              "        vertical-align: middle;\n",
              "    }\n",
              "\n",
              "    .dataframe tbody tr th {\n",
              "        vertical-align: top;\n",
              "    }\n",
              "\n",
              "    .dataframe thead th {\n",
              "        text-align: right;\n",
              "    }\n",
              "</style>\n",
              "<table border=\"1\" class=\"dataframe\">\n",
              "  <thead>\n",
              "    <tr style=\"text-align: right;\">\n",
              "      <th></th>\n",
              "      <th>Unnamed: 0.1</th>\n",
              "      <th>Unnamed: 0</th>\n",
              "      <th>Text</th>\n",
              "      <th>Sentiment</th>\n",
              "      <th>Timestamp</th>\n",
              "      <th>User</th>\n",
              "      <th>Platform</th>\n",
              "      <th>Hashtags</th>\n",
              "      <th>Retweets</th>\n",
              "      <th>Likes</th>\n",
              "      <th>Country</th>\n",
              "      <th>Year</th>\n",
              "      <th>Month</th>\n",
              "      <th>Day</th>\n",
              "      <th>Hour</th>\n",
              "    </tr>\n",
              "  </thead>\n",
              "  <tbody>\n",
              "    <tr>\n",
              "      <th>0</th>\n",
              "      <td>0</td>\n",
              "      <td>0</td>\n",
              "      <td>Enjoying a beautiful day at the park!        ...</td>\n",
              "      <td>Positive</td>\n",
              "      <td>2023-01-15 12:30:00</td>\n",
              "      <td>User123</td>\n",
              "      <td>Twitter</td>\n",
              "      <td>#Nature #Park</td>\n",
              "      <td>15.0</td>\n",
              "      <td>30.0</td>\n",
              "      <td>USA</td>\n",
              "      <td>2023</td>\n",
              "      <td>1</td>\n",
              "      <td>15</td>\n",
              "      <td>12</td>\n",
              "    </tr>\n",
              "    <tr>\n",
              "      <th>1</th>\n",
              "      <td>1</td>\n",
              "      <td>1</td>\n",
              "      <td>Traffic was terrible this morning.           ...</td>\n",
              "      <td>Negative</td>\n",
              "      <td>2023-01-15 08:45:00</td>\n",
              "      <td>CommuterX</td>\n",
              "      <td>Twitter</td>\n",
              "      <td>#Traffic #Morning</td>\n",
              "      <td>5.0</td>\n",
              "      <td>10.0</td>\n",
              "      <td>Canada</td>\n",
              "      <td>2023</td>\n",
              "      <td>1</td>\n",
              "      <td>15</td>\n",
              "      <td>8</td>\n",
              "    </tr>\n",
              "    <tr>\n",
              "      <th>2</th>\n",
              "      <td>2</td>\n",
              "      <td>2</td>\n",
              "      <td>Just finished an amazing workout! 💪          ...</td>\n",
              "      <td>Positive</td>\n",
              "      <td>2023-01-15 15:45:00</td>\n",
              "      <td>FitnessFan</td>\n",
              "      <td>Instagram</td>\n",
              "      <td>#Fitness #Workout</td>\n",
              "      <td>20.0</td>\n",
              "      <td>40.0</td>\n",
              "      <td>USA</td>\n",
              "      <td>2023</td>\n",
              "      <td>1</td>\n",
              "      <td>15</td>\n",
              "      <td>15</td>\n",
              "    </tr>\n",
              "    <tr>\n",
              "      <th>3</th>\n",
              "      <td>3</td>\n",
              "      <td>3</td>\n",
              "      <td>Excited about the upcoming weekend getaway!  ...</td>\n",
              "      <td>Positive</td>\n",
              "      <td>2023-01-15 18:20:00</td>\n",
              "      <td>AdventureX</td>\n",
              "      <td>Facebook</td>\n",
              "      <td>#Travel #Adventure</td>\n",
              "      <td>8.0</td>\n",
              "      <td>15.0</td>\n",
              "      <td>UK</td>\n",
              "      <td>2023</td>\n",
              "      <td>1</td>\n",
              "      <td>15</td>\n",
              "      <td>18</td>\n",
              "    </tr>\n",
              "    <tr>\n",
              "      <th>4</th>\n",
              "      <td>4</td>\n",
              "      <td>4</td>\n",
              "      <td>Trying out a new recipe for dinner tonight.  ...</td>\n",
              "      <td>Neutral</td>\n",
              "      <td>2023-01-15 19:55:00</td>\n",
              "      <td>ChefCook</td>\n",
              "      <td>Instagram</td>\n",
              "      <td>#Cooking #Food</td>\n",
              "      <td>12.0</td>\n",
              "      <td>25.0</td>\n",
              "      <td>Australia</td>\n",
              "      <td>2023</td>\n",
              "      <td>1</td>\n",
              "      <td>15</td>\n",
              "      <td>19</td>\n",
              "    </tr>\n",
              "  </tbody>\n",
              "</table>\n",
              "</div>\n",
              "    <div class=\"colab-df-buttons\">\n",
              "\n",
              "  <div class=\"colab-df-container\">\n",
              "    <button class=\"colab-df-convert\" onclick=\"convertToInteractive('df-39847acc-c6a7-4aea-9a20-087719658a8e')\"\n",
              "            title=\"Convert this dataframe to an interactive table.\"\n",
              "            style=\"display:none;\">\n",
              "\n",
              "  <svg xmlns=\"http://www.w3.org/2000/svg\" height=\"24px\" viewBox=\"0 -960 960 960\">\n",
              "    <path d=\"M120-120v-720h720v720H120Zm60-500h600v-160H180v160Zm220 220h160v-160H400v160Zm0 220h160v-160H400v160ZM180-400h160v-160H180v160Zm440 0h160v-160H620v160ZM180-180h160v-160H180v160Zm440 0h160v-160H620v160Z\"/>\n",
              "  </svg>\n",
              "    </button>\n",
              "\n",
              "  <style>\n",
              "    .colab-df-container {\n",
              "      display:flex;\n",
              "      gap: 12px;\n",
              "    }\n",
              "\n",
              "    .colab-df-convert {\n",
              "      background-color: #E8F0FE;\n",
              "      border: none;\n",
              "      border-radius: 50%;\n",
              "      cursor: pointer;\n",
              "      display: none;\n",
              "      fill: #1967D2;\n",
              "      height: 32px;\n",
              "      padding: 0 0 0 0;\n",
              "      width: 32px;\n",
              "    }\n",
              "\n",
              "    .colab-df-convert:hover {\n",
              "      background-color: #E2EBFA;\n",
              "      box-shadow: 0px 1px 2px rgba(60, 64, 67, 0.3), 0px 1px 3px 1px rgba(60, 64, 67, 0.15);\n",
              "      fill: #174EA6;\n",
              "    }\n",
              "\n",
              "    .colab-df-buttons div {\n",
              "      margin-bottom: 4px;\n",
              "    }\n",
              "\n",
              "    [theme=dark] .colab-df-convert {\n",
              "      background-color: #3B4455;\n",
              "      fill: #D2E3FC;\n",
              "    }\n",
              "\n",
              "    [theme=dark] .colab-df-convert:hover {\n",
              "      background-color: #434B5C;\n",
              "      box-shadow: 0px 1px 3px 1px rgba(0, 0, 0, 0.15);\n",
              "      filter: drop-shadow(0px 1px 2px rgba(0, 0, 0, 0.3));\n",
              "      fill: #FFFFFF;\n",
              "    }\n",
              "  </style>\n",
              "\n",
              "    <script>\n",
              "      const buttonEl =\n",
              "        document.querySelector('#df-39847acc-c6a7-4aea-9a20-087719658a8e button.colab-df-convert');\n",
              "      buttonEl.style.display =\n",
              "        google.colab.kernel.accessAllowed ? 'block' : 'none';\n",
              "\n",
              "      async function convertToInteractive(key) {\n",
              "        const element = document.querySelector('#df-39847acc-c6a7-4aea-9a20-087719658a8e');\n",
              "        const dataTable =\n",
              "          await google.colab.kernel.invokeFunction('convertToInteractive',\n",
              "                                                    [key], {});\n",
              "        if (!dataTable) return;\n",
              "\n",
              "        const docLinkHtml = 'Like what you see? Visit the ' +\n",
              "          '<a target=\"_blank\" href=https://colab.research.google.com/notebooks/data_table.ipynb>data table notebook</a>'\n",
              "          + ' to learn more about interactive tables.';\n",
              "        element.innerHTML = '';\n",
              "        dataTable['output_type'] = 'display_data';\n",
              "        await google.colab.output.renderOutput(dataTable, element);\n",
              "        const docLink = document.createElement('div');\n",
              "        docLink.innerHTML = docLinkHtml;\n",
              "        element.appendChild(docLink);\n",
              "      }\n",
              "    </script>\n",
              "  </div>\n",
              "\n",
              "\n",
              "    <div id=\"df-461abc88-942d-4343-b409-903d48dd2a1f\">\n",
              "      <button class=\"colab-df-quickchart\" onclick=\"quickchart('df-461abc88-942d-4343-b409-903d48dd2a1f')\"\n",
              "                title=\"Suggest charts\"\n",
              "                style=\"display:none;\">\n",
              "\n",
              "<svg xmlns=\"http://www.w3.org/2000/svg\" height=\"24px\"viewBox=\"0 0 24 24\"\n",
              "     width=\"24px\">\n",
              "    <g>\n",
              "        <path d=\"M19 3H5c-1.1 0-2 .9-2 2v14c0 1.1.9 2 2 2h14c1.1 0 2-.9 2-2V5c0-1.1-.9-2-2-2zM9 17H7v-7h2v7zm4 0h-2V7h2v10zm4 0h-2v-4h2v4z\"/>\n",
              "    </g>\n",
              "</svg>\n",
              "      </button>\n",
              "\n",
              "<style>\n",
              "  .colab-df-quickchart {\n",
              "      --bg-color: #E8F0FE;\n",
              "      --fill-color: #1967D2;\n",
              "      --hover-bg-color: #E2EBFA;\n",
              "      --hover-fill-color: #174EA6;\n",
              "      --disabled-fill-color: #AAA;\n",
              "      --disabled-bg-color: #DDD;\n",
              "  }\n",
              "\n",
              "  [theme=dark] .colab-df-quickchart {\n",
              "      --bg-color: #3B4455;\n",
              "      --fill-color: #D2E3FC;\n",
              "      --hover-bg-color: #434B5C;\n",
              "      --hover-fill-color: #FFFFFF;\n",
              "      --disabled-bg-color: #3B4455;\n",
              "      --disabled-fill-color: #666;\n",
              "  }\n",
              "\n",
              "  .colab-df-quickchart {\n",
              "    background-color: var(--bg-color);\n",
              "    border: none;\n",
              "    border-radius: 50%;\n",
              "    cursor: pointer;\n",
              "    display: none;\n",
              "    fill: var(--fill-color);\n",
              "    height: 32px;\n",
              "    padding: 0;\n",
              "    width: 32px;\n",
              "  }\n",
              "\n",
              "  .colab-df-quickchart:hover {\n",
              "    background-color: var(--hover-bg-color);\n",
              "    box-shadow: 0 1px 2px rgba(60, 64, 67, 0.3), 0 1px 3px 1px rgba(60, 64, 67, 0.15);\n",
              "    fill: var(--button-hover-fill-color);\n",
              "  }\n",
              "\n",
              "  .colab-df-quickchart-complete:disabled,\n",
              "  .colab-df-quickchart-complete:disabled:hover {\n",
              "    background-color: var(--disabled-bg-color);\n",
              "    fill: var(--disabled-fill-color);\n",
              "    box-shadow: none;\n",
              "  }\n",
              "\n",
              "  .colab-df-spinner {\n",
              "    border: 2px solid var(--fill-color);\n",
              "    border-color: transparent;\n",
              "    border-bottom-color: var(--fill-color);\n",
              "    animation:\n",
              "      spin 1s steps(1) infinite;\n",
              "  }\n",
              "\n",
              "  @keyframes spin {\n",
              "    0% {\n",
              "      border-color: transparent;\n",
              "      border-bottom-color: var(--fill-color);\n",
              "      border-left-color: var(--fill-color);\n",
              "    }\n",
              "    20% {\n",
              "      border-color: transparent;\n",
              "      border-left-color: var(--fill-color);\n",
              "      border-top-color: var(--fill-color);\n",
              "    }\n",
              "    30% {\n",
              "      border-color: transparent;\n",
              "      border-left-color: var(--fill-color);\n",
              "      border-top-color: var(--fill-color);\n",
              "      border-right-color: var(--fill-color);\n",
              "    }\n",
              "    40% {\n",
              "      border-color: transparent;\n",
              "      border-right-color: var(--fill-color);\n",
              "      border-top-color: var(--fill-color);\n",
              "    }\n",
              "    60% {\n",
              "      border-color: transparent;\n",
              "      border-right-color: var(--fill-color);\n",
              "    }\n",
              "    80% {\n",
              "      border-color: transparent;\n",
              "      border-right-color: var(--fill-color);\n",
              "      border-bottom-color: var(--fill-color);\n",
              "    }\n",
              "    90% {\n",
              "      border-color: transparent;\n",
              "      border-bottom-color: var(--fill-color);\n",
              "    }\n",
              "  }\n",
              "</style>\n",
              "\n",
              "      <script>\n",
              "        async function quickchart(key) {\n",
              "          const quickchartButtonEl =\n",
              "            document.querySelector('#' + key + ' button');\n",
              "          quickchartButtonEl.disabled = true;  // To prevent multiple clicks.\n",
              "          quickchartButtonEl.classList.add('colab-df-spinner');\n",
              "          try {\n",
              "            const charts = await google.colab.kernel.invokeFunction(\n",
              "                'suggestCharts', [key], {});\n",
              "          } catch (error) {\n",
              "            console.error('Error during call to suggestCharts:', error);\n",
              "          }\n",
              "          quickchartButtonEl.classList.remove('colab-df-spinner');\n",
              "          quickchartButtonEl.classList.add('colab-df-quickchart-complete');\n",
              "        }\n",
              "        (() => {\n",
              "          let quickchartButtonEl =\n",
              "            document.querySelector('#df-461abc88-942d-4343-b409-903d48dd2a1f button');\n",
              "          quickchartButtonEl.style.display =\n",
              "            google.colab.kernel.accessAllowed ? 'block' : 'none';\n",
              "        })();\n",
              "      </script>\n",
              "    </div>\n",
              "\n",
              "    </div>\n",
              "  </div>\n"
            ],
            "text/plain": [
              "   Unnamed: 0.1  Unnamed: 0  \\\n",
              "0             0           0   \n",
              "1             1           1   \n",
              "2             2           2   \n",
              "3             3           3   \n",
              "4             4           4   \n",
              "\n",
              "                                                Text    Sentiment  \\\n",
              "0   Enjoying a beautiful day at the park!        ...   Positive     \n",
              "1   Traffic was terrible this morning.           ...   Negative     \n",
              "2   Just finished an amazing workout! 💪          ...   Positive     \n",
              "3   Excited about the upcoming weekend getaway!  ...   Positive     \n",
              "4   Trying out a new recipe for dinner tonight.  ...   Neutral      \n",
              "\n",
              "             Timestamp            User     Platform  \\\n",
              "0  2023-01-15 12:30:00   User123          Twitter     \n",
              "1  2023-01-15 08:45:00   CommuterX        Twitter     \n",
              "2  2023-01-15 15:45:00   FitnessFan      Instagram    \n",
              "3  2023-01-15 18:20:00   AdventureX       Facebook    \n",
              "4  2023-01-15 19:55:00   ChefCook        Instagram    \n",
              "\n",
              "                                     Hashtags  Retweets  Likes       Country  \\\n",
              "0   #Nature #Park                                  15.0   30.0     USA         \n",
              "1   #Traffic #Morning                               5.0   10.0     Canada      \n",
              "2   #Fitness #Workout                              20.0   40.0   USA           \n",
              "3   #Travel #Adventure                              8.0   15.0     UK          \n",
              "4   #Cooking #Food                                 12.0   25.0    Australia    \n",
              "\n",
              "   Year  Month  Day  Hour  \n",
              "0  2023      1   15    12  \n",
              "1  2023      1   15     8  \n",
              "2  2023      1   15    15  \n",
              "3  2023      1   15    18  \n",
              "4  2023      1   15    19  "
            ]
          },
          "execution_count": 3,
          "metadata": {},
          "output_type": "execute_result"
        }
      ],
      "source": [
        "# Display the first few rows of the sentiment dataset to get an overview\n",
        "sentiment_data.head()"
      ]
    },
    {
      "cell_type": "code",
      "execution_count": null,
      "metadata": {
        "colab": {
          "base_uri": "https://localhost:8080/",
          "height": 206
        },
        "id": "8GTW8IHJi_lP",
        "outputId": "a6529bbe-dc1a-4fbb-917c-ba18965b264e"
      },
      "outputs": [
        {
          "data": {
            "application/vnd.google.colaboratory.intrinsic+json": {
              "summary": "{\n  \"name\": \"sentiment_data\",\n  \"rows\": 732,\n  \"fields\": [\n    {\n      \"column\": \"Text\",\n      \"properties\": {\n        \"dtype\": \"string\",\n        \"num_unique_values\": 707,\n        \"samples\": [\n          \"Walking the Great Wall of China, each step a testament to ancient engineering marvels. \",\n          \" Laughter is the key to joy\\u2014attending a stand-up comedy show. \",\n          \" The fear of the unknown is keeping me up at night.    \"\n        ],\n        \"semantic_type\": \"\",\n        \"description\": \"\"\n      }\n    },\n    {\n      \"column\": \"Sentiment\",\n      \"properties\": {\n        \"dtype\": \"category\",\n        \"num_unique_values\": 279,\n        \"samples\": [\n          \" Elation       \",\n          \" Confidence    \",\n          \" Loss \"\n        ],\n        \"semantic_type\": \"\",\n        \"description\": \"\"\n      }\n    },\n    {\n      \"column\": \"Timestamp\",\n      \"properties\": {\n        \"dtype\": \"object\",\n        \"num_unique_values\": 683,\n        \"samples\": [\n          \"2019-12-12 17:00:00\",\n          \"2018-03-10 09:45:00\",\n          \"2022-01-05 10:30:00\"\n        ],\n        \"semantic_type\": \"\",\n        \"description\": \"\"\n      }\n    },\n    {\n      \"column\": \"User\",\n      \"properties\": {\n        \"dtype\": \"string\",\n        \"num_unique_values\": 685,\n        \"samples\": [\n          \" VenomousHeart \",\n          \" GamingEnthusiast \",\n          \" DreamChaser       \"\n        ],\n        \"semantic_type\": \"\",\n        \"description\": \"\"\n      }\n    },\n    {\n      \"column\": \"Platform\",\n      \"properties\": {\n        \"dtype\": \"category\",\n        \"num_unique_values\": 4,\n        \"samples\": [\n          \" Instagram \",\n          \" Twitter \",\n          \" Twitter  \"\n        ],\n        \"semantic_type\": \"\",\n        \"description\": \"\"\n      }\n    },\n    {\n      \"column\": \"Hashtags\",\n      \"properties\": {\n        \"dtype\": \"string\",\n        \"num_unique_values\": 697,\n        \"samples\": [\n          \" #Fulfillment #PuzzleChallenge                \",\n          \" #Nostalgia #ClassicFilmMoments \",\n          \" #Isolation #EmotionalWinter            \"\n        ],\n        \"semantic_type\": \"\",\n        \"description\": \"\"\n      }\n    },\n    {\n      \"column\": \"Retweets\",\n      \"properties\": {\n        \"dtype\": \"number\",\n        \"std\": 7.061286414470444,\n        \"min\": 5.0,\n        \"max\": 40.0,\n        \"num_unique_values\": 26,\n        \"samples\": [\n          18.0,\n          17.0,\n          15.0\n        ],\n        \"semantic_type\": \"\",\n        \"description\": \"\"\n      }\n    },\n    {\n      \"column\": \"Likes\",\n      \"properties\": {\n        \"dtype\": \"number\",\n        \"std\": 14.089848390888775,\n        \"min\": 10.0,\n        \"max\": 80.0,\n        \"num_unique_values\": 38,\n        \"samples\": [\n          31.0,\n          51.0,\n          25.0\n        ],\n        \"semantic_type\": \"\",\n        \"description\": \"\"\n      }\n    },\n    {\n      \"column\": \"Country\",\n      \"properties\": {\n        \"dtype\": \"category\",\n        \"num_unique_values\": 115,\n        \"samples\": [\n          \" France         \",\n          \" Australia \",\n          \" India         \"\n        ],\n        \"semantic_type\": \"\",\n        \"description\": \"\"\n      }\n    },\n    {\n      \"column\": \"Year\",\n      \"properties\": {\n        \"dtype\": \"number\",\n        \"std\": 2,\n        \"min\": 2010,\n        \"max\": 2023,\n        \"num_unique_values\": 14,\n        \"samples\": [\n          2016,\n          2018,\n          2023\n        ],\n        \"semantic_type\": \"\",\n        \"description\": \"\"\n      }\n    },\n    {\n      \"column\": \"Month\",\n      \"properties\": {\n        \"dtype\": \"number\",\n        \"std\": 3,\n        \"min\": 1,\n        \"max\": 12,\n        \"num_unique_values\": 12,\n        \"samples\": [\n          10,\n          7,\n          1\n        ],\n        \"semantic_type\": \"\",\n        \"description\": \"\"\n      }\n    },\n    {\n      \"column\": \"Day\",\n      \"properties\": {\n        \"dtype\": \"number\",\n        \"std\": 8,\n        \"min\": 1,\n        \"max\": 31,\n        \"num_unique_values\": 31,\n        \"samples\": [\n          7,\n          30,\n          3\n        ],\n        \"semantic_type\": \"\",\n        \"description\": \"\"\n      }\n    },\n    {\n      \"column\": \"Hour\",\n      \"properties\": {\n        \"dtype\": \"number\",\n        \"std\": 4,\n        \"min\": 0,\n        \"max\": 23,\n        \"num_unique_values\": 22,\n        \"samples\": [\n          12,\n          20,\n          13\n        ],\n        \"semantic_type\": \"\",\n        \"description\": \"\"\n      }\n    }\n  ]\n}",
              "type": "dataframe",
              "variable_name": "sentiment_data"
            },
            "text/html": [
              "\n",
              "  <div id=\"df-66643b01-289b-4ac3-9b70-650581105054\" class=\"colab-df-container\">\n",
              "    <div>\n",
              "<style scoped>\n",
              "    .dataframe tbody tr th:only-of-type {\n",
              "        vertical-align: middle;\n",
              "    }\n",
              "\n",
              "    .dataframe tbody tr th {\n",
              "        vertical-align: top;\n",
              "    }\n",
              "\n",
              "    .dataframe thead th {\n",
              "        text-align: right;\n",
              "    }\n",
              "</style>\n",
              "<table border=\"1\" class=\"dataframe\">\n",
              "  <thead>\n",
              "    <tr style=\"text-align: right;\">\n",
              "      <th></th>\n",
              "      <th>Text</th>\n",
              "      <th>Sentiment</th>\n",
              "      <th>Timestamp</th>\n",
              "      <th>User</th>\n",
              "      <th>Platform</th>\n",
              "      <th>Hashtags</th>\n",
              "      <th>Retweets</th>\n",
              "      <th>Likes</th>\n",
              "      <th>Country</th>\n",
              "      <th>Year</th>\n",
              "      <th>Month</th>\n",
              "      <th>Day</th>\n",
              "      <th>Hour</th>\n",
              "    </tr>\n",
              "  </thead>\n",
              "  <tbody>\n",
              "    <tr>\n",
              "      <th>0</th>\n",
              "      <td>Enjoying a beautiful day at the park!        ...</td>\n",
              "      <td>Positive</td>\n",
              "      <td>2023-01-15 12:30:00</td>\n",
              "      <td>User123</td>\n",
              "      <td>Twitter</td>\n",
              "      <td>#Nature #Park</td>\n",
              "      <td>15.0</td>\n",
              "      <td>30.0</td>\n",
              "      <td>USA</td>\n",
              "      <td>2023</td>\n",
              "      <td>1</td>\n",
              "      <td>15</td>\n",
              "      <td>12</td>\n",
              "    </tr>\n",
              "    <tr>\n",
              "      <th>1</th>\n",
              "      <td>Traffic was terrible this morning.           ...</td>\n",
              "      <td>Negative</td>\n",
              "      <td>2023-01-15 08:45:00</td>\n",
              "      <td>CommuterX</td>\n",
              "      <td>Twitter</td>\n",
              "      <td>#Traffic #Morning</td>\n",
              "      <td>5.0</td>\n",
              "      <td>10.0</td>\n",
              "      <td>Canada</td>\n",
              "      <td>2023</td>\n",
              "      <td>1</td>\n",
              "      <td>15</td>\n",
              "      <td>8</td>\n",
              "    </tr>\n",
              "    <tr>\n",
              "      <th>2</th>\n",
              "      <td>Just finished an amazing workout! 💪          ...</td>\n",
              "      <td>Positive</td>\n",
              "      <td>2023-01-15 15:45:00</td>\n",
              "      <td>FitnessFan</td>\n",
              "      <td>Instagram</td>\n",
              "      <td>#Fitness #Workout</td>\n",
              "      <td>20.0</td>\n",
              "      <td>40.0</td>\n",
              "      <td>USA</td>\n",
              "      <td>2023</td>\n",
              "      <td>1</td>\n",
              "      <td>15</td>\n",
              "      <td>15</td>\n",
              "    </tr>\n",
              "    <tr>\n",
              "      <th>3</th>\n",
              "      <td>Excited about the upcoming weekend getaway!  ...</td>\n",
              "      <td>Positive</td>\n",
              "      <td>2023-01-15 18:20:00</td>\n",
              "      <td>AdventureX</td>\n",
              "      <td>Facebook</td>\n",
              "      <td>#Travel #Adventure</td>\n",
              "      <td>8.0</td>\n",
              "      <td>15.0</td>\n",
              "      <td>UK</td>\n",
              "      <td>2023</td>\n",
              "      <td>1</td>\n",
              "      <td>15</td>\n",
              "      <td>18</td>\n",
              "    </tr>\n",
              "    <tr>\n",
              "      <th>4</th>\n",
              "      <td>Trying out a new recipe for dinner tonight.  ...</td>\n",
              "      <td>Neutral</td>\n",
              "      <td>2023-01-15 19:55:00</td>\n",
              "      <td>ChefCook</td>\n",
              "      <td>Instagram</td>\n",
              "      <td>#Cooking #Food</td>\n",
              "      <td>12.0</td>\n",
              "      <td>25.0</td>\n",
              "      <td>Australia</td>\n",
              "      <td>2023</td>\n",
              "      <td>1</td>\n",
              "      <td>15</td>\n",
              "      <td>19</td>\n",
              "    </tr>\n",
              "  </tbody>\n",
              "</table>\n",
              "</div>\n",
              "    <div class=\"colab-df-buttons\">\n",
              "\n",
              "  <div class=\"colab-df-container\">\n",
              "    <button class=\"colab-df-convert\" onclick=\"convertToInteractive('df-66643b01-289b-4ac3-9b70-650581105054')\"\n",
              "            title=\"Convert this dataframe to an interactive table.\"\n",
              "            style=\"display:none;\">\n",
              "\n",
              "  <svg xmlns=\"http://www.w3.org/2000/svg\" height=\"24px\" viewBox=\"0 -960 960 960\">\n",
              "    <path d=\"M120-120v-720h720v720H120Zm60-500h600v-160H180v160Zm220 220h160v-160H400v160Zm0 220h160v-160H400v160ZM180-400h160v-160H180v160Zm440 0h160v-160H620v160ZM180-180h160v-160H180v160Zm440 0h160v-160H620v160Z\"/>\n",
              "  </svg>\n",
              "    </button>\n",
              "\n",
              "  <style>\n",
              "    .colab-df-container {\n",
              "      display:flex;\n",
              "      gap: 12px;\n",
              "    }\n",
              "\n",
              "    .colab-df-convert {\n",
              "      background-color: #E8F0FE;\n",
              "      border: none;\n",
              "      border-radius: 50%;\n",
              "      cursor: pointer;\n",
              "      display: none;\n",
              "      fill: #1967D2;\n",
              "      height: 32px;\n",
              "      padding: 0 0 0 0;\n",
              "      width: 32px;\n",
              "    }\n",
              "\n",
              "    .colab-df-convert:hover {\n",
              "      background-color: #E2EBFA;\n",
              "      box-shadow: 0px 1px 2px rgba(60, 64, 67, 0.3), 0px 1px 3px 1px rgba(60, 64, 67, 0.15);\n",
              "      fill: #174EA6;\n",
              "    }\n",
              "\n",
              "    .colab-df-buttons div {\n",
              "      margin-bottom: 4px;\n",
              "    }\n",
              "\n",
              "    [theme=dark] .colab-df-convert {\n",
              "      background-color: #3B4455;\n",
              "      fill: #D2E3FC;\n",
              "    }\n",
              "\n",
              "    [theme=dark] .colab-df-convert:hover {\n",
              "      background-color: #434B5C;\n",
              "      box-shadow: 0px 1px 3px 1px rgba(0, 0, 0, 0.15);\n",
              "      filter: drop-shadow(0px 1px 2px rgba(0, 0, 0, 0.3));\n",
              "      fill: #FFFFFF;\n",
              "    }\n",
              "  </style>\n",
              "\n",
              "    <script>\n",
              "      const buttonEl =\n",
              "        document.querySelector('#df-66643b01-289b-4ac3-9b70-650581105054 button.colab-df-convert');\n",
              "      buttonEl.style.display =\n",
              "        google.colab.kernel.accessAllowed ? 'block' : 'none';\n",
              "\n",
              "      async function convertToInteractive(key) {\n",
              "        const element = document.querySelector('#df-66643b01-289b-4ac3-9b70-650581105054');\n",
              "        const dataTable =\n",
              "          await google.colab.kernel.invokeFunction('convertToInteractive',\n",
              "                                                    [key], {});\n",
              "        if (!dataTable) return;\n",
              "\n",
              "        const docLinkHtml = 'Like what you see? Visit the ' +\n",
              "          '<a target=\"_blank\" href=https://colab.research.google.com/notebooks/data_table.ipynb>data table notebook</a>'\n",
              "          + ' to learn more about interactive tables.';\n",
              "        element.innerHTML = '';\n",
              "        dataTable['output_type'] = 'display_data';\n",
              "        await google.colab.output.renderOutput(dataTable, element);\n",
              "        const docLink = document.createElement('div');\n",
              "        docLink.innerHTML = docLinkHtml;\n",
              "        element.appendChild(docLink);\n",
              "      }\n",
              "    </script>\n",
              "  </div>\n",
              "\n",
              "\n",
              "<div id=\"df-9695dc14-3581-45c3-a630-8d3eb7f2f442\">\n",
              "  <button class=\"colab-df-quickchart\" onclick=\"quickchart('df-9695dc14-3581-45c3-a630-8d3eb7f2f442')\"\n",
              "            title=\"Suggest charts\"\n",
              "            style=\"display:none;\">\n",
              "\n",
              "<svg xmlns=\"http://www.w3.org/2000/svg\" height=\"24px\"viewBox=\"0 0 24 24\"\n",
              "     width=\"24px\">\n",
              "    <g>\n",
              "        <path d=\"M19 3H5c-1.1 0-2 .9-2 2v14c0 1.1.9 2 2 2h14c1.1 0 2-.9 2-2V5c0-1.1-.9-2-2-2zM9 17H7v-7h2v7zm4 0h-2V7h2v10zm4 0h-2v-4h2v4z\"/>\n",
              "    </g>\n",
              "</svg>\n",
              "  </button>\n",
              "\n",
              "<style>\n",
              "  .colab-df-quickchart {\n",
              "      --bg-color: #E8F0FE;\n",
              "      --fill-color: #1967D2;\n",
              "      --hover-bg-color: #E2EBFA;\n",
              "      --hover-fill-color: #174EA6;\n",
              "      --disabled-fill-color: #AAA;\n",
              "      --disabled-bg-color: #DDD;\n",
              "  }\n",
              "\n",
              "  [theme=dark] .colab-df-quickchart {\n",
              "      --bg-color: #3B4455;\n",
              "      --fill-color: #D2E3FC;\n",
              "      --hover-bg-color: #434B5C;\n",
              "      --hover-fill-color: #FFFFFF;\n",
              "      --disabled-bg-color: #3B4455;\n",
              "      --disabled-fill-color: #666;\n",
              "  }\n",
              "\n",
              "  .colab-df-quickchart {\n",
              "    background-color: var(--bg-color);\n",
              "    border: none;\n",
              "    border-radius: 50%;\n",
              "    cursor: pointer;\n",
              "    display: none;\n",
              "    fill: var(--fill-color);\n",
              "    height: 32px;\n",
              "    padding: 0;\n",
              "    width: 32px;\n",
              "  }\n",
              "\n",
              "  .colab-df-quickchart:hover {\n",
              "    background-color: var(--hover-bg-color);\n",
              "    box-shadow: 0 1px 2px rgba(60, 64, 67, 0.3), 0 1px 3px 1px rgba(60, 64, 67, 0.15);\n",
              "    fill: var(--button-hover-fill-color);\n",
              "  }\n",
              "\n",
              "  .colab-df-quickchart-complete:disabled,\n",
              "  .colab-df-quickchart-complete:disabled:hover {\n",
              "    background-color: var(--disabled-bg-color);\n",
              "    fill: var(--disabled-fill-color);\n",
              "    box-shadow: none;\n",
              "  }\n",
              "\n",
              "  .colab-df-spinner {\n",
              "    border: 2px solid var(--fill-color);\n",
              "    border-color: transparent;\n",
              "    border-bottom-color: var(--fill-color);\n",
              "    animation:\n",
              "      spin 1s steps(1) infinite;\n",
              "  }\n",
              "\n",
              "  @keyframes spin {\n",
              "    0% {\n",
              "      border-color: transparent;\n",
              "      border-bottom-color: var(--fill-color);\n",
              "      border-left-color: var(--fill-color);\n",
              "    }\n",
              "    20% {\n",
              "      border-color: transparent;\n",
              "      border-left-color: var(--fill-color);\n",
              "      border-top-color: var(--fill-color);\n",
              "    }\n",
              "    30% {\n",
              "      border-color: transparent;\n",
              "      border-left-color: var(--fill-color);\n",
              "      border-top-color: var(--fill-color);\n",
              "      border-right-color: var(--fill-color);\n",
              "    }\n",
              "    40% {\n",
              "      border-color: transparent;\n",
              "      border-right-color: var(--fill-color);\n",
              "      border-top-color: var(--fill-color);\n",
              "    }\n",
              "    60% {\n",
              "      border-color: transparent;\n",
              "      border-right-color: var(--fill-color);\n",
              "    }\n",
              "    80% {\n",
              "      border-color: transparent;\n",
              "      border-right-color: var(--fill-color);\n",
              "      border-bottom-color: var(--fill-color);\n",
              "    }\n",
              "    90% {\n",
              "      border-color: transparent;\n",
              "      border-bottom-color: var(--fill-color);\n",
              "    }\n",
              "  }\n",
              "</style>\n",
              "\n",
              "  <script>\n",
              "    async function quickchart(key) {\n",
              "      const quickchartButtonEl =\n",
              "        document.querySelector('#' + key + ' button');\n",
              "      quickchartButtonEl.disabled = true;  // To prevent multiple clicks.\n",
              "      quickchartButtonEl.classList.add('colab-df-spinner');\n",
              "      try {\n",
              "        const charts = await google.colab.kernel.invokeFunction(\n",
              "            'suggestCharts', [key], {});\n",
              "      } catch (error) {\n",
              "        console.error('Error during call to suggestCharts:', error);\n",
              "      }\n",
              "      quickchartButtonEl.classList.remove('colab-df-spinner');\n",
              "      quickchartButtonEl.classList.add('colab-df-quickchart-complete');\n",
              "    }\n",
              "    (() => {\n",
              "      let quickchartButtonEl =\n",
              "        document.querySelector('#df-9695dc14-3581-45c3-a630-8d3eb7f2f442 button');\n",
              "      quickchartButtonEl.style.display =\n",
              "        google.colab.kernel.accessAllowed ? 'block' : 'none';\n",
              "    })();\n",
              "  </script>\n",
              "</div>\n",
              "\n",
              "    </div>\n",
              "  </div>\n"
            ],
            "text/plain": [
              "                                                Text    Sentiment  \\\n",
              "0   Enjoying a beautiful day at the park!        ...   Positive     \n",
              "1   Traffic was terrible this morning.           ...   Negative     \n",
              "2   Just finished an amazing workout! 💪          ...   Positive     \n",
              "3   Excited about the upcoming weekend getaway!  ...   Positive     \n",
              "4   Trying out a new recipe for dinner tonight.  ...   Neutral      \n",
              "\n",
              "             Timestamp            User     Platform  \\\n",
              "0  2023-01-15 12:30:00   User123          Twitter     \n",
              "1  2023-01-15 08:45:00   CommuterX        Twitter     \n",
              "2  2023-01-15 15:45:00   FitnessFan      Instagram    \n",
              "3  2023-01-15 18:20:00   AdventureX       Facebook    \n",
              "4  2023-01-15 19:55:00   ChefCook        Instagram    \n",
              "\n",
              "                                     Hashtags  Retweets  Likes       Country  \\\n",
              "0   #Nature #Park                                  15.0   30.0     USA         \n",
              "1   #Traffic #Morning                               5.0   10.0     Canada      \n",
              "2   #Fitness #Workout                              20.0   40.0   USA           \n",
              "3   #Travel #Adventure                              8.0   15.0     UK          \n",
              "4   #Cooking #Food                                 12.0   25.0    Australia    \n",
              "\n",
              "   Year  Month  Day  Hour  \n",
              "0  2023      1   15    12  \n",
              "1  2023      1   15     8  \n",
              "2  2023      1   15    15  \n",
              "3  2023      1   15    18  \n",
              "4  2023      1   15    19  "
            ]
          },
          "execution_count": 7,
          "metadata": {},
          "output_type": "execute_result"
        }
      ],
      "source": [
        "# Drop the unwanted columns\n",
        "sentiment_data.drop(columns=['Unnamed: 0.1','Unnamed: 0'],inplace=True)\n",
        "sentiment_data.head()"
      ]
    },
    {
      "cell_type": "code",
      "execution_count": null,
      "metadata": {
        "colab": {
          "base_uri": "https://localhost:8080/"
        },
        "id": "4zKmCiI8t-Mg",
        "outputId": "8306af52-17d6-45cc-e8e8-18ac7e0fdb0b"
      },
      "outputs": [
        {
          "name": "stdout",
          "output_type": "stream",
          "text": [
            "<class 'pandas.core.frame.DataFrame'>\n",
            "RangeIndex: 732 entries, 0 to 731\n",
            "Data columns (total 13 columns):\n",
            " #   Column     Non-Null Count  Dtype  \n",
            "---  ------     --------------  -----  \n",
            " 0   Text       732 non-null    object \n",
            " 1   Sentiment  732 non-null    object \n",
            " 2   Timestamp  732 non-null    object \n",
            " 3   User       732 non-null    object \n",
            " 4   Platform   732 non-null    object \n",
            " 5   Hashtags   732 non-null    object \n",
            " 6   Retweets   732 non-null    float64\n",
            " 7   Likes      732 non-null    float64\n",
            " 8   Country    732 non-null    object \n",
            " 9   Year       732 non-null    int64  \n",
            " 10  Month      732 non-null    int64  \n",
            " 11  Day        732 non-null    int64  \n",
            " 12  Hour       732 non-null    int64  \n",
            "dtypes: float64(2), int64(4), object(7)\n",
            "memory usage: 74.5+ KB\n"
          ]
        }
      ],
      "source": [
        "# Display a concise summary of the sentiment dataset\n",
        "sentiment_data.info()"
      ]
    },
    {
      "cell_type": "markdown",
      "metadata": {
        "id": "g_CJ8FQfvfs3"
      },
      "source": [
        "##Observation\n",
        "\n",
        "There are no null values in the data.\n",
        "\n",
        "Also, the columns `Text`, `Sentiment`, `Platform`, and `Hashtags` appear to be essential for our sentiment analysis. The `Text` and `Hashtags` columns will help us identify the sentiment expressed in the text, while the `Sentiment` column will serve as the label for our analysis. Additionally, the `Platform` column will provide information on the source from which the text was extracted."
      ]
    },
    {
      "cell_type": "code",
      "execution_count": null,
      "metadata": {
        "id": "2TI2JyMpvVzo"
      },
      "outputs": [],
      "source": [
        "useful_columns = ['Text', 'Sentiment', 'Platform', 'Hashtags']"
      ]
    },
    {
      "cell_type": "code",
      "execution_count": null,
      "metadata": {
        "id": "jOg8CjaaxrUZ"
      },
      "outputs": [],
      "source": [
        "# Filter the sentiment dataset to include only the relevant columns\n",
        "sentiment_data = sentiment_data[useful_columns]"
      ]
    },
    {
      "cell_type": "code",
      "execution_count": null,
      "metadata": {
        "colab": {
          "base_uri": "https://localhost:8080/",
          "height": 206
        },
        "id": "GRynh4YMxtsA",
        "outputId": "140ebb41-9d63-44b4-ad6c-45da1c1c58b7"
      },
      "outputs": [
        {
          "data": {
            "application/vnd.google.colaboratory.intrinsic+json": {
              "summary": "{\n  \"name\": \"sentiment_data\",\n  \"rows\": 732,\n  \"fields\": [\n    {\n      \"column\": \"Text\",\n      \"properties\": {\n        \"dtype\": \"string\",\n        \"num_unique_values\": 707,\n        \"samples\": [\n          \"Walking the Great Wall of China, each step a testament to ancient engineering marvels. \",\n          \" Laughter is the key to joy\\u2014attending a stand-up comedy show. \",\n          \" The fear of the unknown is keeping me up at night.    \"\n        ],\n        \"semantic_type\": \"\",\n        \"description\": \"\"\n      }\n    },\n    {\n      \"column\": \"Sentiment\",\n      \"properties\": {\n        \"dtype\": \"category\",\n        \"num_unique_values\": 279,\n        \"samples\": [\n          \" Elation       \",\n          \" Confidence    \",\n          \" Loss \"\n        ],\n        \"semantic_type\": \"\",\n        \"description\": \"\"\n      }\n    },\n    {\n      \"column\": \"Platform\",\n      \"properties\": {\n        \"dtype\": \"category\",\n        \"num_unique_values\": 4,\n        \"samples\": [\n          \" Instagram \",\n          \" Twitter \",\n          \" Twitter  \"\n        ],\n        \"semantic_type\": \"\",\n        \"description\": \"\"\n      }\n    },\n    {\n      \"column\": \"Hashtags\",\n      \"properties\": {\n        \"dtype\": \"string\",\n        \"num_unique_values\": 697,\n        \"samples\": [\n          \" #Fulfillment #PuzzleChallenge                \",\n          \" #Nostalgia #ClassicFilmMoments \",\n          \" #Isolation #EmotionalWinter            \"\n        ],\n        \"semantic_type\": \"\",\n        \"description\": \"\"\n      }\n    }\n  ]\n}",
              "type": "dataframe",
              "variable_name": "sentiment_data"
            },
            "text/html": [
              "\n",
              "  <div id=\"df-f0e8d4f6-6cdf-4ab3-8cc2-d0940aef8cc7\" class=\"colab-df-container\">\n",
              "    <div>\n",
              "<style scoped>\n",
              "    .dataframe tbody tr th:only-of-type {\n",
              "        vertical-align: middle;\n",
              "    }\n",
              "\n",
              "    .dataframe tbody tr th {\n",
              "        vertical-align: top;\n",
              "    }\n",
              "\n",
              "    .dataframe thead th {\n",
              "        text-align: right;\n",
              "    }\n",
              "</style>\n",
              "<table border=\"1\" class=\"dataframe\">\n",
              "  <thead>\n",
              "    <tr style=\"text-align: right;\">\n",
              "      <th></th>\n",
              "      <th>Text</th>\n",
              "      <th>Sentiment</th>\n",
              "      <th>Platform</th>\n",
              "      <th>Hashtags</th>\n",
              "    </tr>\n",
              "  </thead>\n",
              "  <tbody>\n",
              "    <tr>\n",
              "      <th>0</th>\n",
              "      <td>Enjoying a beautiful day at the park!        ...</td>\n",
              "      <td>Positive</td>\n",
              "      <td>Twitter</td>\n",
              "      <td>#Nature #Park</td>\n",
              "    </tr>\n",
              "    <tr>\n",
              "      <th>1</th>\n",
              "      <td>Traffic was terrible this morning.           ...</td>\n",
              "      <td>Negative</td>\n",
              "      <td>Twitter</td>\n",
              "      <td>#Traffic #Morning</td>\n",
              "    </tr>\n",
              "    <tr>\n",
              "      <th>2</th>\n",
              "      <td>Just finished an amazing workout! 💪          ...</td>\n",
              "      <td>Positive</td>\n",
              "      <td>Instagram</td>\n",
              "      <td>#Fitness #Workout</td>\n",
              "    </tr>\n",
              "    <tr>\n",
              "      <th>3</th>\n",
              "      <td>Excited about the upcoming weekend getaway!  ...</td>\n",
              "      <td>Positive</td>\n",
              "      <td>Facebook</td>\n",
              "      <td>#Travel #Adventure</td>\n",
              "    </tr>\n",
              "    <tr>\n",
              "      <th>4</th>\n",
              "      <td>Trying out a new recipe for dinner tonight.  ...</td>\n",
              "      <td>Neutral</td>\n",
              "      <td>Instagram</td>\n",
              "      <td>#Cooking #Food</td>\n",
              "    </tr>\n",
              "  </tbody>\n",
              "</table>\n",
              "</div>\n",
              "    <div class=\"colab-df-buttons\">\n",
              "\n",
              "  <div class=\"colab-df-container\">\n",
              "    <button class=\"colab-df-convert\" onclick=\"convertToInteractive('df-f0e8d4f6-6cdf-4ab3-8cc2-d0940aef8cc7')\"\n",
              "            title=\"Convert this dataframe to an interactive table.\"\n",
              "            style=\"display:none;\">\n",
              "\n",
              "  <svg xmlns=\"http://www.w3.org/2000/svg\" height=\"24px\" viewBox=\"0 -960 960 960\">\n",
              "    <path d=\"M120-120v-720h720v720H120Zm60-500h600v-160H180v160Zm220 220h160v-160H400v160Zm0 220h160v-160H400v160ZM180-400h160v-160H180v160Zm440 0h160v-160H620v160ZM180-180h160v-160H180v160Zm440 0h160v-160H620v160Z\"/>\n",
              "  </svg>\n",
              "    </button>\n",
              "\n",
              "  <style>\n",
              "    .colab-df-container {\n",
              "      display:flex;\n",
              "      gap: 12px;\n",
              "    }\n",
              "\n",
              "    .colab-df-convert {\n",
              "      background-color: #E8F0FE;\n",
              "      border: none;\n",
              "      border-radius: 50%;\n",
              "      cursor: pointer;\n",
              "      display: none;\n",
              "      fill: #1967D2;\n",
              "      height: 32px;\n",
              "      padding: 0 0 0 0;\n",
              "      width: 32px;\n",
              "    }\n",
              "\n",
              "    .colab-df-convert:hover {\n",
              "      background-color: #E2EBFA;\n",
              "      box-shadow: 0px 1px 2px rgba(60, 64, 67, 0.3), 0px 1px 3px 1px rgba(60, 64, 67, 0.15);\n",
              "      fill: #174EA6;\n",
              "    }\n",
              "\n",
              "    .colab-df-buttons div {\n",
              "      margin-bottom: 4px;\n",
              "    }\n",
              "\n",
              "    [theme=dark] .colab-df-convert {\n",
              "      background-color: #3B4455;\n",
              "      fill: #D2E3FC;\n",
              "    }\n",
              "\n",
              "    [theme=dark] .colab-df-convert:hover {\n",
              "      background-color: #434B5C;\n",
              "      box-shadow: 0px 1px 3px 1px rgba(0, 0, 0, 0.15);\n",
              "      filter: drop-shadow(0px 1px 2px rgba(0, 0, 0, 0.3));\n",
              "      fill: #FFFFFF;\n",
              "    }\n",
              "  </style>\n",
              "\n",
              "    <script>\n",
              "      const buttonEl =\n",
              "        document.querySelector('#df-f0e8d4f6-6cdf-4ab3-8cc2-d0940aef8cc7 button.colab-df-convert');\n",
              "      buttonEl.style.display =\n",
              "        google.colab.kernel.accessAllowed ? 'block' : 'none';\n",
              "\n",
              "      async function convertToInteractive(key) {\n",
              "        const element = document.querySelector('#df-f0e8d4f6-6cdf-4ab3-8cc2-d0940aef8cc7');\n",
              "        const dataTable =\n",
              "          await google.colab.kernel.invokeFunction('convertToInteractive',\n",
              "                                                    [key], {});\n",
              "        if (!dataTable) return;\n",
              "\n",
              "        const docLinkHtml = 'Like what you see? Visit the ' +\n",
              "          '<a target=\"_blank\" href=https://colab.research.google.com/notebooks/data_table.ipynb>data table notebook</a>'\n",
              "          + ' to learn more about interactive tables.';\n",
              "        element.innerHTML = '';\n",
              "        dataTable['output_type'] = 'display_data';\n",
              "        await google.colab.output.renderOutput(dataTable, element);\n",
              "        const docLink = document.createElement('div');\n",
              "        docLink.innerHTML = docLinkHtml;\n",
              "        element.appendChild(docLink);\n",
              "      }\n",
              "    </script>\n",
              "  </div>\n",
              "\n",
              "\n",
              "    <div id=\"df-dca21ca4-4a65-48c8-85e1-3b89582136f7\">\n",
              "      <button class=\"colab-df-quickchart\" onclick=\"quickchart('df-dca21ca4-4a65-48c8-85e1-3b89582136f7')\"\n",
              "                title=\"Suggest charts\"\n",
              "                style=\"display:none;\">\n",
              "\n",
              "<svg xmlns=\"http://www.w3.org/2000/svg\" height=\"24px\"viewBox=\"0 0 24 24\"\n",
              "     width=\"24px\">\n",
              "    <g>\n",
              "        <path d=\"M19 3H5c-1.1 0-2 .9-2 2v14c0 1.1.9 2 2 2h14c1.1 0 2-.9 2-2V5c0-1.1-.9-2-2-2zM9 17H7v-7h2v7zm4 0h-2V7h2v10zm4 0h-2v-4h2v4z\"/>\n",
              "    </g>\n",
              "</svg>\n",
              "      </button>\n",
              "\n",
              "<style>\n",
              "  .colab-df-quickchart {\n",
              "      --bg-color: #E8F0FE;\n",
              "      --fill-color: #1967D2;\n",
              "      --hover-bg-color: #E2EBFA;\n",
              "      --hover-fill-color: #174EA6;\n",
              "      --disabled-fill-color: #AAA;\n",
              "      --disabled-bg-color: #DDD;\n",
              "  }\n",
              "\n",
              "  [theme=dark] .colab-df-quickchart {\n",
              "      --bg-color: #3B4455;\n",
              "      --fill-color: #D2E3FC;\n",
              "      --hover-bg-color: #434B5C;\n",
              "      --hover-fill-color: #FFFFFF;\n",
              "      --disabled-bg-color: #3B4455;\n",
              "      --disabled-fill-color: #666;\n",
              "  }\n",
              "\n",
              "  .colab-df-quickchart {\n",
              "    background-color: var(--bg-color);\n",
              "    border: none;\n",
              "    border-radius: 50%;\n",
              "    cursor: pointer;\n",
              "    display: none;\n",
              "    fill: var(--fill-color);\n",
              "    height: 32px;\n",
              "    padding: 0;\n",
              "    width: 32px;\n",
              "  }\n",
              "\n",
              "  .colab-df-quickchart:hover {\n",
              "    background-color: var(--hover-bg-color);\n",
              "    box-shadow: 0 1px 2px rgba(60, 64, 67, 0.3), 0 1px 3px 1px rgba(60, 64, 67, 0.15);\n",
              "    fill: var(--button-hover-fill-color);\n",
              "  }\n",
              "\n",
              "  .colab-df-quickchart-complete:disabled,\n",
              "  .colab-df-quickchart-complete:disabled:hover {\n",
              "    background-color: var(--disabled-bg-color);\n",
              "    fill: var(--disabled-fill-color);\n",
              "    box-shadow: none;\n",
              "  }\n",
              "\n",
              "  .colab-df-spinner {\n",
              "    border: 2px solid var(--fill-color);\n",
              "    border-color: transparent;\n",
              "    border-bottom-color: var(--fill-color);\n",
              "    animation:\n",
              "      spin 1s steps(1) infinite;\n",
              "  }\n",
              "\n",
              "  @keyframes spin {\n",
              "    0% {\n",
              "      border-color: transparent;\n",
              "      border-bottom-color: var(--fill-color);\n",
              "      border-left-color: var(--fill-color);\n",
              "    }\n",
              "    20% {\n",
              "      border-color: transparent;\n",
              "      border-left-color: var(--fill-color);\n",
              "      border-top-color: var(--fill-color);\n",
              "    }\n",
              "    30% {\n",
              "      border-color: transparent;\n",
              "      border-left-color: var(--fill-color);\n",
              "      border-top-color: var(--fill-color);\n",
              "      border-right-color: var(--fill-color);\n",
              "    }\n",
              "    40% {\n",
              "      border-color: transparent;\n",
              "      border-right-color: var(--fill-color);\n",
              "      border-top-color: var(--fill-color);\n",
              "    }\n",
              "    60% {\n",
              "      border-color: transparent;\n",
              "      border-right-color: var(--fill-color);\n",
              "    }\n",
              "    80% {\n",
              "      border-color: transparent;\n",
              "      border-right-color: var(--fill-color);\n",
              "      border-bottom-color: var(--fill-color);\n",
              "    }\n",
              "    90% {\n",
              "      border-color: transparent;\n",
              "      border-bottom-color: var(--fill-color);\n",
              "    }\n",
              "  }\n",
              "</style>\n",
              "\n",
              "      <script>\n",
              "        async function quickchart(key) {\n",
              "          const quickchartButtonEl =\n",
              "            document.querySelector('#' + key + ' button');\n",
              "          quickchartButtonEl.disabled = true;  // To prevent multiple clicks.\n",
              "          quickchartButtonEl.classList.add('colab-df-spinner');\n",
              "          try {\n",
              "            const charts = await google.colab.kernel.invokeFunction(\n",
              "                'suggestCharts', [key], {});\n",
              "          } catch (error) {\n",
              "            console.error('Error during call to suggestCharts:', error);\n",
              "          }\n",
              "          quickchartButtonEl.classList.remove('colab-df-spinner');\n",
              "          quickchartButtonEl.classList.add('colab-df-quickchart-complete');\n",
              "        }\n",
              "        (() => {\n",
              "          let quickchartButtonEl =\n",
              "            document.querySelector('#df-dca21ca4-4a65-48c8-85e1-3b89582136f7 button');\n",
              "          quickchartButtonEl.style.display =\n",
              "            google.colab.kernel.accessAllowed ? 'block' : 'none';\n",
              "        })();\n",
              "      </script>\n",
              "    </div>\n",
              "\n",
              "    </div>\n",
              "  </div>\n"
            ],
            "text/plain": [
              "                                                Text    Sentiment  \\\n",
              "0   Enjoying a beautiful day at the park!        ...   Positive     \n",
              "1   Traffic was terrible this morning.           ...   Negative     \n",
              "2   Just finished an amazing workout! 💪          ...   Positive     \n",
              "3   Excited about the upcoming weekend getaway!  ...   Positive     \n",
              "4   Trying out a new recipe for dinner tonight.  ...   Neutral      \n",
              "\n",
              "      Platform                                    Hashtags  \n",
              "0    Twitter     #Nature #Park                              \n",
              "1    Twitter     #Traffic #Morning                          \n",
              "2   Instagram    #Fitness #Workout                          \n",
              "3    Facebook    #Travel #Adventure                         \n",
              "4   Instagram    #Cooking #Food                             "
            ]
          },
          "execution_count": 6,
          "metadata": {},
          "output_type": "execute_result"
        }
      ],
      "source": [
        "# Display the first few rows of the sentiment dataset to get an overview\n",
        "sentiment_data.head()"
      ]
    },
    {
      "cell_type": "markdown",
      "metadata": {
        "id": "cjce0l9nysAc"
      },
      "source": [
        "## 2.1.2 Labeling Data<br>\n",
        " Our sentiment dataset includes a range of sentiments like `surprise`, `excitement`, `admiration`, `thrill`, `contentment`, and others, we are manually going to group them into the broader categories of `Positive`, `Negative`, and `Neutral` for simplicity and effective analysis.\n"
      ]
    },
    {
      "cell_type": "code",
      "execution_count": null,
      "metadata": {
        "colab": {
          "base_uri": "https://localhost:8080/"
        },
        "id": "2rxeFdlekna9",
        "outputId": "6384e9b0-31c4-4122-b272-f7b947891b95"
      },
      "outputs": [
        {
          "data": {
            "text/plain": [
              "array([' Positive  ', ' Negative  ', ' Neutral   ', ' Anger        ',\n",
              "       ' Fear         ', ' Sadness      ', ' Disgust      ',\n",
              "       ' Happiness    ', ' Joy          ', ' Love         ',\n",
              "       ' Amusement    ', ' Enjoyment    ', ' Admiration   ',\n",
              "       ' Affection    ', ' Awe          ', ' Disappointed ',\n",
              "       ' Surprise     ', ' Acceptance   ', ' Adoration    ',\n",
              "       ' Anticipation ', ' Bitter       ', ' Calmness     ',\n",
              "       ' Confusion    ', ' Excitement   ', ' Kind         ',\n",
              "       ' Pride        ', ' Shame        ', ' Confusion ', ' Excitement ',\n",
              "       ' Shame ', ' Elation       ', ' Euphoria      ', ' Contentment   ',\n",
              "       ' Serenity      ', ' Gratitude     ', ' Hope          ',\n",
              "       ' Empowerment   ', ' Compassion    ', ' Tenderness    ',\n",
              "       ' Arousal       ', ' Enthusiasm    ', ' Fulfillment  ',\n",
              "       ' Reverence     ', ' Compassion', ' Fulfillment   ', ' Reverence ',\n",
              "       ' Elation   ', ' Despair         ', ' Grief           ',\n",
              "       ' Loneliness      ', ' Jealousy        ', ' Resentment      ',\n",
              "       ' Frustration     ', ' Boredom         ', ' Anxiety         ',\n",
              "       ' Intimidation    ', ' Helplessness    ', ' Envy            ',\n",
              "       ' Regret         ', ' Disgust         ', ' Despair      ',\n",
              "       ' Loneliness ', ' Frustration ', ' Anxiety   ', ' Intimidation ',\n",
              "       ' Helplessness ', ' Jealousy    ', ' Curiosity       ',\n",
              "       ' Indifference    ', ' Confusion       ', ' Numbness        ',\n",
              "       ' Melancholy      ', ' Nostalgia       ', ' Ambivalence     ',\n",
              "       ' Acceptance      ', ' Determination   ', ' Serenity        ',\n",
              "       ' Numbness ', ' Zest ', ' Contentment ', ' Hopeful ', ' Proud ',\n",
              "       ' Grateful ', ' Empathetic ', ' Compassionate ', ' Playful ',\n",
              "       ' Free-spirited ', ' Inspired ', ' Confident ', ' Serenity ',\n",
              "       ' Curiosity ', ' Ambivalence ', ' Despair ', ' Bitterness ',\n",
              "       ' Yearning ', ' Fearful ', ' Apprehensive ', ' Overwhelmed ',\n",
              "       ' Jealous ', ' Devastated ', ' Frustrated ', ' Envious ',\n",
              "       ' Dismissive ', ' Awe           ', ' Determination ',\n",
              "       ' Nostalgia      ', ' Thrill        ', ' Calmness      ',\n",
              "       ' Overwhelmed   ', ' Gratitude   ', ' Bittersweet ',\n",
              "       ' Curiosity     ', ' Admiration    ', ' Overjoyed     ',\n",
              "       ' Inspiration   ', ' Motivation    ', ' Amusement     ',\n",
              "       ' Contemplation ', ' JoyfulReunion ', ' Excitement    ',\n",
              "       ' Satisfaction  ', ' Blessed       ', ' Anticipation  ',\n",
              "       ' Reflection    ', ' Nostalgia     ', ' Appreciation  ',\n",
              "       ' Confidence    ', ' Surprise      ', ' Accomplishment ',\n",
              "       ' Wonderment    ', ' Optimism      ', ' Pride         ',\n",
              "       ' Happiness     ', ' Curiosity   ', ' Enchantment   ',\n",
              "       ' Intrigue      ', ' PlayfulJoy    ', ' Mindfulness   ',\n",
              "       ' DreamChaser   ', ' Elegance ', ' Whimsy        ', ' Pensive ',\n",
              "       ' Thrill      ', ' Harmony    ', ' Creativity   ', ' Radiance    ',\n",
              "       ' Wonder     ', ' Rejuvenation ', ' Inspiration ',\n",
              "       ' Coziness     ', ' Gratitude  ', ' Adventure ', ' Euphoria   ',\n",
              "       ' Awe    ', ' Melodic       ', ' FestiveJoy    ',\n",
              "       ' InnerJourney  ', ' Freedom       ', ' Dazzle        ',\n",
              "       ' Adrenaline     ', ' Harmony       ', ' ArtisticBurst ',\n",
              "       ' Radiance      ', ' Wonder       ', ' Inspiration  ',\n",
              "       ' CulinaryOdyssey ', ' Euphoria     ', ' Curiosity  ',\n",
              "       ' Resilience   ', ' Immersion ', ' Nostalgia ', ' Spark        ',\n",
              "       ' Gratitude    ', ' Marvel       ', ' Serenity   ',\n",
              "       ' Heartbreak    ', ' Loneliness    ', ' Grief      ',\n",
              "       ' Despair   ', ' Betrayal      ', ' Suffering ',\n",
              "       ' EmotionalStorm ', ' Regret        ', ' Isolation ',\n",
              "       ' Disappointment ', ' LostLove ', ' Melancholy ', ' Exhaustion ',\n",
              "       ' Sorrow      ', ' Darkness     ', ' Desperation ', ' Ruins      ',\n",
              "       ' Desolation ', ' Regret ', ' Grief ', ' Heartbreak ',\n",
              "       ' Betrayal ', ' Resilience ', ' Sorrow ', ' Loss ', ' Heartache ',\n",
              "       ' Solitude ', ' Joy ', ' Happiness ', ' Enthusiasm ',\n",
              "       ' Gratitude ', ' Positivity ', ' Kindness ', ' Friendship ',\n",
              "       ' Love ', ' Surprise ', ' Success ', ' Thrill ', ' Reflection ',\n",
              "       ' Enchantment ', ' Exploration ', ' Awe ', ' Amazement ',\n",
              "       ' Romance ', ' Captivation ', ' Wonder ', ' Tranquility ',\n",
              "       ' Grandeur ', ' Emotion ', ' Energy ', ' Celebration ', ' Charm ',\n",
              "       ' Ecstasy ', ' Hope ', ' Creativity ', ' Colorful ', ' Pride ',\n",
              "       ' Hypnotic ', ' Connection ', ' Iconic ', ' Euphoria ',\n",
              "       ' Journey ', ' Engagement ', ' Touched ', ' Suspense ',\n",
              "       ' Satisfaction ', ' Admiration ', ' Triumph ', ' Heartwarming ',\n",
              "       ' Obstacle ', ' Sympathy ', ' Pressure ', ' Renewed Effort ',\n",
              "       ' Miscalculation ', ' Challenge ', ' Solace ', ' Breakthrough ',\n",
              "       ' Harmony ', ' Joy in Baking ', ' Envisioning History ',\n",
              "       ' Imagination ', ' Vibrancy ', ' Mesmerizing ',\n",
              "       ' Culinary Adventure ', ' Winter Magic ', ' Thrilling Journey ',\n",
              "       \" Nature's Beauty \", ' Celestial Wonder ',\n",
              "       ' Creative Inspiration ', ' Runway Creativity ',\n",
              "       \" Ocean's Freedom \", ' Whispers of the Past ', ' Boredom ',\n",
              "       ' Indifference ', ' Disgust ', ' Relief ', ' Positive ',\n",
              "       ' Embarrassed ', ' Mischievous ', ' Sad ', ' Hate ', ' Bad ',\n",
              "       ' Neutral ', ' Happy '], dtype=object)"
            ]
          },
          "execution_count": 12,
          "metadata": {},
          "output_type": "execute_result"
        }
      ],
      "source": [
        "# Check the values in 'Sentiment' column\n",
        "sentiment_data['Sentiment'].unique()"
      ]
    },
    {
      "cell_type": "markdown",
      "metadata": {
        "id": "ZeHx0PHGk9zz"
      },
      "source": [
        "### Observation:\n",
        "\n",
        "There are multiple entries but we want to categorize our sentiments primarily into 3 classes - `positive`, `negative` and `neutral`."
      ]
    },
    {
      "cell_type": "code",
      "execution_count": null,
      "metadata": {
        "id": "ZT8HVsHlynWi"
      },
      "outputs": [],
      "source": [
        "sentiment_classification = {\n",
        "    # Positive sentiments generally reflect feelings of joy, happiness, and appreciation.\n",
        "    \"Positive\": [\n",
        "        \"Positive\", \"Happiness\", \"Joy\", \"Excitement\", \"Love\", \"Amusement\", \"Enjoyment\", \"Admiration\",\n",
        "        \"Affection\", \"Awe\", \"Contentment\", \"Serenity\", \"Gratitude\", \"Hope\", \"Empowerment\", \"Compassion\",\n",
        "        \"Tenderness\", \"Arousal\", \"Enthusiasm\", \"Fulfillment\", \"Reverence\", \"Elation\", \"Euphoria\",\n",
        "        \"Curiosity\", \"Anticipation\", \"Determination\", \"Pride\", \"Zest\", \"Hopeful\", \"Proud\", \"Grateful\",\n",
        "        \"Empathetic\", \"Compassionate\", \"Playful\", \"Free-spirited\", \"Inspired\", \"Confident\", \"Harmony\",\n",
        "        \"Creativity\", \"Radiance\", \"Wonder\", \"Rejuvenation\", \"Inspiration\", \"Coziness\", \"Adventure\",\n",
        "        \"Blessed\", \"Satisfaction\", \"Reflection\", \"Accomplishment\", \"Wonderment\", \"Optimism\", \"Success\",\n",
        "        \"Positivity\", \"Kindness\", \"Friendship\", \"Romance\", \"Captivation\", \"Tranquility\", \"Grandeur\",\n",
        "        \"Emotion\", \"Energy\", \"Celebration\", \"Charm\", \"Ecstasy\", \"Colorful\", \"Hypnotic\", \"Connection\",\n",
        "        \"Iconic\", \"Journey\", \"Engagement\", \"Heartwarming\", \"Renewed Effort\", \"Breakthrough\",\n",
        "        \"Harmony\", \"Thrilling Journey\", \"Vibrancy\", \"Mesmerizing\", \"Culinary Adventure\", \"Winter Magic\",\n",
        "        \"Thrilling Journey\", \"Nature's Beauty\", \"Celestial Wonder\", \"Creative Inspiration\",\n",
        "        \"Runway Creativity\", \"Ocean's Freedom\", \"Whispers of the Past\"\n",
        "    ],\n",
        "    # Negative sentiments often indicate discomfort, sadness, or dissatisfaction.\n",
        "    \"Negative\": [\n",
        "        \"Negative\", \"Anger\", \"Fear\", \"Sadness\", \"Disgust\", \"Disappointed\", \"Bitter\", \"Confusion\",\n",
        "        \"Shame\", \"Despair\", \"Grief\", \"Loneliness\", \"Jealousy\", \"Resentment\", \"Frustration\", \"Boredom\",\n",
        "        \"Anxiety\", \"Intimidation\", \"Helplessness\", \"Regret\", \"Despair\", \"Loss\", \"Heartache\", \"Solitude\",\n",
        "        \"Heartbreak\", \"Betrayal\", \"Suffering\", \"EmotionalStorm\", \"Isolation\", \"Melancholy\", \"Exhaustion\",\n",
        "        \"Sorrow\", \"Darkness\", \"Desperation\", \"Ruins\", \"Desolation\", \"Regret\", \"Obstacle\", \"Pressure\",\n",
        "        \"Miscalculation\", \"Challenge\", \"Sympathy\", \"Obstacle\", \"Pressure\", \"Embarrassed\", \"Mischievous\",\n",
        "        \"Sad\", \"Hate\", \"Bad\"\n",
        "    ],\n",
        "    # Neutral sentiments include those that do not clearly indicate a positive or negative emotion.\n",
        "    \"Neutral\": [\n",
        "        \"Neutral\", \"Surprise\", \"Calmness\", \"Indifference\", \"Acceptance\", \"Anticipation\", \"Curiosity\",\n",
        "        \"Serenity\", \"Numbness\", \"Ambivalence\", \"Kind\", \"Indifference\", \"Confusion\", \"PlayfulJoy\",\n",
        "        \"Mindfulness\", \"DreamChaser\", \"Elegance\", \"Whimsy\", \"Pensive\", \"Adventure\", \"Wonder\", \"Marvel\",\n",
        "        \"JoyfulReunion\", \"Nostalgia\", \"Serenity\", \"Confusion\", \"Whispers of the Past\", \"Relief\", \"Neutral\"\n",
        "    ]\n",
        "}"
      ]
    },
    {
      "cell_type": "code",
      "execution_count": null,
      "metadata": {
        "id": "qOJRfHhbyN57"
      },
      "outputs": [],
      "source": [
        "# Initialize an empty dictionary to map individual sentiments to their corresponding categories\n",
        "sentiment_map = {}\n",
        "\n",
        "# Iterate through each category and its associated sentiments in the sentiment_classification dictionary\n",
        "for key, values in sentiment_classification.items():\n",
        "    # Iterate through each sentiment in the current category\n",
        "    for value in values:\n",
        "        # Map the sentiment to its corresponding category\n",
        "        sentiment_map[value] = key"
      ]
    },
    {
      "cell_type": "code",
      "execution_count": null,
      "metadata": {
        "id": "TCw-nSGk1hI0"
      },
      "outputs": [],
      "source": [
        "# Update the 'Sentiment' column in the sentiment_data DataFrame by mapping each sentiment to its category\n",
        "sentiment_data['Sentiment'] = sentiment_data['Sentiment'].apply(\n",
        "    # Apply a lambda function to each value in the 'Sentiment' column\n",
        "    lambda x: sentiment_map.get(x.strip(), 'Neutral')  # Strip any leading/trailing whitespace and map the sentiment to its category; default to 'Neutral' if not found\n",
        ")"
      ]
    },
    {
      "cell_type": "code",
      "execution_count": null,
      "metadata": {
        "colab": {
          "base_uri": "https://localhost:8080/"
        },
        "id": "H3_B6FJsCNMX",
        "outputId": "a860ef4b-302f-43a8-d46d-be367af8115e"
      },
      "outputs": [
        {
          "data": {
            "text/plain": [
              "array(['Positive', 'Negative', 'Neutral'], dtype=object)"
            ]
          },
          "execution_count": 10,
          "metadata": {},
          "output_type": "execute_result"
        }
      ],
      "source": [
        "# Display the unique values in the 'Sentiment' column\n",
        "sentiment_data['Sentiment'].unique()"
      ]
    },
    {
      "cell_type": "code",
      "execution_count": null,
      "metadata": {
        "colab": {
          "base_uri": "https://localhost:8080/",
          "height": 206
        },
        "id": "xUNpGPzSJBbN",
        "outputId": "4b8acd14-b8cf-4d90-d25e-9ad52c34d07f"
      },
      "outputs": [
        {
          "data": {
            "application/vnd.google.colaboratory.intrinsic+json": {
              "summary": "{\n  \"name\": \"sentiment_data\",\n  \"rows\": 732,\n  \"fields\": [\n    {\n      \"column\": \"Text\",\n      \"properties\": {\n        \"dtype\": \"string\",\n        \"num_unique_values\": 707,\n        \"samples\": [\n          \"Walking the Great Wall of China, each step a testament to ancient engineering marvels. \",\n          \" Laughter is the key to joy\\u2014attending a stand-up comedy show. \",\n          \" The fear of the unknown is keeping me up at night.    \"\n        ],\n        \"semantic_type\": \"\",\n        \"description\": \"\"\n      }\n    },\n    {\n      \"column\": \"Sentiment\",\n      \"properties\": {\n        \"dtype\": \"category\",\n        \"num_unique_values\": 3,\n        \"samples\": [\n          \"Positive\",\n          \"Negative\",\n          \"Neutral\"\n        ],\n        \"semantic_type\": \"\",\n        \"description\": \"\"\n      }\n    },\n    {\n      \"column\": \"Platform\",\n      \"properties\": {\n        \"dtype\": \"category\",\n        \"num_unique_values\": 4,\n        \"samples\": [\n          \" Instagram \",\n          \" Twitter \",\n          \" Twitter  \"\n        ],\n        \"semantic_type\": \"\",\n        \"description\": \"\"\n      }\n    },\n    {\n      \"column\": \"Hashtags\",\n      \"properties\": {\n        \"dtype\": \"string\",\n        \"num_unique_values\": 697,\n        \"samples\": [\n          \" #Fulfillment #PuzzleChallenge                \",\n          \" #Nostalgia #ClassicFilmMoments \",\n          \" #Isolation #EmotionalWinter            \"\n        ],\n        \"semantic_type\": \"\",\n        \"description\": \"\"\n      }\n    }\n  ]\n}",
              "type": "dataframe",
              "variable_name": "sentiment_data"
            },
            "text/html": [
              "\n",
              "  <div id=\"df-cfa3664e-dcfd-42cc-9582-2d2800c12c16\" class=\"colab-df-container\">\n",
              "    <div>\n",
              "<style scoped>\n",
              "    .dataframe tbody tr th:only-of-type {\n",
              "        vertical-align: middle;\n",
              "    }\n",
              "\n",
              "    .dataframe tbody tr th {\n",
              "        vertical-align: top;\n",
              "    }\n",
              "\n",
              "    .dataframe thead th {\n",
              "        text-align: right;\n",
              "    }\n",
              "</style>\n",
              "<table border=\"1\" class=\"dataframe\">\n",
              "  <thead>\n",
              "    <tr style=\"text-align: right;\">\n",
              "      <th></th>\n",
              "      <th>Text</th>\n",
              "      <th>Sentiment</th>\n",
              "      <th>Platform</th>\n",
              "      <th>Hashtags</th>\n",
              "    </tr>\n",
              "  </thead>\n",
              "  <tbody>\n",
              "    <tr>\n",
              "      <th>0</th>\n",
              "      <td>Enjoying a beautiful day at the park!        ...</td>\n",
              "      <td>Positive</td>\n",
              "      <td>Twitter</td>\n",
              "      <td>#Nature #Park</td>\n",
              "    </tr>\n",
              "    <tr>\n",
              "      <th>1</th>\n",
              "      <td>Traffic was terrible this morning.           ...</td>\n",
              "      <td>Negative</td>\n",
              "      <td>Twitter</td>\n",
              "      <td>#Traffic #Morning</td>\n",
              "    </tr>\n",
              "    <tr>\n",
              "      <th>2</th>\n",
              "      <td>Just finished an amazing workout! 💪          ...</td>\n",
              "      <td>Positive</td>\n",
              "      <td>Instagram</td>\n",
              "      <td>#Fitness #Workout</td>\n",
              "    </tr>\n",
              "    <tr>\n",
              "      <th>3</th>\n",
              "      <td>Excited about the upcoming weekend getaway!  ...</td>\n",
              "      <td>Positive</td>\n",
              "      <td>Facebook</td>\n",
              "      <td>#Travel #Adventure</td>\n",
              "    </tr>\n",
              "    <tr>\n",
              "      <th>4</th>\n",
              "      <td>Trying out a new recipe for dinner tonight.  ...</td>\n",
              "      <td>Neutral</td>\n",
              "      <td>Instagram</td>\n",
              "      <td>#Cooking #Food</td>\n",
              "    </tr>\n",
              "  </tbody>\n",
              "</table>\n",
              "</div>\n",
              "    <div class=\"colab-df-buttons\">\n",
              "\n",
              "  <div class=\"colab-df-container\">\n",
              "    <button class=\"colab-df-convert\" onclick=\"convertToInteractive('df-cfa3664e-dcfd-42cc-9582-2d2800c12c16')\"\n",
              "            title=\"Convert this dataframe to an interactive table.\"\n",
              "            style=\"display:none;\">\n",
              "\n",
              "  <svg xmlns=\"http://www.w3.org/2000/svg\" height=\"24px\" viewBox=\"0 -960 960 960\">\n",
              "    <path d=\"M120-120v-720h720v720H120Zm60-500h600v-160H180v160Zm220 220h160v-160H400v160Zm0 220h160v-160H400v160ZM180-400h160v-160H180v160Zm440 0h160v-160H620v160ZM180-180h160v-160H180v160Zm440 0h160v-160H620v160Z\"/>\n",
              "  </svg>\n",
              "    </button>\n",
              "\n",
              "  <style>\n",
              "    .colab-df-container {\n",
              "      display:flex;\n",
              "      gap: 12px;\n",
              "    }\n",
              "\n",
              "    .colab-df-convert {\n",
              "      background-color: #E8F0FE;\n",
              "      border: none;\n",
              "      border-radius: 50%;\n",
              "      cursor: pointer;\n",
              "      display: none;\n",
              "      fill: #1967D2;\n",
              "      height: 32px;\n",
              "      padding: 0 0 0 0;\n",
              "      width: 32px;\n",
              "    }\n",
              "\n",
              "    .colab-df-convert:hover {\n",
              "      background-color: #E2EBFA;\n",
              "      box-shadow: 0px 1px 2px rgba(60, 64, 67, 0.3), 0px 1px 3px 1px rgba(60, 64, 67, 0.15);\n",
              "      fill: #174EA6;\n",
              "    }\n",
              "\n",
              "    .colab-df-buttons div {\n",
              "      margin-bottom: 4px;\n",
              "    }\n",
              "\n",
              "    [theme=dark] .colab-df-convert {\n",
              "      background-color: #3B4455;\n",
              "      fill: #D2E3FC;\n",
              "    }\n",
              "\n",
              "    [theme=dark] .colab-df-convert:hover {\n",
              "      background-color: #434B5C;\n",
              "      box-shadow: 0px 1px 3px 1px rgba(0, 0, 0, 0.15);\n",
              "      filter: drop-shadow(0px 1px 2px rgba(0, 0, 0, 0.3));\n",
              "      fill: #FFFFFF;\n",
              "    }\n",
              "  </style>\n",
              "\n",
              "    <script>\n",
              "      const buttonEl =\n",
              "        document.querySelector('#df-cfa3664e-dcfd-42cc-9582-2d2800c12c16 button.colab-df-convert');\n",
              "      buttonEl.style.display =\n",
              "        google.colab.kernel.accessAllowed ? 'block' : 'none';\n",
              "\n",
              "      async function convertToInteractive(key) {\n",
              "        const element = document.querySelector('#df-cfa3664e-dcfd-42cc-9582-2d2800c12c16');\n",
              "        const dataTable =\n",
              "          await google.colab.kernel.invokeFunction('convertToInteractive',\n",
              "                                                    [key], {});\n",
              "        if (!dataTable) return;\n",
              "\n",
              "        const docLinkHtml = 'Like what you see? Visit the ' +\n",
              "          '<a target=\"_blank\" href=https://colab.research.google.com/notebooks/data_table.ipynb>data table notebook</a>'\n",
              "          + ' to learn more about interactive tables.';\n",
              "        element.innerHTML = '';\n",
              "        dataTable['output_type'] = 'display_data';\n",
              "        await google.colab.output.renderOutput(dataTable, element);\n",
              "        const docLink = document.createElement('div');\n",
              "        docLink.innerHTML = docLinkHtml;\n",
              "        element.appendChild(docLink);\n",
              "      }\n",
              "    </script>\n",
              "  </div>\n",
              "\n",
              "\n",
              "    <div id=\"df-523d0312-fb35-4dc0-b6e1-4d7b0b7d567d\">\n",
              "      <button class=\"colab-df-quickchart\" onclick=\"quickchart('df-523d0312-fb35-4dc0-b6e1-4d7b0b7d567d')\"\n",
              "                title=\"Suggest charts\"\n",
              "                style=\"display:none;\">\n",
              "\n",
              "<svg xmlns=\"http://www.w3.org/2000/svg\" height=\"24px\"viewBox=\"0 0 24 24\"\n",
              "     width=\"24px\">\n",
              "    <g>\n",
              "        <path d=\"M19 3H5c-1.1 0-2 .9-2 2v14c0 1.1.9 2 2 2h14c1.1 0 2-.9 2-2V5c0-1.1-.9-2-2-2zM9 17H7v-7h2v7zm4 0h-2V7h2v10zm4 0h-2v-4h2v4z\"/>\n",
              "    </g>\n",
              "</svg>\n",
              "      </button>\n",
              "\n",
              "<style>\n",
              "  .colab-df-quickchart {\n",
              "      --bg-color: #E8F0FE;\n",
              "      --fill-color: #1967D2;\n",
              "      --hover-bg-color: #E2EBFA;\n",
              "      --hover-fill-color: #174EA6;\n",
              "      --disabled-fill-color: #AAA;\n",
              "      --disabled-bg-color: #DDD;\n",
              "  }\n",
              "\n",
              "  [theme=dark] .colab-df-quickchart {\n",
              "      --bg-color: #3B4455;\n",
              "      --fill-color: #D2E3FC;\n",
              "      --hover-bg-color: #434B5C;\n",
              "      --hover-fill-color: #FFFFFF;\n",
              "      --disabled-bg-color: #3B4455;\n",
              "      --disabled-fill-color: #666;\n",
              "  }\n",
              "\n",
              "  .colab-df-quickchart {\n",
              "    background-color: var(--bg-color);\n",
              "    border: none;\n",
              "    border-radius: 50%;\n",
              "    cursor: pointer;\n",
              "    display: none;\n",
              "    fill: var(--fill-color);\n",
              "    height: 32px;\n",
              "    padding: 0;\n",
              "    width: 32px;\n",
              "  }\n",
              "\n",
              "  .colab-df-quickchart:hover {\n",
              "    background-color: var(--hover-bg-color);\n",
              "    box-shadow: 0 1px 2px rgba(60, 64, 67, 0.3), 0 1px 3px 1px rgba(60, 64, 67, 0.15);\n",
              "    fill: var(--button-hover-fill-color);\n",
              "  }\n",
              "\n",
              "  .colab-df-quickchart-complete:disabled,\n",
              "  .colab-df-quickchart-complete:disabled:hover {\n",
              "    background-color: var(--disabled-bg-color);\n",
              "    fill: var(--disabled-fill-color);\n",
              "    box-shadow: none;\n",
              "  }\n",
              "\n",
              "  .colab-df-spinner {\n",
              "    border: 2px solid var(--fill-color);\n",
              "    border-color: transparent;\n",
              "    border-bottom-color: var(--fill-color);\n",
              "    animation:\n",
              "      spin 1s steps(1) infinite;\n",
              "  }\n",
              "\n",
              "  @keyframes spin {\n",
              "    0% {\n",
              "      border-color: transparent;\n",
              "      border-bottom-color: var(--fill-color);\n",
              "      border-left-color: var(--fill-color);\n",
              "    }\n",
              "    20% {\n",
              "      border-color: transparent;\n",
              "      border-left-color: var(--fill-color);\n",
              "      border-top-color: var(--fill-color);\n",
              "    }\n",
              "    30% {\n",
              "      border-color: transparent;\n",
              "      border-left-color: var(--fill-color);\n",
              "      border-top-color: var(--fill-color);\n",
              "      border-right-color: var(--fill-color);\n",
              "    }\n",
              "    40% {\n",
              "      border-color: transparent;\n",
              "      border-right-color: var(--fill-color);\n",
              "      border-top-color: var(--fill-color);\n",
              "    }\n",
              "    60% {\n",
              "      border-color: transparent;\n",
              "      border-right-color: var(--fill-color);\n",
              "    }\n",
              "    80% {\n",
              "      border-color: transparent;\n",
              "      border-right-color: var(--fill-color);\n",
              "      border-bottom-color: var(--fill-color);\n",
              "    }\n",
              "    90% {\n",
              "      border-color: transparent;\n",
              "      border-bottom-color: var(--fill-color);\n",
              "    }\n",
              "  }\n",
              "</style>\n",
              "\n",
              "      <script>\n",
              "        async function quickchart(key) {\n",
              "          const quickchartButtonEl =\n",
              "            document.querySelector('#' + key + ' button');\n",
              "          quickchartButtonEl.disabled = true;  // To prevent multiple clicks.\n",
              "          quickchartButtonEl.classList.add('colab-df-spinner');\n",
              "          try {\n",
              "            const charts = await google.colab.kernel.invokeFunction(\n",
              "                'suggestCharts', [key], {});\n",
              "          } catch (error) {\n",
              "            console.error('Error during call to suggestCharts:', error);\n",
              "          }\n",
              "          quickchartButtonEl.classList.remove('colab-df-spinner');\n",
              "          quickchartButtonEl.classList.add('colab-df-quickchart-complete');\n",
              "        }\n",
              "        (() => {\n",
              "          let quickchartButtonEl =\n",
              "            document.querySelector('#df-523d0312-fb35-4dc0-b6e1-4d7b0b7d567d button');\n",
              "          quickchartButtonEl.style.display =\n",
              "            google.colab.kernel.accessAllowed ? 'block' : 'none';\n",
              "        })();\n",
              "      </script>\n",
              "    </div>\n",
              "\n",
              "    </div>\n",
              "  </div>\n"
            ],
            "text/plain": [
              "                                                Text Sentiment     Platform  \\\n",
              "0   Enjoying a beautiful day at the park!        ...  Positive    Twitter     \n",
              "1   Traffic was terrible this morning.           ...  Negative    Twitter     \n",
              "2   Just finished an amazing workout! 💪          ...  Positive   Instagram    \n",
              "3   Excited about the upcoming weekend getaway!  ...  Positive    Facebook    \n",
              "4   Trying out a new recipe for dinner tonight.  ...   Neutral   Instagram    \n",
              "\n",
              "                                     Hashtags  \n",
              "0   #Nature #Park                              \n",
              "1   #Traffic #Morning                          \n",
              "2   #Fitness #Workout                          \n",
              "3   #Travel #Adventure                         \n",
              "4   #Cooking #Food                             "
            ]
          },
          "execution_count": 11,
          "metadata": {},
          "output_type": "execute_result"
        }
      ],
      "source": [
        "sentiment_data.head()"
      ]
    },
    {
      "cell_type": "markdown",
      "metadata": {
        "id": "G2frJ5uDrdCu"
      },
      "source": [
        "### Checking the distribution of these sentiments:\n",
        "\n",
        "Lets create a histogram to check the distribution."
      ]
    },
    {
      "cell_type": "code",
      "execution_count": null,
      "metadata": {
        "colab": {
          "base_uri": "https://localhost:8080/",
          "height": 472
        },
        "id": "f_ynY36oTSyI",
        "outputId": "ac1fe103-ab6d-4077-87ba-d5aee43f5ad4"
      },
      "outputs": [
        {
          "data": {
            "image/png": "[encoded data removed]",
            "text/plain": [
              "<Figure size 640x480 with 1 Axes>"
            ]
          },
          "metadata": {},
          "output_type": "display_data"
        }
      ],
      "source": [
        "# Plot a histogram of sentiment values in the dataset\n",
        "sns.histplot(sentiment_data['Sentiment'])\n",
        "\n",
        "# Add labels and title for better readability\n",
        "plt.xlabel('Sentiment')\n",
        "plt.ylabel('Frequency')\n",
        "plt.title('Distribution of Sentiment Values')\n",
        "\n",
        "# Display the plot\n",
        "plt.show()"
      ]
    },
    {
      "cell_type": "markdown",
      "metadata": {
        "id": "thEgA9rgsZXs"
      },
      "source": [
        "### Observation:\n",
        "- The Positive category has the highest frequency, indicating that most sentiments in the dataset are positive."
      ]
    },
    {
      "cell_type": "markdown",
      "metadata": {
        "id": "sHqPkDvrDds5"
      },
      "source": [
        "#2.2 Data Preprocessing"
      ]
    },
    {
      "cell_type": "markdown",
      "metadata": {
        "id": "j2f8Fs7CDjlx"
      },
      "source": [
        "## 2.2.1 Text Cleaning<br>\n",
        "Text cleaning involves preparing raw text by removing unwanted elements such as punctuation,  hashtags, numbers, and extra whitespace. It also includes converting text to lowercase and expanding contractions to ensure consistency and clarity. This process helps make the text data uniform and ready for analysis or modeling.\n",
        "\n",
        "Here's a brief overview of the functions used in this part of text cleaning:\n",
        "\n",
        "1. **`strip()`**:\n",
        "   - Removes leading and trailing whitespace from the string.\n",
        "   - Example: `\"   Hello   \" -> \"Hello\"`.\n",
        "\n",
        "2. **`split()`**:\n",
        "   - Splits a string into a list where each word is a list item.\n",
        "   - Example: `\"Hello World\"` -> `[\"Hello\", \"World\"]`.\n",
        "\n",
        "3. **`' '.join()`**:\n",
        "   - Joins elements of a list into a single string, with a specified separator (in this case, a space).\n",
        "   - Example: `[\"Hello\", \"World\"] -> \"Hello World\"`.\n",
        "\n",
        "4. **`lower()`**:\n",
        "   - Converts all characters in a string to lowercase.\n",
        "   - Example: `\"Hello World\"` -> `\"hello world\"`.\n",
        "\n",
        "5. **`re.sub(pattern, repl, string)`**:\n",
        "   - A function from the `re` (regular expression) module, used to replace occurrences of a pattern in a string with a specified replacement.\n",
        "   - The first use, `re.sub(r'[^\\w\\s]', '', text)`, removes any character that is not a word character (letters, digits, and underscores) or whitespace.\n",
        "   - The second use, `re.sub(r'\\d+', '', text)`, removes any sequences of digits."
      ]
    },
    {
      "cell_type": "code",
      "execution_count": null,
      "metadata": {
        "colab": {
          "base_uri": "https://localhost:8080/"
        },
        "id": "eLBFe4apKfCI",
        "outputId": "8ced2c36-cb7f-4c1d-ec1d-fcda04d58d74"
      },
      "outputs": [
        {
          "data": {
            "text/plain": [
              "['Enjoying', 'a', 'beautiful', 'day', 'at', 'the', 'park!']"
            ]
          },
          "execution_count": 17,
          "metadata": {},
          "output_type": "execute_result"
        }
      ],
      "source": [
        "sentiment_data.loc[0, 'Text'].strip().split()"
      ]
    },
    {
      "cell_type": "code",
      "execution_count": null,
      "metadata": {
        "colab": {
          "base_uri": "https://localhost:8080/"
        },
        "id": "fvjK6YMGKxws",
        "outputId": "47282800-c56d-450d-e269-085a17280b4b"
      },
      "outputs": [
        {
          "name": "stderr",
          "output_type": "stream",
          "text": [
            "[nltk_data] Downloading package punkt_tab to /root/nltk_data...\n",
            "[nltk_data]   Unzipping tokenizers/punkt_tab.zip.\n"
          ]
        },
        {
          "data": {
            "text/plain": [
              "True"
            ]
          },
          "execution_count": 18,
          "metadata": {},
          "output_type": "execute_result"
        }
      ],
      "source": [
        "import nltk\n",
        "nltk.download('punkt_tab')"
      ]
    },
    {
      "cell_type": "code",
      "execution_count": null,
      "metadata": {
        "colab": {
          "base_uri": "https://localhost:8080/"
        },
        "id": "8jFwY-_2K2XM",
        "outputId": "af2c40a7-550f-4350-af78-a8264346e3cc"
      },
      "outputs": [
        {
          "data": {
            "text/plain": [
              "['Enjoying', 'a', 'beautiful', 'day', 'at', 'the', 'park', '!']"
            ]
          },
          "execution_count": 19,
          "metadata": {},
          "output_type": "execute_result"
        }
      ],
      "source": [
        "from nltk import word_tokenize\n",
        "word_tokenize(sentiment_data.loc[0, 'Text'])"
      ]
    },
    {
      "cell_type": "code",
      "execution_count": null,
      "metadata": {
        "colab": {
          "base_uri": "https://localhost:8080/"
        },
        "id": "J1uZtn5pLbPx",
        "outputId": "3d2b3356-a6a2-461a-8621-57a0ae9579da"
      },
      "outputs": [
        {
          "name": "stderr",
          "output_type": "stream",
          "text": [
            "[nltk_data] Downloading package stopwords to /root/nltk_data...\n",
            "[nltk_data]   Unzipping corpora/stopwords.zip.\n"
          ]
        },
        {
          "data": {
            "text/plain": [
              "True"
            ]
          },
          "execution_count": 21,
          "metadata": {},
          "output_type": "execute_result"
        }
      ],
      "source": [
        "nltk.download('stopwords')"
      ]
    },
    {
      "cell_type": "code",
      "execution_count": null,
      "metadata": {
        "id": "iJXcbZxkLfXx"
      },
      "outputs": [],
      "source": [
        "from nltk.corpus import stopwords # generic English Stopwords\n",
        "sw = stopwords.words('english')\n",
        "sw.extend(['!', ',', '?'])"
      ]
    },
    {
      "cell_type": "code",
      "execution_count": null,
      "metadata": {
        "colab": {
          "base_uri": "https://localhost:8080/"
        },
        "id": "GYEtBxl7Ly2l",
        "outputId": "c47e8c1e-2bc1-4fb4-bf43-9977b1faea80"
      },
      "outputs": [
        {
          "name": "stdout",
          "output_type": "stream",
          "text": [
            "Enjoying\n",
            "beautiful\n",
            "day\n",
            "park\n"
          ]
        }
      ],
      "source": [
        "for each_token in word_tokenize(sentiment_data.loc[0, 'Text']):\n",
        "  if each_token not in sw:\n",
        "    print(each_token)"
      ]
    },
    {
      "cell_type": "code",
      "execution_count": null,
      "metadata": {
        "id": "0g8opa0lG2Oa"
      },
      "outputs": [],
      "source": [
        "def clean_text(text):\n",
        "    # Remove white space\n",
        "    text = ' '.join(text.strip().split())\n",
        "\n",
        "    # Convert to lowercase\n",
        "    text = text.lower()\n",
        "\n",
        "    # Remove special characters, numbers, and punctuation\n",
        "    text = re.sub(r'[^\\w\\s]', '', text)  # Remove punctuation and special characters\n",
        "    text = re.sub(r'\\d+', '', text)      # Remove numbers\n",
        "\n",
        "    # ew123\n",
        "\n",
        "    return text"
      ]
    },
    {
      "cell_type": "code",
      "execution_count": null,
      "metadata": {
        "colab": {
          "base_uri": "https://localhost:8080/"
        },
        "id": "DbidBEDHJsWe",
        "outputId": "9cff629b-a8da-4f78-90e4-bcb96d9ea257"
      },
      "outputs": [
        {
          "name": "stdout",
          "output_type": "stream",
          "text": [
            "Before text cleaning:  Enjoying a beautiful day at the park!              \n",
            "After text cleaning: enjoying a beautiful day at the park\n"
          ]
        }
      ],
      "source": [
        "print(f\"Before text cleaning: {sentiment_data['Text'].iloc[0]}\")\n",
        "print(f\"After text cleaning: {clean_text(sentiment_data['Text'].iloc[0])}\")"
      ]
    },
    {
      "cell_type": "code",
      "execution_count": null,
      "metadata": {
        "id": "DbV4MSuvHYxi"
      },
      "outputs": [],
      "source": [
        "# Apply the clean_text function to the 'Text' column\n",
        "sentiment_data['Text'] = sentiment_data['Text'].apply(clean_text)\n",
        "\n",
        "# Apply the clean_text function to the 'Hashtags' column\n",
        "sentiment_data['Hashtags'] = sentiment_data['Hashtags'].apply(clean_text)"
      ]
    },
    {
      "cell_type": "code",
      "execution_count": null,
      "metadata": {
        "colab": {
          "base_uri": "https://localhost:8080/",
          "height": 206
        },
        "id": "F3SNI-15HoXS",
        "outputId": "47b93bab-0b3e-410d-c60e-dc360c61d43c"
      },
      "outputs": [
        {
          "data": {
            "application/vnd.google.colaboratory.intrinsic+json": {
              "summary": "{\n  \"name\": \"sentiment_data[['Text', 'Hashtags']]\",\n  \"rows\": 5,\n  \"fields\": [\n    {\n      \"column\": \"Text\",\n      \"properties\": {\n        \"dtype\": \"string\",\n        \"num_unique_values\": 5,\n        \"samples\": [\n          \"traffic was terrible this morning\",\n          \"trying out a new recipe for dinner tonight\",\n          \"just finished an amazing workout \"\n        ],\n        \"semantic_type\": \"\",\n        \"description\": \"\"\n      }\n    },\n    {\n      \"column\": \"Hashtags\",\n      \"properties\": {\n        \"dtype\": \"string\",\n        \"num_unique_values\": 5,\n        \"samples\": [\n          \"traffic morning\",\n          \"cooking food\",\n          \"fitness workout\"\n        ],\n        \"semantic_type\": \"\",\n        \"description\": \"\"\n      }\n    }\n  ]\n}",
              "type": "dataframe"
            },
            "text/html": [
              "\n",
              "  <div id=\"df-bd29f1fc-fda9-471c-ac6b-20950433d482\" class=\"colab-df-container\">\n",
              "    <div>\n",
              "<style scoped>\n",
              "    .dataframe tbody tr th:only-of-type {\n",
              "        vertical-align: middle;\n",
              "    }\n",
              "\n",
              "    .dataframe tbody tr th {\n",
              "        vertical-align: top;\n",
              "    }\n",
              "\n",
              "    .dataframe thead th {\n",
              "        text-align: right;\n",
              "    }\n",
              "</style>\n",
              "<table border=\"1\" class=\"dataframe\">\n",
              "  <thead>\n",
              "    <tr style=\"text-align: right;\">\n",
              "      <th></th>\n",
              "      <th>Text</th>\n",
              "      <th>Hashtags</th>\n",
              "    </tr>\n",
              "  </thead>\n",
              "  <tbody>\n",
              "    <tr>\n",
              "      <th>0</th>\n",
              "      <td>enjoying a beautiful day at the park</td>\n",
              "      <td>nature park</td>\n",
              "    </tr>\n",
              "    <tr>\n",
              "      <th>1</th>\n",
              "      <td>traffic was terrible this morning</td>\n",
              "      <td>traffic morning</td>\n",
              "    </tr>\n",
              "    <tr>\n",
              "      <th>2</th>\n",
              "      <td>just finished an amazing workout</td>\n",
              "      <td>fitness workout</td>\n",
              "    </tr>\n",
              "    <tr>\n",
              "      <th>3</th>\n",
              "      <td>excited about the upcoming weekend getaway</td>\n",
              "      <td>travel adventure</td>\n",
              "    </tr>\n",
              "    <tr>\n",
              "      <th>4</th>\n",
              "      <td>trying out a new recipe for dinner tonight</td>\n",
              "      <td>cooking food</td>\n",
              "    </tr>\n",
              "  </tbody>\n",
              "</table>\n",
              "</div>\n",
              "    <div class=\"colab-df-buttons\">\n",
              "\n",
              "  <div class=\"colab-df-container\">\n",
              "    <button class=\"colab-df-convert\" onclick=\"convertToInteractive('df-bd29f1fc-fda9-471c-ac6b-20950433d482')\"\n",
              "            title=\"Convert this dataframe to an interactive table.\"\n",
              "            style=\"display:none;\">\n",
              "\n",
              "  <svg xmlns=\"http://www.w3.org/2000/svg\" height=\"24px\" viewBox=\"0 -960 960 960\">\n",
              "    <path d=\"M120-120v-720h720v720H120Zm60-500h600v-160H180v160Zm220 220h160v-160H400v160Zm0 220h160v-160H400v160ZM180-400h160v-160H180v160Zm440 0h160v-160H620v160ZM180-180h160v-160H180v160Zm440 0h160v-160H620v160Z\"/>\n",
              "  </svg>\n",
              "    </button>\n",
              "\n",
              "  <style>\n",
              "    .colab-df-container {\n",
              "      display:flex;\n",
              "      gap: 12px;\n",
              "    }\n",
              "\n",
              "    .colab-df-convert {\n",
              "      background-color: #E8F0FE;\n",
              "      border: none;\n",
              "      border-radius: 50%;\n",
              "      cursor: pointer;\n",
              "      display: none;\n",
              "      fill: #1967D2;\n",
              "      height: 32px;\n",
              "      padding: 0 0 0 0;\n",
              "      width: 32px;\n",
              "    }\n",
              "\n",
              "    .colab-df-convert:hover {\n",
              "      background-color: #E2EBFA;\n",
              "      box-shadow: 0px 1px 2px rgba(60, 64, 67, 0.3), 0px 1px 3px 1px rgba(60, 64, 67, 0.15);\n",
              "      fill: #174EA6;\n",
              "    }\n",
              "\n",
              "    .colab-df-buttons div {\n",
              "      margin-bottom: 4px;\n",
              "    }\n",
              "\n",
              "    [theme=dark] .colab-df-convert {\n",
              "      background-color: #3B4455;\n",
              "      fill: #D2E3FC;\n",
              "    }\n",
              "\n",
              "    [theme=dark] .colab-df-convert:hover {\n",
              "      background-color: #434B5C;\n",
              "      box-shadow: 0px 1px 3px 1px rgba(0, 0, 0, 0.15);\n",
              "      filter: drop-shadow(0px 1px 2px rgba(0, 0, 0, 0.3));\n",
              "      fill: #FFFFFF;\n",
              "    }\n",
              "  </style>\n",
              "\n",
              "    <script>\n",
              "      const buttonEl =\n",
              "        document.querySelector('#df-bd29f1fc-fda9-471c-ac6b-20950433d482 button.colab-df-convert');\n",
              "      buttonEl.style.display =\n",
              "        google.colab.kernel.accessAllowed ? 'block' : 'none';\n",
              "\n",
              "      async function convertToInteractive(key) {\n",
              "        const element = document.querySelector('#df-bd29f1fc-fda9-471c-ac6b-20950433d482');\n",
              "        const dataTable =\n",
              "          await google.colab.kernel.invokeFunction('convertToInteractive',\n",
              "                                                    [key], {});\n",
              "        if (!dataTable) return;\n",
              "\n",
              "        const docLinkHtml = 'Like what you see? Visit the ' +\n",
              "          '<a target=\"_blank\" href=https://colab.research.google.com/notebooks/data_table.ipynb>data table notebook</a>'\n",
              "          + ' to learn more about interactive tables.';\n",
              "        element.innerHTML = '';\n",
              "        dataTable['output_type'] = 'display_data';\n",
              "        await google.colab.output.renderOutput(dataTable, element);\n",
              "        const docLink = document.createElement('div');\n",
              "        docLink.innerHTML = docLinkHtml;\n",
              "        element.appendChild(docLink);\n",
              "      }\n",
              "    </script>\n",
              "  </div>\n",
              "\n",
              "\n",
              "    <div id=\"df-e85e81cb-5728-41c5-85ba-4290a1e57970\">\n",
              "      <button class=\"colab-df-quickchart\" onclick=\"quickchart('df-e85e81cb-5728-41c5-85ba-4290a1e57970')\"\n",
              "                title=\"Suggest charts\"\n",
              "                style=\"display:none;\">\n",
              "\n",
              "<svg xmlns=\"http://www.w3.org/2000/svg\" height=\"24px\"viewBox=\"0 0 24 24\"\n",
              "     width=\"24px\">\n",
              "    <g>\n",
              "        <path d=\"M19 3H5c-1.1 0-2 .9-2 2v14c0 1.1.9 2 2 2h14c1.1 0 2-.9 2-2V5c0-1.1-.9-2-2-2zM9 17H7v-7h2v7zm4 0h-2V7h2v10zm4 0h-2v-4h2v4z\"/>\n",
              "    </g>\n",
              "</svg>\n",
              "      </button>\n",
              "\n",
              "<style>\n",
              "  .colab-df-quickchart {\n",
              "      --bg-color: #E8F0FE;\n",
              "      --fill-color: #1967D2;\n",
              "      --hover-bg-color: #E2EBFA;\n",
              "      --hover-fill-color: #174EA6;\n",
              "      --disabled-fill-color: #AAA;\n",
              "      --disabled-bg-color: #DDD;\n",
              "  }\n",
              "\n",
              "  [theme=dark] .colab-df-quickchart {\n",
              "      --bg-color: #3B4455;\n",
              "      --fill-color: #D2E3FC;\n",
              "      --hover-bg-color: #434B5C;\n",
              "      --hover-fill-color: #FFFFFF;\n",
              "      --disabled-bg-color: #3B4455;\n",
              "      --disabled-fill-color: #666;\n",
              "  }\n",
              "\n",
              "  .colab-df-quickchart {\n",
              "    background-color: var(--bg-color);\n",
              "    border: none;\n",
              "    border-radius: 50%;\n",
              "    cursor: pointer;\n",
              "    display: none;\n",
              "    fill: var(--fill-color);\n",
              "    height: 32px;\n",
              "    padding: 0;\n",
              "    width: 32px;\n",
              "  }\n",
              "\n",
              "  .colab-df-quickchart:hover {\n",
              "    background-color: var(--hover-bg-color);\n",
              "    box-shadow: 0 1px 2px rgba(60, 64, 67, 0.3), 0 1px 3px 1px rgba(60, 64, 67, 0.15);\n",
              "    fill: var(--button-hover-fill-color);\n",
              "  }\n",
              "\n",
              "  .colab-df-quickchart-complete:disabled,\n",
              "  .colab-df-quickchart-complete:disabled:hover {\n",
              "    background-color: var(--disabled-bg-color);\n",
              "    fill: var(--disabled-fill-color);\n",
              "    box-shadow: none;\n",
              "  }\n",
              "\n",
              "  .colab-df-spinner {\n",
              "    border: 2px solid var(--fill-color);\n",
              "    border-color: transparent;\n",
              "    border-bottom-color: var(--fill-color);\n",
              "    animation:\n",
              "      spin 1s steps(1) infinite;\n",
              "  }\n",
              "\n",
              "  @keyframes spin {\n",
              "    0% {\n",
              "      border-color: transparent;\n",
              "      border-bottom-color: var(--fill-color);\n",
              "      border-left-color: var(--fill-color);\n",
              "    }\n",
              "    20% {\n",
              "      border-color: transparent;\n",
              "      border-left-color: var(--fill-color);\n",
              "      border-top-color: var(--fill-color);\n",
              "    }\n",
              "    30% {\n",
              "      border-color: transparent;\n",
              "      border-left-color: var(--fill-color);\n",
              "      border-top-color: var(--fill-color);\n",
              "      border-right-color: var(--fill-color);\n",
              "    }\n",
              "    40% {\n",
              "      border-color: transparent;\n",
              "      border-right-color: var(--fill-color);\n",
              "      border-top-color: var(--fill-color);\n",
              "    }\n",
              "    60% {\n",
              "      border-color: transparent;\n",
              "      border-right-color: var(--fill-color);\n",
              "    }\n",
              "    80% {\n",
              "      border-color: transparent;\n",
              "      border-right-color: var(--fill-color);\n",
              "      border-bottom-color: var(--fill-color);\n",
              "    }\n",
              "    90% {\n",
              "      border-color: transparent;\n",
              "      border-bottom-color: var(--fill-color);\n",
              "    }\n",
              "  }\n",
              "</style>\n",
              "\n",
              "      <script>\n",
              "        async function quickchart(key) {\n",
              "          const quickchartButtonEl =\n",
              "            document.querySelector('#' + key + ' button');\n",
              "          quickchartButtonEl.disabled = true;  // To prevent multiple clicks.\n",
              "          quickchartButtonEl.classList.add('colab-df-spinner');\n",
              "          try {\n",
              "            const charts = await google.colab.kernel.invokeFunction(\n",
              "                'suggestCharts', [key], {});\n",
              "          } catch (error) {\n",
              "            console.error('Error during call to suggestCharts:', error);\n",
              "          }\n",
              "          quickchartButtonEl.classList.remove('colab-df-spinner');\n",
              "          quickchartButtonEl.classList.add('colab-df-quickchart-complete');\n",
              "        }\n",
              "        (() => {\n",
              "          let quickchartButtonEl =\n",
              "            document.querySelector('#df-e85e81cb-5728-41c5-85ba-4290a1e57970 button');\n",
              "          quickchartButtonEl.style.display =\n",
              "            google.colab.kernel.accessAllowed ? 'block' : 'none';\n",
              "        })();\n",
              "      </script>\n",
              "    </div>\n",
              "\n",
              "    </div>\n",
              "  </div>\n"
            ],
            "text/plain": [
              "                                         Text          Hashtags\n",
              "0        enjoying a beautiful day at the park       nature park\n",
              "1           traffic was terrible this morning   traffic morning\n",
              "2           just finished an amazing workout    fitness workout\n",
              "3  excited about the upcoming weekend getaway  travel adventure\n",
              "4  trying out a new recipe for dinner tonight      cooking food"
            ]
          },
          "execution_count": 27,
          "metadata": {},
          "output_type": "execute_result"
        }
      ],
      "source": [
        "# Display the first few rows of the 'Text' and 'Hashtags' columns\n",
        "sentiment_data[['Text', 'Hashtags']].head()"
      ]
    },
    {
      "cell_type": "markdown",
      "metadata": {
        "id": "vfS0GoueIefS"
      },
      "source": [
        "## 2.2.2 Tokenization<br>\n",
        "Tokenization is the process of breaking down text into smaller units, such as words or phrases, called tokens. This step is crucial in natural language processing (NLP) as it transforms continuous text into a structured format that can be analyzed. Tokenization helps in understanding and processing text data by converting it into a list of meaningful components, which are essential for various NLP tasks like text analysis, sentiment analysis, and machine learning.\n",
        "\n",
        "<center><img src=\"https://wisdomml.in/wp-content/uploads/2022/08/tokenizer.jpg\" width=500 height=300/></center>"
      ]
    },
    {
      "cell_type": "code",
      "execution_count": null,
      "metadata": {
        "colab": {
          "base_uri": "https://localhost:8080/"
        },
        "id": "c7WY48NZMqgs",
        "outputId": "36c200ff-9b21-4556-e485-bae8a2be700d"
      },
      "outputs": [
        {
          "name": "stderr",
          "output_type": "stream",
          "text": [
            "[nltk_data] Downloading package wordnet to /root/nltk_data...\n"
          ]
        },
        {
          "data": {
            "text/plain": [
              "True"
            ]
          },
          "execution_count": 30,
          "metadata": {},
          "output_type": "execute_result"
        }
      ],
      "source": [
        "nltk.download('wordnet')"
      ]
    },
    {
      "cell_type": "code",
      "execution_count": null,
      "metadata": {
        "colab": {
          "base_uri": "https://localhost:8080/",
          "height": 36
        },
        "id": "h8NZzZTyMrjj",
        "outputId": "9b832448-1bc0-4443-f6e0-1fe47d39e266"
      },
      "outputs": [
        {
          "data": {
            "application/vnd.google.colaboratory.intrinsic+json": {
              "type": "string"
            },
            "text/plain": [
              "'receiv'"
            ]
          },
          "execution_count": 31,
          "metadata": {},
          "output_type": "execute_result"
        }
      ],
      "source": [
        "from nltk.stem import PorterStemmer\n",
        "ps = PorterStemmer()\n",
        "ps.stem('receiving')"
      ]
    },
    {
      "cell_type": "code",
      "execution_count": null,
      "metadata": {
        "colab": {
          "base_uri": "https://localhost:8080/",
          "height": 36
        },
        "id": "Qr36CjceM2Ux",
        "outputId": "411b334c-d566-432c-f616-d0a42ba0962d"
      },
      "outputs": [
        {
          "data": {
            "application/vnd.google.colaboratory.intrinsic+json": {
              "type": "string"
            },
            "text/plain": [
              "'receiv'"
            ]
          },
          "execution_count": 32,
          "metadata": {},
          "output_type": "execute_result"
        }
      ],
      "source": [
        "from nltk.stem import SnowballStemmer\n",
        "sb = SnowballStemmer('english')\n",
        "sb.stem('receiving')"
      ]
    },
    {
      "cell_type": "code",
      "execution_count": null,
      "metadata": {
        "id": "cQ3BEMqyL6AP"
      },
      "outputs": [],
      "source": [
        "# Function for Tokenization\n",
        "def tokenizer(text):\n",
        "\n",
        "    # Convert text to tokens\n",
        "    tokens = word_tokenize(text)\n",
        "\n",
        "    # Return the list of tokens\n",
        "    return tokens"
      ]
    },
    {
      "cell_type": "code",
      "execution_count": null,
      "metadata": {
        "colab": {
          "base_uri": "https://localhost:8080/"
        },
        "id": "ksEZa_oGMWO4",
        "outputId": "eee2aa03-cba9-42ed-e538-c483c851ad64"
      },
      "outputs": [
        {
          "name": "stdout",
          "output_type": "stream",
          "text": [
            "Before tokenization: enjoying a beautiful day at the park\n",
            "After tokenization: ['enjoying', 'a', 'beautiful', 'day', 'at', 'the', 'park']\n"
          ]
        }
      ],
      "source": [
        "tokenizer(sentiment_data['Text'].iloc[0])\n",
        "print(f\"Before tokenization: {sentiment_data['Text'].iloc[0]}\")\n",
        "print(f\"After tokenization: {tokenizer(sentiment_data['Text'].iloc[0])}\")"
      ]
    },
    {
      "cell_type": "markdown",
      "metadata": {
        "id": "YfK5Kz3nOL7B"
      },
      "source": [
        "## 2.2.3 Lemmatization/Stemming<br>\n",
        "Lemmatization and Stemming are techniques used in natural language processing (NLP) to reduce words to their base or root form, helping to standardize and simplify text data for analysis.\n",
        "\n",
        "**Stemming:** This technique involves cutting off the end of words to reduce them to their root form, often resulting in non-standard words. For example, \"running,\" \"runner,\" and \"ran\" might all be reduced to \"run.\" Stemming is a more aggressive approach and can sometimes produce words that are not real or meaningful.\n",
        "\n",
        "**Lemmatization:** Unlike stemming, lemmatization considers the context and part of speech to reduce words to their base or dictionary form, known as the lemma. For example, \"running\" would be reduced to \"run,\" but \"better\" would be reduced to \"good.\" Lemmatization is more accurate and produces meaningful base forms of words.\n",
        "\n",
        "Both techniques are used to normalize text data, making it easier to match similar words during analysis, such as in search engines, sentiment analysis, and other NLP tasks.\n",
        "\n",
        "<center><img src=\"https://techgenizer.netlify.app/img/blog15/lm1.png\" width=500 height = 200/></center>"
      ]
    },
    {
      "cell_type": "code",
      "execution_count": null,
      "metadata": {
        "colab": {
          "base_uri": "https://localhost:8080/",
          "height": 36
        },
        "id": "9MSiwV-oNGcb",
        "outputId": "9fd78296-479f-498d-ed7f-63fc3521bc38"
      },
      "outputs": [
        {
          "data": {
            "application/vnd.google.colaboratory.intrinsic+json": {
              "type": "string"
            },
            "text/plain": [
              "'enjoy a beauti day at the park'"
            ]
          },
          "execution_count": 36,
          "metadata": {},
          "output_type": "execute_result"
        }
      ],
      "source": [
        "l = []\n",
        "for each_token in word_tokenize(sentiment_data.loc[0, 'Text']):\n",
        "  l.append(ps.stem(each_token))\n",
        "\n",
        "' '.join(l) # Stememd String"
      ]
    },
    {
      "cell_type": "code",
      "execution_count": null,
      "metadata": {
        "colab": {
          "base_uri": "https://localhost:8080/"
        },
        "id": "O5YfOaLZNzaT",
        "outputId": "d73ea3ee-f5b6-4d28-cc06-a1e603372b0d"
      },
      "outputs": [
        {
          "name": "stderr",
          "output_type": "stream",
          "text": [
            "[nltk_data] Downloading package averaged_perceptron_tagger_eng to\n",
            "[nltk_data]     /root/nltk_data...\n",
            "[nltk_data]   Unzipping taggers/averaged_perceptron_tagger_eng.zip.\n"
          ]
        },
        {
          "data": {
            "text/plain": [
              "True"
            ]
          },
          "execution_count": 38,
          "metadata": {},
          "output_type": "execute_result"
        }
      ],
      "source": [
        "nltk.download('averaged_perceptron_tagger_eng')"
      ]
    },
    {
      "cell_type": "code",
      "execution_count": null,
      "metadata": {
        "colab": {
          "base_uri": "https://localhost:8080/"
        },
        "id": "Q0x_neA5Nocs",
        "outputId": "8ca0c307-0ecd-4515-b249-a7cc8963d0a5"
      },
      "outputs": [
        {
          "data": {
            "text/plain": [
              "[('enjoying', 'VBG'),\n",
              " ('a', 'DT'),\n",
              " ('beautiful', 'JJ'),\n",
              " ('day', 'NN'),\n",
              " ('at', 'IN'),\n",
              " ('the', 'DT'),\n",
              " ('park', 'NN')]"
            ]
          },
          "execution_count": 39,
          "metadata": {},
          "output_type": "execute_result"
        }
      ],
      "source": [
        "from nltk import pos_tag\n",
        "pos_tag(word_tokenize(sentiment_data.loc[0, 'Text']))"
      ]
    },
    {
      "cell_type": "code",
      "execution_count": null,
      "metadata": {
        "id": "zTkPYFNoRTd1"
      },
      "outputs": [],
      "source": [
        "# Function for Stemming\n",
        "def stem_text(text):\n",
        "    # Tokenize text\n",
        "    tokens = tokenizer(text)\n",
        "\n",
        "    # Initialize the stemmer\n",
        "    stemmer = PorterStemmer()\n",
        "\n",
        "    # Apply stemming to the word\n",
        "    return \" \".join([stemmer.stem(token) for token in tokens])\n",
        "\n",
        "\n",
        "from nltk.stem import WordNetLemmatizer\n",
        "# Function for Lemmatization\n",
        "def lemmatize_text(text, pos='v'):\n",
        "    # Tokenize text\n",
        "    tokens = tokenizer(text)\n",
        "\n",
        "    # Initialize the lemmatizer\n",
        "    lemmatizer = WordNetLemmatizer()\n",
        "\n",
        "    # Apply lemmatization to the word with a specified part of speech\n",
        "    return \" \".join([lemmatizer.lemmatize(token, pos=pos) for token in tokens])"
      ]
    },
    {
      "cell_type": "code",
      "execution_count": null,
      "metadata": {
        "colab": {
          "base_uri": "https://localhost:8080/"
        },
        "id": "qBR6GV_6SJl4",
        "outputId": "fb18f5e4-80cd-4432-ee77-e270ea315c3c"
      },
      "outputs": [
        {
          "name": "stdout",
          "output_type": "stream",
          "text": [
            "Before stemming: enjoying a beautiful day at the park\n",
            "After stemming: enjoy a beauti day at the park\n"
          ]
        }
      ],
      "source": [
        "print(f\"Before stemming: {sentiment_data['Text'].iloc[0]}\")\n",
        "print(f\"After stemming: {stem_text(sentiment_data['Text'].iloc[0])}\")"
      ]
    },
    {
      "cell_type": "code",
      "execution_count": null,
      "metadata": {
        "colab": {
          "base_uri": "https://localhost:8080/"
        },
        "id": "oTWzeqavSdiT",
        "outputId": "43ec4d10-ad79-459e-d169-d98a0c84e18a"
      },
      "outputs": [
        {
          "name": "stdout",
          "output_type": "stream",
          "text": [
            "Before lemmatization: enjoying a beautiful day at the park\n",
            "After lemmatization: enjoy a beautiful day at the park\n"
          ]
        }
      ],
      "source": [
        "print(f\"Before lemmatization: {sentiment_data['Text'].iloc[0]}\")\n",
        "print(f\"After lemmatization: {lemmatize_text(sentiment_data['Text'].iloc[0])}\")"
      ]
    },
    {
      "cell_type": "markdown",
      "metadata": {
        "id": "FIXMBaBRg5DH"
      },
      "source": [
        "### Applying these changes in the dataset"
      ]
    },
    {
      "cell_type": "code",
      "execution_count": null,
      "metadata": {
        "colab": {
          "base_uri": "https://localhost:8080/",
          "height": 206
        },
        "id": "qFv6tpEOg4Ev",
        "outputId": "1ab81007-f91c-48ef-e0ad-48fec98ab73c"
      },
      "outputs": [
        {
          "data": {
            "application/vnd.google.colaboratory.intrinsic+json": {
              "summary": "{\n  \"name\": \"sentiment_data\",\n  \"rows\": 732,\n  \"fields\": [\n    {\n      \"column\": \"Text\",\n      \"properties\": {\n        \"dtype\": \"string\",\n        \"num_unique_values\": 706,\n        \"samples\": [\n          \"walk the great wall of china each step a testament to ancient engin marvel awe engineeringmarvel\",\n          \"laughter is the key to joyattend a standup comedi show joy standupcomedi\",\n          \"the fear of the unknown is keep me up at night fear unknown\"\n        ],\n        \"semantic_type\": \"\",\n        \"description\": \"\"\n      }\n    },\n    {\n      \"column\": \"Sentiment\",\n      \"properties\": {\n        \"dtype\": \"category\",\n        \"num_unique_values\": 3,\n        \"samples\": [\n          \"Positive\",\n          \"Negative\",\n          \"Neutral\"\n        ],\n        \"semantic_type\": \"\",\n        \"description\": \"\"\n      }\n    },\n    {\n      \"column\": \"Platform\",\n      \"properties\": {\n        \"dtype\": \"category\",\n        \"num_unique_values\": 4,\n        \"samples\": [\n          \" Instagram \",\n          \" Twitter \",\n          \" Twitter  \"\n        ],\n        \"semantic_type\": \"\",\n        \"description\": \"\"\n      }\n    },\n    {\n      \"column\": \"Hashtags\",\n      \"properties\": {\n        \"dtype\": \"string\",\n        \"num_unique_values\": 692,\n        \"samples\": [\n          \"heartbreak lostlov\",\n          \"studystrategi highschoolexam\",\n          \"hope seedsofoptim\"\n        ],\n        \"semantic_type\": \"\",\n        \"description\": \"\"\n      }\n    }\n  ]\n}",
              "type": "dataframe",
              "variable_name": "sentiment_data"
            },
            "text/html": [
              "\n",
              "  <div id=\"df-f1548f9d-1a88-4046-9a51-470de405ac9d\" class=\"colab-df-container\">\n",
              "    <div>\n",
              "<style scoped>\n",
              "    .dataframe tbody tr th:only-of-type {\n",
              "        vertical-align: middle;\n",
              "    }\n",
              "\n",
              "    .dataframe tbody tr th {\n",
              "        vertical-align: top;\n",
              "    }\n",
              "\n",
              "    .dataframe thead th {\n",
              "        text-align: right;\n",
              "    }\n",
              "</style>\n",
              "<table border=\"1\" class=\"dataframe\">\n",
              "  <thead>\n",
              "    <tr style=\"text-align: right;\">\n",
              "      <th></th>\n",
              "      <th>Text</th>\n",
              "      <th>Sentiment</th>\n",
              "      <th>Platform</th>\n",
              "      <th>Hashtags</th>\n",
              "    </tr>\n",
              "  </thead>\n",
              "  <tbody>\n",
              "    <tr>\n",
              "      <th>0</th>\n",
              "      <td>enjoy a beauti day at the park natur park</td>\n",
              "      <td>Positive</td>\n",
              "      <td>Twitter</td>\n",
              "      <td>natur park</td>\n",
              "    </tr>\n",
              "    <tr>\n",
              "      <th>1</th>\n",
              "      <td>traffic wa terribl thi morn traffic morn</td>\n",
              "      <td>Negative</td>\n",
              "      <td>Twitter</td>\n",
              "      <td>traffic morn</td>\n",
              "    </tr>\n",
              "    <tr>\n",
              "      <th>2</th>\n",
              "      <td>just finish an amaz workout fit workout</td>\n",
              "      <td>Positive</td>\n",
              "      <td>Instagram</td>\n",
              "      <td>fit workout</td>\n",
              "    </tr>\n",
              "    <tr>\n",
              "      <th>3</th>\n",
              "      <td>excit about the upcom weekend getaway travel a...</td>\n",
              "      <td>Positive</td>\n",
              "      <td>Facebook</td>\n",
              "      <td>travel adventur</td>\n",
              "    </tr>\n",
              "    <tr>\n",
              "      <th>4</th>\n",
              "      <td>tri out a new recip for dinner tonight cook food</td>\n",
              "      <td>Neutral</td>\n",
              "      <td>Instagram</td>\n",
              "      <td>cook food</td>\n",
              "    </tr>\n",
              "  </tbody>\n",
              "</table>\n",
              "</div>\n",
              "    <div class=\"colab-df-buttons\">\n",
              "\n",
              "  <div class=\"colab-df-container\">\n",
              "    <button class=\"colab-df-convert\" onclick=\"convertToInteractive('df-f1548f9d-1a88-4046-9a51-470de405ac9d')\"\n",
              "            title=\"Convert this dataframe to an interactive table.\"\n",
              "            style=\"display:none;\">\n",
              "\n",
              "  <svg xmlns=\"http://www.w3.org/2000/svg\" height=\"24px\" viewBox=\"0 -960 960 960\">\n",
              "    <path d=\"M120-120v-720h720v720H120Zm60-500h600v-160H180v160Zm220 220h160v-160H400v160Zm0 220h160v-160H400v160ZM180-400h160v-160H180v160Zm440 0h160v-160H620v160ZM180-180h160v-160H180v160Zm440 0h160v-160H620v160Z\"/>\n",
              "  </svg>\n",
              "    </button>\n",
              "\n",
              "  <style>\n",
              "    .colab-df-container {\n",
              "      display:flex;\n",
              "      gap: 12px;\n",
              "    }\n",
              "\n",
              "    .colab-df-convert {\n",
              "      background-color: #E8F0FE;\n",
              "      border: none;\n",
              "      border-radius: 50%;\n",
              "      cursor: pointer;\n",
              "      display: none;\n",
              "      fill: #1967D2;\n",
              "      height: 32px;\n",
              "      padding: 0 0 0 0;\n",
              "      width: 32px;\n",
              "    }\n",
              "\n",
              "    .colab-df-convert:hover {\n",
              "      background-color: #E2EBFA;\n",
              "      box-shadow: 0px 1px 2px rgba(60, 64, 67, 0.3), 0px 1px 3px 1px rgba(60, 64, 67, 0.15);\n",
              "      fill: #174EA6;\n",
              "    }\n",
              "\n",
              "    .colab-df-buttons div {\n",
              "      margin-bottom: 4px;\n",
              "    }\n",
              "\n",
              "    [theme=dark] .colab-df-convert {\n",
              "      background-color: #3B4455;\n",
              "      fill: #D2E3FC;\n",
              "    }\n",
              "\n",
              "    [theme=dark] .colab-df-convert:hover {\n",
              "      background-color: #434B5C;\n",
              "      box-shadow: 0px 1px 3px 1px rgba(0, 0, 0, 0.15);\n",
              "      filter: drop-shadow(0px 1px 2px rgba(0, 0, 0, 0.3));\n",
              "      fill: #FFFFFF;\n",
              "    }\n",
              "  </style>\n",
              "\n",
              "    <script>\n",
              "      const buttonEl =\n",
              "        document.querySelector('#df-f1548f9d-1a88-4046-9a51-470de405ac9d button.colab-df-convert');\n",
              "      buttonEl.style.display =\n",
              "        google.colab.kernel.accessAllowed ? 'block' : 'none';\n",
              "\n",
              "      async function convertToInteractive(key) {\n",
              "        const element = document.querySelector('#df-f1548f9d-1a88-4046-9a51-470de405ac9d');\n",
              "        const dataTable =\n",
              "          await google.colab.kernel.invokeFunction('convertToInteractive',\n",
              "                                                    [key], {});\n",
              "        if (!dataTable) return;\n",
              "\n",
              "        const docLinkHtml = 'Like what you see? Visit the ' +\n",
              "          '<a target=\"_blank\" href=https://colab.research.google.com/notebooks/data_table.ipynb>data table notebook</a>'\n",
              "          + ' to learn more about interactive tables.';\n",
              "        element.innerHTML = '';\n",
              "        dataTable['output_type'] = 'display_data';\n",
              "        await google.colab.output.renderOutput(dataTable, element);\n",
              "        const docLink = document.createElement('div');\n",
              "        docLink.innerHTML = docLinkHtml;\n",
              "        element.appendChild(docLink);\n",
              "      }\n",
              "    </script>\n",
              "  </div>\n",
              "\n",
              "\n",
              "    <div id=\"df-84f2cdc5-6c31-4263-ac46-330da5e63317\">\n",
              "      <button class=\"colab-df-quickchart\" onclick=\"quickchart('df-84f2cdc5-6c31-4263-ac46-330da5e63317')\"\n",
              "                title=\"Suggest charts\"\n",
              "                style=\"display:none;\">\n",
              "\n",
              "<svg xmlns=\"http://www.w3.org/2000/svg\" height=\"24px\"viewBox=\"0 0 24 24\"\n",
              "     width=\"24px\">\n",
              "    <g>\n",
              "        <path d=\"M19 3H5c-1.1 0-2 .9-2 2v14c0 1.1.9 2 2 2h14c1.1 0 2-.9 2-2V5c0-1.1-.9-2-2-2zM9 17H7v-7h2v7zm4 0h-2V7h2v10zm4 0h-2v-4h2v4z\"/>\n",
              "    </g>\n",
              "</svg>\n",
              "      </button>\n",
              "\n",
              "<style>\n",
              "  .colab-df-quickchart {\n",
              "      --bg-color: #E8F0FE;\n",
              "      --fill-color: #1967D2;\n",
              "      --hover-bg-color: #E2EBFA;\n",
              "      --hover-fill-color: #174EA6;\n",
              "      --disabled-fill-color: #AAA;\n",
              "      --disabled-bg-color: #DDD;\n",
              "  }\n",
              "\n",
              "  [theme=dark] .colab-df-quickchart {\n",
              "      --bg-color: #3B4455;\n",
              "      --fill-color: #D2E3FC;\n",
              "      --hover-bg-color: #434B5C;\n",
              "      --hover-fill-color: #FFFFFF;\n",
              "      --disabled-bg-color: #3B4455;\n",
              "      --disabled-fill-color: #666;\n",
              "  }\n",
              "\n",
              "  .colab-df-quickchart {\n",
              "    background-color: var(--bg-color);\n",
              "    border: none;\n",
              "    border-radius: 50%;\n",
              "    cursor: pointer;\n",
              "    display: none;\n",
              "    fill: var(--fill-color);\n",
              "    height: 32px;\n",
              "    padding: 0;\n",
              "    width: 32px;\n",
              "  }\n",
              "\n",
              "  .colab-df-quickchart:hover {\n",
              "    background-color: var(--hover-bg-color);\n",
              "    box-shadow: 0 1px 2px rgba(60, 64, 67, 0.3), 0 1px 3px 1px rgba(60, 64, 67, 0.15);\n",
              "    fill: var(--button-hover-fill-color);\n",
              "  }\n",
              "\n",
              "  .colab-df-quickchart-complete:disabled,\n",
              "  .colab-df-quickchart-complete:disabled:hover {\n",
              "    background-color: var(--disabled-bg-color);\n",
              "    fill: var(--disabled-fill-color);\n",
              "    box-shadow: none;\n",
              "  }\n",
              "\n",
              "  .colab-df-spinner {\n",
              "    border: 2px solid var(--fill-color);\n",
              "    border-color: transparent;\n",
              "    border-bottom-color: var(--fill-color);\n",
              "    animation:\n",
              "      spin 1s steps(1) infinite;\n",
              "  }\n",
              "\n",
              "  @keyframes spin {\n",
              "    0% {\n",
              "      border-color: transparent;\n",
              "      border-bottom-color: var(--fill-color);\n",
              "      border-left-color: var(--fill-color);\n",
              "    }\n",
              "    20% {\n",
              "      border-color: transparent;\n",
              "      border-left-color: var(--fill-color);\n",
              "      border-top-color: var(--fill-color);\n",
              "    }\n",
              "    30% {\n",
              "      border-color: transparent;\n",
              "      border-left-color: var(--fill-color);\n",
              "      border-top-color: var(--fill-color);\n",
              "      border-right-color: var(--fill-color);\n",
              "    }\n",
              "    40% {\n",
              "      border-color: transparent;\n",
              "      border-right-color: var(--fill-color);\n",
              "      border-top-color: var(--fill-color);\n",
              "    }\n",
              "    60% {\n",
              "      border-color: transparent;\n",
              "      border-right-color: var(--fill-color);\n",
              "    }\n",
              "    80% {\n",
              "      border-color: transparent;\n",
              "      border-right-color: var(--fill-color);\n",
              "      border-bottom-color: var(--fill-color);\n",
              "    }\n",
              "    90% {\n",
              "      border-color: transparent;\n",
              "      border-bottom-color: var(--fill-color);\n",
              "    }\n",
              "  }\n",
              "</style>\n",
              "\n",
              "      <script>\n",
              "        async function quickchart(key) {\n",
              "          const quickchartButtonEl =\n",
              "            document.querySelector('#' + key + ' button');\n",
              "          quickchartButtonEl.disabled = true;  // To prevent multiple clicks.\n",
              "          quickchartButtonEl.classList.add('colab-df-spinner');\n",
              "          try {\n",
              "            const charts = await google.colab.kernel.invokeFunction(\n",
              "                'suggestCharts', [key], {});\n",
              "          } catch (error) {\n",
              "            console.error('Error during call to suggestCharts:', error);\n",
              "          }\n",
              "          quickchartButtonEl.classList.remove('colab-df-spinner');\n",
              "          quickchartButtonEl.classList.add('colab-df-quickchart-complete');\n",
              "        }\n",
              "        (() => {\n",
              "          let quickchartButtonEl =\n",
              "            document.querySelector('#df-84f2cdc5-6c31-4263-ac46-330da5e63317 button');\n",
              "          quickchartButtonEl.style.display =\n",
              "            google.colab.kernel.accessAllowed ? 'block' : 'none';\n",
              "        })();\n",
              "      </script>\n",
              "    </div>\n",
              "\n",
              "    </div>\n",
              "  </div>\n"
            ],
            "text/plain": [
              "                                                Text Sentiment     Platform  \\\n",
              "0          enjoy a beauti day at the park natur park  Positive    Twitter     \n",
              "1           traffic wa terribl thi morn traffic morn  Negative    Twitter     \n",
              "2            just finish an amaz workout fit workout  Positive   Instagram    \n",
              "3  excit about the upcom weekend getaway travel a...  Positive    Facebook    \n",
              "4   tri out a new recip for dinner tonight cook food   Neutral   Instagram    \n",
              "\n",
              "          Hashtags  \n",
              "0       natur park  \n",
              "1     traffic morn  \n",
              "2      fit workout  \n",
              "3  travel adventur  \n",
              "4        cook food  "
            ]
          },
          "execution_count": 45,
          "metadata": {},
          "output_type": "execute_result"
        }
      ],
      "source": [
        "# Apply the stemming function to the 'Text' column\n",
        "sentiment_data['Text'] = sentiment_data['Text'].apply(stem_text)\n",
        "\n",
        "# Apply the lemmatization function to the 'Text' column\n",
        "#sentiment_data['Text'] = sentiment_data['Text'].apply(lemmatize_text)\n",
        "\n",
        "# Apply the stemming function to the 'Hashtags' column\n",
        "sentiment_data['Hashtags'] = sentiment_data['Hashtags'].apply(stem_text)\n",
        "\n",
        "# Apply the lemmatization function to the 'Hashtags' column\n",
        "#sentiment_data['Hashtags'] = sentiment_data['Hashtags'].apply(lemmatize_text)\n",
        "\n",
        "# Combine the cleaned 'Text' and 'Hashtags' columns into a single column by concatenating them with a space in between\n",
        "sentiment_data['Text'] = sentiment_data['Text'] + ' ' + sentiment_data['Hashtags']\n",
        "sentiment_data.head()"
      ]
    },
    {
      "cell_type": "code",
      "execution_count": null,
      "metadata": {
        "id": "tyPb6po2O-87"
      },
      "outputs": [],
      "source": [
        "from sklearn.feature_extraction.text import CountVectorizer # Term Frequency\n",
        "from sklearn.feature_extraction.text import TfidfVectorizer # TF-IDf"
      ]
    },
    {
      "cell_type": "markdown",
      "metadata": {
        "id": "9NiFfkLAUE0o"
      },
      "source": [
        "#2.3 Feature Engineering\n",
        "Feature engineering in NLP is the process of transforming raw text data into meaningful features that can be leveraged by machine learning models. This step is essential for preparing text data for effective analysis.\n",
        "\n",
        "In this notebook, we will generate `vector embeddings` using two distinct approaches: first, we will train our own vector model using `Doc2Vec` to generate `vector embeddings`. These techniques will help us capture the semantic essence of the text for further analysis.\n",
        "\n",
        "<center><img src=\"https://datasciencedojo.com/wp-content/uploads/vector-embedding-model.webp\" width = 500 height = 300 /></center>\n",
        "\n",
        "`Vector embeddings` in NLP are numerical representations of words or phrases that capture their meanings and relationships. By converting text into dense, continuous vectors, embeddings enable machine learning models to process and understand text more effectively. Popular techniques include Word2Vec, GloVe, and contextual models like BERT, each offering different approaches to capturing semantic and contextual information. These embeddings are crucial for tasks such as text classification, information retrieval, and machine translation."
      ]
    },
    {
      "cell_type": "markdown",
      "metadata": {
        "id": "S4kCq4ylVCPg"
      },
      "source": [
        "## 2.3.1 Vector embedding using doc2vec<br>\n",
        "Doc2Vec is an extension of Word2Vec that generates vector representations for entire documents, rather than just individual words. Unlike traditional bag-of-words models, which treat documents as unordered collections of words, Doc2Vec captures the context and sequence of words, resulting in richer and more informative vectors.\n",
        "\n",
        "Here is an overview of the process that we are performing.\n",
        "\n",
        "- **`TaggedDocument`**: This is a data structure used by the `gensim` library, typically for training models like Doc2Vec. It contains two main elements:\n",
        "  - `words`: A list of tokens (words) from the document.\n",
        "  - `tags`: A list of identifiers (usually strings or integers) that uniquely identify each document.\n",
        "\n",
        "- **`word_tokenize(doc.lower())`**: This part of the code converts each document's text to lowercase and tokenizes it into individual words (or tokens).\n",
        "\n",
        "- **`tags=[str(i)]`**: Here, `i` is the index of the document in the `sentiment_data['Text']` DataFrame column. By wrapping it in `str(i)`, it converts the index `i` to a string and assigns it as a tag to the corresponding document. This tag serves as a unique identifier for the document."
      ]
    },
    {
      "cell_type": "markdown",
      "metadata": {
        "id": "ezuJ1Cd3ajK5"
      },
      "source": [
        "## 2.3.2 Why use doc2vec?<br>\n",
        "\n",
        "Doc2Vec is particularly useful when you need to represent entire documents or larger text bodies as vectors, especially when these vectors will be used as features in machine learning models or for similarity measures between documents. It's commonly applied in:\n",
        "\n",
        "**Document Classification:** Classifying documents into categories like spam detection, sentiment analysis, or topic categorization.\n",
        "\n",
        "**Document Clustering:** Grouping similar documents together based on their content.\n",
        "\n",
        "**Information Retrieval:** Finding documents similar to a query document.\n",
        "\n",
        "In summary, Doc2Vec is a powerful tool for generating document-level embeddings, capturing the semantic essence of a text. Its ability to handle variable-length documents and produce dense vector representations makes it an invaluable asset in many NLP applications."
      ]
    },
    {
      "cell_type": "code",
      "execution_count": null,
      "metadata": {
        "colab": {
          "base_uri": "https://localhost:8080/",
          "height": 646
        },
        "id": "HU4FIeD2PiTx",
        "outputId": "24769a11-0576-4c03-bc8c-2129940221a7"
      },
      "outputs": [
        {
          "name": "stdout",
          "output_type": "stream",
          "text": [
            "Collecting gensim\n",
            "  Downloading gensim-4.3.3-cp311-cp311-manylinux_2_17_x86_64.manylinux2014_x86_64.whl.metadata (8.1 kB)\n",
            "Collecting numpy<2.0,>=1.18.5 (from gensim)\n",
            "  Downloading numpy-1.26.4-cp311-cp311-manylinux_2_17_x86_64.manylinux2014_x86_64.whl.metadata (61 kB)\n",
            "\u001b[2K     \u001b[90m━━━━━━━━━━━━━━━━━━━━━━━━━━━━━━━━━━━━━━━━\u001b[0m \u001b[32m61.0/61.0 kB\u001b[0m \u001b[31m3.0 MB/s\u001b[0m eta \u001b[36m0:00:00\u001b[0m\n",
            "\u001b[?25hCollecting scipy<1.14.0,>=1.7.0 (from gensim)\n",
            "  Downloading scipy-1.13.1-cp311-cp311-manylinux_2_17_x86_64.manylinux2014_x86_64.whl.metadata (60 kB)\n",
            "\u001b[2K     \u001b[90m━━━━━━━━━━━━━━━━━━━━━━━━━━━━━━━━━━━━━━━━\u001b[0m \u001b[32m60.6/60.6 kB\u001b[0m \u001b[31m2.9 MB/s\u001b[0m eta \u001b[36m0:00:00\u001b[0m\n",
            "\u001b[?25hRequirement already satisfied: smart-open>=1.8.1 in /usr/local/lib/python3.11/dist-packages (from gensim) (7.1.0)\n",
            "Requirement already satisfied: wrapt in /usr/local/lib/python3.11/dist-packages (from smart-open>=1.8.1->gensim) (1.17.2)\n",
            "Downloading gensim-4.3.3-cp311-cp311-manylinux_2_17_x86_64.manylinux2014_x86_64.whl (26.7 MB)\n",
            "\u001b[2K   \u001b[90m━━━━━━━━━━━━━━━━━━━━━━━━━━━━━━━━━━━━━━━━\u001b[0m \u001b[32m26.7/26.7 MB\u001b[0m \u001b[31m38.7 MB/s\u001b[0m eta \u001b[36m0:00:00\u001b[0m\n",
            "\u001b[?25hDownloading numpy-1.26.4-cp311-cp311-manylinux_2_17_x86_64.manylinux2014_x86_64.whl (18.3 MB)\n",
            "\u001b[2K   \u001b[90m━━━━━━━━━━━━━━━━━━━━━━━━━━━━━━━━━━━━━━━━\u001b[0m \u001b[32m18.3/18.3 MB\u001b[0m \u001b[31m51.7 MB/s\u001b[0m eta \u001b[36m0:00:00\u001b[0m\n",
            "\u001b[?25hDownloading scipy-1.13.1-cp311-cp311-manylinux_2_17_x86_64.manylinux2014_x86_64.whl (38.6 MB)\n",
            "\u001b[2K   \u001b[90m━━━━━━━━━━━━━━━━━━━━━━━━━━━━━━━━━━━━━━━━\u001b[0m \u001b[32m38.6/38.6 MB\u001b[0m \u001b[31m12.2 MB/s\u001b[0m eta \u001b[36m0:00:00\u001b[0m\n",
            "\u001b[?25hInstalling collected packages: numpy, scipy, gensim\n",
            "  Attempting uninstall: numpy\n",
            "    Found existing installation: numpy 2.0.2\n",
            "    Uninstalling numpy-2.0.2:\n",
            "      Successfully uninstalled numpy-2.0.2\n",
            "  Attempting uninstall: scipy\n",
            "    Found existing installation: scipy 1.15.3\n",
            "    Uninstalling scipy-1.15.3:\n",
            "      Successfully uninstalled scipy-1.15.3\n",
            "\u001b[31mERROR: pip's dependency resolver does not currently take into account all the packages that are installed. This behaviour is the source of the following dependency conflicts.\n",
            "tsfresh 0.21.0 requires scipy>=1.14.0; python_version >= \"3.10\", but you have scipy 1.13.1 which is incompatible.\n",
            "thinc 8.3.6 requires numpy<3.0.0,>=2.0.0, but you have numpy 1.26.4 which is incompatible.\u001b[0m\u001b[31m\n",
            "\u001b[0mSuccessfully installed gensim-4.3.3 numpy-1.26.4 scipy-1.13.1\n"
          ]
        },
        {
          "data": {
            "application/vnd.colab-display-data+json": {
              "id": "b340b209189d41a9a92a867dc6d6e78b",
              "pip_warning": {
                "packages": [
                  "numpy",
                  "scipy"
                ]
              }
            }
          },
          "metadata": {},
          "output_type": "display_data"
        }
      ],
      "source": [
        "!pip install gensim"
      ]
    },
    {
      "cell_type": "code",
      "execution_count": null,
      "metadata": {
        "colab": {
          "base_uri": "https://localhost:8080/",
          "height": 220
        },
        "id": "tD1GQVXHU5ot",
        "outputId": "1550d4d4-986c-4f32-d2bb-e1ce79f52a8a"
      },
      "outputs": [
        {
          "ename": "NameError",
          "evalue": "name 'sentiment_data' is not defined",
          "output_type": "error",
          "traceback": [
            "\u001b[0;31m---------------------------------------------------------------------------\u001b[0m",
            "\u001b[0;31mNameError\u001b[0m                                 Traceback (most recent call last)",
            "\u001b[0;32m/tmp/ipython-input-2-2615978845.py\u001b[0m in \u001b[0;36m<cell line: 0>\u001b[0;34m()\u001b[0m\n\u001b[1;32m      3\u001b[0m \u001b[0;31m# Preprocess and tag the documents\u001b[0m\u001b[0;34m\u001b[0m\u001b[0;34m\u001b[0m\u001b[0m\n\u001b[1;32m      4\u001b[0m tagged_data = [TaggedDocument(words=word_tokenize(doc.lower()), tags=[str(i)])\n\u001b[0;32m----> 5\u001b[0;31m                 for i, doc in enumerate(sentiment_data['Text'])]\n\u001b[0m\u001b[1;32m      6\u001b[0m \u001b[0;34m\u001b[0m\u001b[0m\n\u001b[1;32m      7\u001b[0m \u001b[0mtagged_data\u001b[0m\u001b[0;34m[\u001b[0m\u001b[0;34m:\u001b[0m\u001b[0;36m5\u001b[0m\u001b[0;34m]\u001b[0m\u001b[0;34m\u001b[0m\u001b[0;34m\u001b[0m\u001b[0m\n",
            "\u001b[0;31mNameError\u001b[0m: name 'sentiment_data' is not defined"
          ]
        }
      ],
      "source": [
        "# Doc3Vec --> Gensim Library\n",
        "from gensim.models.doc2vec import Doc2Vec, TaggedDocument\n",
        "# Preprocess and tag the documents\n",
        "tagged_data = [TaggedDocument(words=word_tokenize(doc.lower()), tags=[str(i)])\n",
        "                for i, doc in enumerate(sentiment_data['Text'])]\n",
        "\n",
        "tagged_data[:5]"
      ]
    },
    {
      "cell_type": "markdown",
      "metadata": {
        "id": "9V-4hH-I1gH4"
      },
      "source": [
        "### Interpretation:\n",
        "\n",
        "- In the output, each `TaggedDocument` has a `tags` value like `['0']`, `['1']`, `['2']`, etc.\n",
        "- These tags correspond to the document's position in the `sentiment_data['Text']` list. For example:\n",
        "  - The first document `\"Enjoy a beautiful day at the park\"` is tokenized and assigned the tag `['0']`.\n",
        "  - The second document `\"Traffic was terrible this morning\"` is tokenized and assigned the tag `['1']`.\n",
        "  - This continues for each document in the dataset.\n",
        "\n",
        "### Purpose of Tags:\n",
        "\n",
        "- **Unique Identification**: Tags uniquely identify each document within the dataset. This is particularly useful when training models like Doc2Vec, where the model needs to differentiate between different documents.\n",
        "- **Index Reference**: By tagging documents with their index, you can easily reference or retrieve the original document using this tag."
      ]
    },
    {
      "cell_type": "markdown",
      "metadata": {
        "id": "hXzBOHq810tx"
      },
      "source": [
        "### Training the tagged data on Doc2Vec to create embeddings\n",
        "\n",
        "###Key Parameters in Doc2Vec\n",
        "\n",
        "a. **vector_size:**\n",
        "\n",
        "**Description:** Specifies the dimensionality of the feature vectors. Higher dimensions can capture more information but require more computational resources.\n",
        "Typical Values: 100-300 are common, but this can vary depending on the task and the amount of training data.\n",
        "\n",
        "b. **window:**\n",
        "\n",
        "**Description:** Defines the maximum distance between the current and predicted word within a sentence. A larger window size considers more context, while a smaller size focuses on local context.\n",
        "**Typical Values:** Usually set between 5-10.\n",
        "\n",
        "c. **min_count:**\n",
        "\n",
        "**Description:** Ignores all words with a total frequency lower than this threshold. This helps in reducing the noise caused by infrequent words.\n",
        "**Typical Values:** Commonly set to 1-5, depending on the dataset size.\n",
        "\n",
        "d. **dm (Distributed Memory):**\n",
        "\n",
        "**Description:** Determines the training algorithm. If dm=1, it uses the Distributed Memory version of Doc2Vec (PV-DM), which maintains the context of words across the document. If dm=0, it uses Distributed Bag of Words (PV-DBOW), which is similar to Skip-Gram in Word2Vec.\n",
        "**Typical Values:** dm=1 for PV-DM, dm=0 for PV-DBOW.\n",
        "\n",
        "e. **epochs:**\n",
        "\n",
        "**Description:** Number of iterations (epochs) over the corpus. More epochs typically improve the model, but too many can lead to overfitting.\n",
        "**Typical Values:** 10-20 epochs are common, but this can be adjusted based on the dataset size and complexity.\n",
        "\n",
        "f. **alpha and min_alpha:**\n",
        "\n",
        "**Description:** The initial learning rate (alpha) and the minimum learning rate (min_alpha). The learning rate decreases over time, and these parameters control the speed and decay.\n",
        "**Typical Values:** alpha=0.025 and min_alpha=0.0001 are typical starting values.\n",
        "\n",
        "g. **negative:**\n",
        "\n",
        "**Description:** If >0, negative sampling is used. The value specifies the number of \"noise words\" that should be drawn for each word in the training data.\n",
        "**Typical Values:** negative=5 is common, but this can vary depending on the specific task.\n",
        "\n",
        "h. **hs (Hierarchical Softmax):**\n",
        "\n",
        "**Description:** If hs=1, hierarchical softmax is used for training the model. It’s an alternative to negative sampling, and both methods are mutually exclusive.\n",
        "**Typical Values:** hs=0 for negative sampling (default), hs=1 for hierarchical softmax."
      ]
    },
    {
      "cell_type": "code",
      "execution_count": null,
      "metadata": {
        "colab": {
          "base_uri": "https://localhost:8080/",
          "height": 220
        },
        "id": "sQ9wX8mTjAHl",
        "outputId": "06745e04-ae38-43e3-aa96-1f36bbebdad1"
      },
      "outputs": [
        {
          "ename": "NameError",
          "evalue": "name 'Doc2Vec' is not defined",
          "output_type": "error",
          "traceback": [
            "\u001b[0;31m---------------------------------------------------------------------------\u001b[0m",
            "\u001b[0;31mNameError\u001b[0m                                 Traceback (most recent call last)",
            "\u001b[0;32m/tmp/ipython-input-1-3469742071.py\u001b[0m in \u001b[0;36m<cell line: 0>\u001b[0;34m()\u001b[0m\n\u001b[1;32m      1\u001b[0m \u001b[0;31m# Initialize the Doc2Vec model\u001b[0m\u001b[0;34m\u001b[0m\u001b[0;34m\u001b[0m\u001b[0m\n\u001b[0;32m----> 2\u001b[0;31m \u001b[0mvector_model_doc2vec\u001b[0m \u001b[0;34m=\u001b[0m \u001b[0mDoc2Vec\u001b[0m\u001b[0;34m(\u001b[0m\u001b[0mvector_size\u001b[0m\u001b[0;34m=\u001b[0m\u001b[0;36m100\u001b[0m\u001b[0;34m,\u001b[0m \u001b[0mmin_count\u001b[0m \u001b[0;34m=\u001b[0m \u001b[0;36m1\u001b[0m\u001b[0;34m,\u001b[0m \u001b[0mepochs\u001b[0m\u001b[0;34m=\u001b[0m\u001b[0;36m100\u001b[0m\u001b[0;34m,\u001b[0m \u001b[0mdm\u001b[0m\u001b[0;34m=\u001b[0m\u001b[0;36m1\u001b[0m\u001b[0;34m)\u001b[0m\u001b[0;34m\u001b[0m\u001b[0;34m\u001b[0m\u001b[0m\n\u001b[0m\u001b[1;32m      3\u001b[0m \u001b[0;34m\u001b[0m\u001b[0m\n\u001b[1;32m      4\u001b[0m \u001b[0;31m# Build the vocabulary from the tagged documents\u001b[0m\u001b[0;34m\u001b[0m\u001b[0;34m\u001b[0m\u001b[0m\n\u001b[1;32m      5\u001b[0m \u001b[0mvector_model_doc2vec\u001b[0m\u001b[0;34m.\u001b[0m\u001b[0mbuild_vocab\u001b[0m\u001b[0;34m(\u001b[0m\u001b[0mtagged_data\u001b[0m\u001b[0;34m)\u001b[0m\u001b[0;34m\u001b[0m\u001b[0;34m\u001b[0m\u001b[0m\n",
            "\u001b[0;31mNameError\u001b[0m: name 'Doc2Vec' is not defined"
          ]
        }
      ],
      "source": [
        "# Initialize the Doc2Vec model\n",
        "vector_model_doc2vec = Doc2Vec(vector_size=100, min_count = 1, epochs=100, dm=1)\n",
        "\n",
        "# Build the vocabulary from the tagged documents\n",
        "vector_model_doc2vec.build_vocab(tagged_data)\n",
        "\n",
        "# Train the model on the data\n",
        "vector_model_doc2vec.train(tagged_data, total_examples=vector_model_doc2vec.corpus_count,\n",
        "                           epochs=vector_model_doc2vec.epochs)"
      ]
    },
    {
      "cell_type": "code",
      "execution_count": null,
      "metadata": {
        "id": "roX-H3bHl4aB"
      },
      "outputs": [],
      "source": [
        "# Function for using Doc2Vec\n",
        "def text_to_vector_doc2vec(text):\n",
        "    \"\"\"\n",
        "    Convert a text string into a vector representation using a Doc2Vec model.\n",
        "\n",
        "    Parameters:\n",
        "    - text (str): The input text that needs to be converted to a vector.\n",
        "\n",
        "    Returns:\n",
        "    - vector (numpy.ndarray): The vector representation of the input text.\n",
        "    \"\"\"\n",
        "    # Tokenize the input text into a list of tokens\n",
        "    tokens = tokenizer(text)\n",
        "\n",
        "    # Infer the vector representation of the tokenized text using the Doc2Vec model\n",
        "    vector = vector_model_doc2vec.infer_vector(tokens)\n",
        "\n",
        "    # Return the vector representation\n",
        "    return vector\n"
      ]
    },
    {
      "cell_type": "code",
      "execution_count": null,
      "metadata": {
        "colab": {
          "base_uri": "https://localhost:8080/"
        },
        "id": "g09A54bCjele",
        "outputId": "f8a5ca90-c3cb-48c6-b186-c10235b5a17f"
      },
      "outputs": [
        {
          "name": "stdout",
          "output_type": "stream",
          "text": [
            "Text for vectorization: enjoy a beauti day at the park natur park\n",
            "Text to vector: [-1.82287425e-01 -4.58804853e-02  5.26155299e-03  1.24215528e-01\n",
            " -3.68595272e-02  8.09731185e-02  3.25890154e-01  1.37354046e-01\n",
            " -2.33907299e-03 -9.52287167e-02 -2.84175426e-01  8.26202258e-02\n",
            "  2.03619227e-01  1.93138607e-02  3.56806698e-03  2.07216412e-01\n",
            "  3.96990357e-03 -3.05404842e-01  2.96922535e-01 -4.01592642e-01\n",
            "  2.03634799e-01  1.31555766e-01  6.44972682e-01 -2.79816449e-01\n",
            "  1.94774747e-01 -2.16531500e-01 -2.71807253e-01 -8.79754275e-02\n",
            " -1.71353906e-01  5.11752404e-02  2.12559000e-01  4.17927135e-04\n",
            "  1.41894579e-01  1.43382341e-01 -7.41826044e-03  3.24157089e-01\n",
            " -2.96243101e-01  9.00437962e-03 -8.13309029e-02 -1.58287704e-01\n",
            "  3.13060910e-01  1.20990790e-01 -9.47817191e-02 -1.23833582e-01\n",
            " -6.55676052e-02 -2.29586676e-01 -2.64455736e-01 -1.17830873e-01\n",
            " -3.47777549e-03  1.05903037e-01 -2.15161815e-01 -4.43308055e-01\n",
            " -3.39397788e-01 -4.44101065e-01  1.28694177e-01  1.51513234e-01\n",
            " -1.39737427e-01 -3.92769948e-02 -2.75596112e-01  2.43016884e-01\n",
            " -1.07796498e-01 -2.79262245e-01  2.82748222e-01  1.37062699e-01\n",
            " -4.69944239e-01  1.40118271e-01  1.26136273e-01  7.44010508e-02\n",
            " -3.04173052e-01  2.96153396e-01  1.17597971e-02 -2.42963105e-01\n",
            "  3.30384254e-01  9.95128676e-02  4.02294517e-01 -2.79457808e-01\n",
            "  1.47430703e-01 -7.48682022e-02 -4.61880386e-01 -9.19220224e-03\n",
            "  1.60688937e-01 -8.39218870e-02 -3.95970494e-01  2.87101746e-01\n",
            " -3.35136026e-01 -1.97254747e-01  2.56643355e-01 -1.65929124e-01\n",
            " -7.29338676e-02 -4.71069127e-01  4.25585926e-01  9.90675688e-02\n",
            " -1.04329363e-01 -7.62134790e-02  4.74638119e-02  5.41208237e-02\n",
            " -1.55845080e-02 -2.00621277e-01  1.95348158e-01 -1.19910374e-01]\n"
          ]
        }
      ],
      "source": [
        "# Using Doc2Vec to create the vectors\n",
        "# Note: You shall also use spaCy here instead of Doc2Vec\n",
        "print(f\"Text for vectorization: {sentiment_data['Text'].iloc[0]}\")\n",
        "print(f\"Text to vector: {text_to_vector_doc2vec(sentiment_data['Text'].iloc[0])}\")"
      ]
    },
    {
      "cell_type": "code",
      "execution_count": null,
      "metadata": {
        "colab": {
          "base_uri": "https://localhost:8080/"
        },
        "id": "59oMlUqD_WdY",
        "outputId": "1cda8b4f-f11f-48c5-ec66-7caa6e2f1155"
      },
      "outputs": [
        {
          "data": {
            "text/plain": [
              "array(['Positive', 'Negative', 'Positive', 'Positive', 'Neutral'],\n",
              "      dtype='<U8')"
            ]
          },
          "execution_count": 32,
          "metadata": {},
          "output_type": "execute_result"
        }
      ],
      "source": [
        "# Convert the text data into vector representations using the Doc2Vec model\n",
        "X_vector_data_doc2vec = np.array([text_to_vector_doc2vec(text) for text in sentiment_data['Text']])\n",
        "\n",
        "# Convert the sentiment labels into a NumPy array\n",
        "Y_data = np.array(sentiment_data['Sentiment'].tolist())\n",
        "\n",
        "Y_data[:5]"
      ]
    },
    {
      "cell_type": "markdown",
      "metadata": {
        "id": "gGdyRpiG9w36"
      },
      "source": [
        "# 2.4 Model Building\n",
        "\n",
        "## 2.4.1.1 Naive Bayes Algorithm\n",
        "\n",
        "- Naive Bayes is a simple yet effective probabilistic machine learning algorithm used for classification tasks.\n",
        "- It is based on Bayes' Theorem and assumes that the features in a dataset are independent of each other, given the class label—an assumption known as \"naive.\"\n",
        "- Despite this simplification, Naive Bayes performs well in many real-world scenarios, particularly in text classification problems like spam detection or sentiment analysis.\n",
        "- The algorithm calculates the probability of each class and selects the one with the highest probability as the prediction.\n",
        "- Its efficiency and effectiveness, especially with large datasets, make it a popular choice in various applications.\n",
        "\n",
        "<center><img src=\"https://insightimi.wordpress.com/wp-content/uploads/2020/04/unnamed-1.png\" width=500 height=300/></center>"
      ]
    },
    {
      "cell_type": "code",
      "execution_count": null,
      "metadata": {
        "colab": {
          "base_uri": "https://localhost:8080/"
        },
        "id": "GXAxO4zaRy6w",
        "outputId": "c246f23a-8dca-4ea1-b7fe-3d58fb6a3925"
      },
      "outputs": [
        {
          "data": {
            "text/plain": [
              "146.4"
            ]
          },
          "execution_count": 4,
          "metadata": {},
          "output_type": "execute_result"
        }
      ],
      "source": [
        "0.2 * 732"
      ]
    },
    {
      "cell_type": "code",
      "execution_count": null,
      "metadata": {
        "colab": {
          "base_uri": "https://localhost:8080/"
        },
        "id": "ouG_sNQH76s-",
        "outputId": "fa8d2dfd-c146-4995-ce1a-fd90c1f0f2fb"
      },
      "outputs": [
        {
          "data": {
            "text/plain": [
              "array(['Positive', 'Positive', 'Neutral', 'Negative', 'Positive',\n",
              "       'Negative', 'Negative', 'Positive', 'Positive', 'Positive',\n",
              "       'Negative', 'Neutral', 'Negative', 'Negative', 'Positive',\n",
              "       'Negative', 'Positive', 'Positive', 'Negative', 'Positive',\n",
              "       'Positive', 'Positive', 'Negative', 'Negative', 'Positive',\n",
              "       'Neutral', 'Positive', 'Positive', 'Positive', 'Positive',\n",
              "       'Neutral', 'Positive', 'Positive', 'Positive', 'Positive',\n",
              "       'Negative', 'Positive', 'Neutral', 'Negative', 'Positive',\n",
              "       'Negative', 'Negative', 'Neutral', 'Positive', 'Neutral',\n",
              "       'Negative', 'Neutral', 'Positive', 'Neutral', 'Positive',\n",
              "       'Positive', 'Positive', 'Negative', 'Negative', 'Negative',\n",
              "       'Neutral', 'Positive', 'Positive', 'Positive', 'Negative',\n",
              "       'Negative', 'Positive', 'Positive', 'Positive', 'Positive',\n",
              "       'Positive', 'Positive', 'Negative', 'Positive', 'Positive',\n",
              "       'Neutral', 'Negative', 'Neutral', 'Positive', 'Negative',\n",
              "       'Positive', 'Positive', 'Neutral', 'Positive', 'Positive',\n",
              "       'Positive', 'Positive', 'Neutral', 'Neutral', 'Neutral',\n",
              "       'Positive', 'Positive', 'Negative', 'Positive', 'Positive',\n",
              "       'Neutral', 'Positive', 'Positive', 'Negative', 'Positive',\n",
              "       'Negative', 'Positive', 'Positive', 'Positive', 'Negative',\n",
              "       'Neutral', 'Negative', 'Positive', 'Positive', 'Negative',\n",
              "       'Positive', 'Positive', 'Positive', 'Positive', 'Positive',\n",
              "       'Positive', 'Positive', 'Positive', 'Positive', 'Negative',\n",
              "       'Neutral', 'Neutral', 'Neutral', 'Neutral', 'Neutral', 'Negative',\n",
              "       'Neutral', 'Negative', 'Positive', 'Negative', 'Neutral',\n",
              "       'Negative', 'Negative', 'Positive', 'Positive', 'Neutral',\n",
              "       'Neutral', 'Positive', 'Positive', 'Neutral', 'Positive',\n",
              "       'Positive', 'Positive', 'Positive', 'Negative', 'Positive',\n",
              "       'Positive', 'Positive', 'Negative', 'Neutral', 'Negative',\n",
              "       'Positive'], dtype='<U8')"
            ]
          },
          "execution_count": 33,
          "metadata": {},
          "output_type": "execute_result"
        }
      ],
      "source": [
        "from sklearn.naive_bayes import Gaussian NB\n",
        "\n",
        "# Split the data into training and testing sets\n",
        "X_train, X_test, y_train, y_test = train_test_split(X_vector_data_doc2vec, Y_data,\n",
        "                                                    test_size=0.2, random_state=42)\n",
        "\n",
        "# Train a Gaussian Naive Bayes model\n",
        "model = GaussianNB()\n",
        "\n",
        "# Fit the model\n",
        "model.fit(X_train, y_train)\n",
        "\n",
        "# Predict on the test set\n",
        "y_pred = model.predict(X_test)\n",
        "\n",
        "y_pred"
      ]
    },
    {
      "cell_type": "markdown",
      "metadata": {
        "id": "nJSWfEtu9GO7"
      },
      "source": [
        "### Evaluating the Model"
      ]
    },
    {
      "cell_type": "code",
      "execution_count": null,
      "metadata": {
        "id": "MXQifFJuVYq2"
      },
      "outputs": [],
      "source": [
        "# Defining a function to plot the confusion matrix\n",
        "from sklearn.metrics import confusion_matrix\n",
        "def confusion_matrix_plot(y_true, y_pred,\n",
        "                          labels=['Positive', 'Negative', 'Neutral']):\n",
        "    \"\"\"\n",
        "    Plots the confusion matrix for the given true and predicted labels.\n",
        "\n",
        "    Parameters:\n",
        "    - y_true: array-like of shape (n_samples,) - True labels.\n",
        "    - y_pred: array-like of shape (n_samples,) - Predicted labels.\n",
        "    - labels: list of str (default=['Positive', 'Negative', 'Neutral']) - List of label names\n",
        "              corresponding to the classes in the same order as the numeric labels.\n",
        "\n",
        "    Returns:\n",
        "    - None - This function directly plots the confusion matrix.\n",
        "    \"\"\"\n",
        "\n",
        "    # Generate the confusion matrix\n",
        "    cm = confusion_matrix(y_true, y_pred)\n",
        "\n",
        "    # Set the size of the plot\n",
        "    plt.figure(figsize=(8, 6))\n",
        "\n",
        "    # Create a heatmap to visualize the confusion matrix\n",
        "    # - annot=True: Annotates each cell with the numerical value\n",
        "    # - fmt='d': Formats the annotations as integers\n",
        "    # - cmap='Blues': Uses a blue color map for the heatmap\n",
        "    # - xticklabels and yticklabels: Labels for the x and y axes based on the provided labels\n",
        "    sns.heatmap(cm, annot=True, fmt='d', cmap='Blues', xticklabels=labels, yticklabels=labels)\n",
        "\n",
        "    # Set the label for the x-axis\n",
        "    plt.xlabel('Predicted Label')\n",
        "\n",
        "    # Set the label for the y-axis\n",
        "    plt.ylabel('True Label')\n",
        "\n",
        "    # Set the title of the plot\n",
        "    plt.title('Confusion Matrix')\n",
        "\n",
        "    # Display the plot\n",
        "    plt.show()"
      ]
    },
    {
      "cell_type": "code",
      "execution_count": null,
      "metadata": {
        "colab": {
          "base_uri": "https://localhost:8080/",
          "height": 564
        },
        "id": "zFqQa5wjUlMP",
        "outputId": "59374aae-feb6-4e22-f33a-94a2d87d6bfb"
      },
      "outputs": [
        {
          "data": {
            "image/png": "[encoded data removed]",
            "text/plain": [
              "<Figure size 800x600 with 2 Axes>"
            ]
          },
          "metadata": {},
          "output_type": "display_data"
        }
      ],
      "source": [
        "# Confusion Matrix Plot\n",
        "confusion_matrix_plot(y_test, y_pred)"
      ]
    },
    {
      "cell_type": "markdown",
      "metadata": {
        "id": "T0BYKlyiV7jk"
      },
      "source": [
        "### Interpretation:\n",
        "- The model accurately predicted the `Neutral` class 56 times, which is the highest among all classes, indicating good performance for this category.\n",
        "- The model did not confuse any `Positive` instances as `Negative`, which is a positive aspect of its performance.\n",
        "- While the model performs well with the `Neutral` class, there are considerable misclassifications in the `Positive` and `Negative` classes, suggesting that further tuning or more training data may be necessary to improve the accuracy for those classes.\n"
      ]
    },
    {
      "cell_type": "code",
      "execution_count": null,
      "metadata": {
        "colab": {
          "base_uri": "https://localhost:8080/"
        },
        "id": "-B6WzjRN9KUd",
        "outputId": "13ed3db9-56cf-4522-8a22-d6e7de4b04eb"
      },
      "outputs": [
        {
          "name": "stdout",
          "output_type": "stream",
          "text": [
            "              precision    recall  f1-score   support\n",
            "\n",
            "    Negative       0.58      0.65      0.61        34\n",
            "     Neutral       0.66      0.40      0.49        48\n",
            "    Positive       0.69      0.85      0.76        65\n",
            "\n",
            "    accuracy                           0.65       147\n",
            "   macro avg       0.64      0.63      0.62       147\n",
            "weighted avg       0.65      0.65      0.64       147\n",
            "\n"
          ]
        }
      ],
      "source": [
        "# Evaluate the performance of the classification model using the true and predicted labels\n",
        "print(classification_report(y_test, y_pred))"
      ]
    },
    {
      "cell_type": "markdown",
      "metadata": {
        "id": "wSclIywbCtrO"
      },
      "source": [
        "### Interpretation:\n",
        "- The model struggles with recall for `Negative` and `Neutral`  classes, indicating it frequently misses true instances of these classes.\n",
        "- The `Negative` class has decent precision  but low recall, while the `Positive` class has high recall  but lower precision , suggesting an imbalance between precision and recall across classes.\n",
        "- The F1-scores for `Negative` and `Neutral` show that the model's overall performance in these classes is balanced but not optimal, reflecting challenges in classifying these sentiments accurately."
      ]
    },
    {
      "cell_type": "markdown",
      "metadata": {
        "id": "kcfZxBTXXTod"
      },
      "source": [
        "# 2.5 Hyperparameter Tuning\n",
        "\n",
        "Hyperparameter tuning is the process of finding the best set of hyperparameters for a machine learning model to optimize its performance.\n",
        "\n",
        "<center><img src=\"https://www.oreilly.com/api/v2/epubs/9781789345803/files/assets/f704ea35-39ed-47f6-be62-815e893ee5fd.png\" width=500 geight =200/></center>\n",
        "\n",
        "### What Are Hyperparameters?\n",
        "\n",
        "Hyperparameters are settings or configurations that you, as a user, specify before training a machine learning model. They are different from parameters, which are learned from the data during training. Hyperparameters control how the model learns and makes predictions, and they can significantly influence the model's performance. It helps you find the optimal settings that give your model the best performance on unseen data.\n",
        "\n",
        "For example,\n",
        "\n",
        "- **Alpha** (in Naive Bayes): A smoothing parameter that prevents the model from assigning zero probability to unseen words.\n",
        "\n",
        "\n",
        "### How Is Hyperparameter Tuning Done?\n",
        "\n",
        "1. **Manual Search**:\n",
        "   - Manually experimenting with different hyperparameter values and observing the model’s performance.\n",
        "   - This method is straightforward but can be time-consuming and inefficient, especially with many hyperparameters.\n",
        "\n",
        "2. **Grid Search**:\n",
        "   - A systematic way to try every combination of hyperparameters from a predefined grid of possible values.\n",
        "   - GridSearchCV, for example, automates this process by training and evaluating the model for each combination using cross-validation.\n",
        "\n",
        "3. **Random Search**:\n",
        "   - Instead of trying every possible combination, random search samples a fixed number of hyperparameter combinations from the grid. It’s more efficient than grid search, especially when the hyperparameter space is large.\n",
        "\n",
        "There are a few other methods too.\n",
        "\n",
        "### How to Measure Performance?\n",
        "\n",
        "During hyperparameter tuning, the model's performance is typically evaluated using **cross-validation**. This involves splitting the data into multiple folds, training on some folds, and testing on the remaining ones. The process is repeated multiple times to ensure reliable performance estimates. The average performance across the folds is used to judge which set of hyperparameters is best.\n",
        "\n",
        "<center><img src=\"https://miro.medium.com/v2/resize:fit:886/1*PpFIzhckhq9qFAEbwrXY2g.png\" width=500 height=350/></center>\n",
        "\n",
        "\n",
        "\n"
      ]
    },
    {
      "cell_type": "markdown",
      "metadata": {
        "id": "oO_g8VI_ZcPX"
      },
      "source": [
        "### Grid Search CV\n",
        "\n",
        "\n",
        "**GridSearchCV** is a tool that helps find the best set of hyperparameters for a machine learning model.\n",
        "\n",
        "In our case, where the model is struggling with classifying `Positive` and `Negative` sentiments correctly, GridSearchCV can be used to fine-tune the hyperparameters to improve the model’s ability to distinguish between these classes.\n",
        "\n",
        "### **Why Use GridSearchCV?**\n",
        "\n",
        "- **Systematic Search**: Manually trying out different combinations of hyperparameters is time-consuming and prone to errors. GridSearchCV automates this process by systematically searching through all possible combinations of specified hyperparameters.\n",
        "\n",
        "\n",
        "### **How Does GridSearchCV Work?**\n",
        "\n",
        "1. **Define Hyperparameter Grid**:\n",
        "   - You start by defining a range of hyperparameters you want to test. For example, if you’re using a Naive Bayes model, you might want to experiment with different values of the smoothing parameter `alpha`.\n",
        "\n",
        "   - Example for Naive Bayes:\n",
        "     ```python\n",
        "     param_grid = {\n",
        "         'alpha': [0.1, 0.5, 1.0, 2.0, 5.0]\n",
        "     }\n",
        "     ```\n",
        "\n",
        "2. **Cross-Validation**:\n",
        "   - GridSearchCV applies cross-validation for each combination of hyperparameters. Cross-validation splits your dataset into several folds and trains the model on some folds while testing on others. This process is repeated for all combinations.\n",
        "\n",
        "   - This ensures that the performance evaluation is robust and not dependent on a specific split of the data.\n",
        "\n",
        "   <center><img src=\"https://www.researchgate.net/publication/360187776/figure/fig2/AS:1160638525124624@1653729196635/Hyperparameter-tuning-using-five-fold-cross-validation-GridSearchCV.png\" width=500 /></center>\n",
        "\n",
        "\n",
        "3. **Evaluate Performance**:\n",
        "   - For each combination of hyperparameters, GridSearchCV calculates a performance metric, such as accuracy, precision, recall, or F1-score, depending on what you aim to optimize.\n",
        "\n",
        "   - The combination that yields the best performance metric is selected as the optimal set of hyperparameters.\n",
        "\n",
        "4. **Select the Best Model**:\n",
        "   - The model is then retrained on the entire training set using these optimal hyperparameters and can be used for predictions.\n",
        "\n",
        "   - This helps reduce misclassification errors like those seen in the confusion matrix, leading to a more accurate and reliable model."
      ]
    },
    {
      "cell_type": "code",
      "execution_count": null,
      "metadata": {
        "id": "i53kz3smS77V"
      },
      "outputs": [],
      "source": [
        "# Step 1: Split the data into training and testing sets\n",
        "X_train, X_test, y_train, y_test = train_test_split(X_vector_data_doc2vec, Y_data,\n",
        "                                                    test_size=0.2, random_state=42)\n",
        "\n",
        "# Step 2: Define the Parameter Grid\n",
        "param_grid = {\n",
        "    'priors': [None, [0.2, 0.3, 0.5], [0.1, 0.1, 0.8]],  # Example priors\n",
        "    'var_smoothing': [1e-9, 1e-8, 1e-7]  # Example variance smoothing values\n",
        "}\n"
      ]
    },
    {
      "cell_type": "markdown",
      "metadata": {
        "id": "bUCngUjvcqir"
      },
      "source": [
        "### Explanation of the Parameters:\n",
        "- In a Naive Bayes classifier, the `priors` parameter represents the prior probabilities of each class. These are the probabilities that an instance belongs to each class before any data is observed.\n",
        "- **Possible Values:**\n",
        "    - None: This means the classifier will use the default behavior, which assumes equal probability for each class.\n",
        "    - [0.2, 0.3, 0.5]: This explicitly sets the prior probabilities for three classes. In this example, the first class has a prior probability of 0.2, the second class has 0.3, and the third class has 0.5.\n",
        "    - [0.1, 0.1, 0.8]: This is another set of prior probabilities, where the first and second classes each have a prior probability of 0.1, and the third class has 0.8.\n",
        "- `var_smoothing` is a hyperparameter specific to Gaussian Naive Bayes classifiers. It adds a small value to the variances of each feature to prevent division by zero or numerical instability during the calculation of probabilities.\n",
        "- This is particularly important when the variance of a feature is very close to zero.\n",
        "- Possible Values:\n",
        "    - 1e-9: A very small amount of variance smoothing, where 1e-9 means 0.000000001.\n",
        "    - 1e-8: Slightly larger smoothing, 0.00000001.\n",
        "    - 1e-7: Even more smoothing, 0.0000001."
      ]
    },
    {
      "cell_type": "code",
      "execution_count": null,
      "metadata": {
        "colab": {
          "base_uri": "https://localhost:8080/"
        },
        "id": "-OZIbdOGcmim",
        "outputId": "b25ed389-fcde-47d9-b513-69bfccd45966"
      },
      "outputs": [
        {
          "name": "stdout",
          "output_type": "stream",
          "text": [
            "Fitting 10 folds for each of 9 candidates, totalling 90 fits\n",
            "Best Parameters: {'priors': [0.1, 0.1, 0.8], 'var_smoothing': 1e-09}\n"
          ]
        }
      ],
      "source": [
        "# Step 3: Initialize GridSearchCV\n",
        "from sklearn.model_selection import GridSearchCV, StratifiedKFold\n",
        "skf = StratifiedKFold(n_splits = 10)\n",
        "grid_search = GridSearchCV(\n",
        "    estimator=GaussianNB(),  # The model to tune\n",
        "    param_grid=param_grid,  # The parameter grid\n",
        "    cv=skf,  # Number of cross-validation folds [K-Fold]\n",
        "    n_jobs=-1,  # Use all available CPUs\n",
        "    verbose=1  # Verbose output\n",
        ")\n",
        "\n",
        "# Step 4: Fit GridSearchCV to the Training Data\n",
        "grid_search.fit(X_train, y_train)\n",
        "\n",
        "# Step 5: Get the Best Parameters\n",
        "best_params_naive_bayes = grid_search.best_params_\n",
        "\n",
        "print(\"Best Parameters:\", best_params_naive_bayes)"
      ]
    },
    {
      "cell_type": "markdown",
      "metadata": {
        "id": "G78uQUiWfBlE"
      },
      "source": [
        "### Training the model with the hyperparameters"
      ]
    },
    {
      "cell_type": "code",
      "execution_count": null,
      "metadata": {
        "colab": {
          "base_uri": "https://localhost:8080/"
        },
        "id": "5-3Avd9GfGRs",
        "outputId": "5b6bb2a9-c02c-41e7-c1b1-983d7be3cdb0"
      },
      "outputs": [
        {
          "name": "stdout",
          "output_type": "stream",
          "text": [
            "              precision    recall  f1-score   support\n",
            "\n",
            "    Negative       0.60      0.62      0.61        34\n",
            "     Neutral       0.68      0.31      0.43        48\n",
            "    Positive       0.64      0.89      0.75        65\n",
            "\n",
            "    accuracy                           0.64       147\n",
            "   macro avg       0.64      0.61      0.60       147\n",
            "weighted avg       0.65      0.64      0.61       147\n",
            "\n"
          ]
        }
      ],
      "source": [
        "# Train a Gaussian Naive Bayes model\n",
        "model = GaussianNB(priors=best_params_naive_bayes['priors'],\n",
        "                   var_smoothing=best_params_naive_bayes['var_smoothing'])\n",
        "\n",
        "model.fit(X_train, y_train)\n",
        "\n",
        "# Predict on the test set\n",
        "y_pred = model.predict(X_test)\n",
        "\n",
        "# Evaluation of the model\n",
        "print(classification_report(y_test, y_pred))"
      ]
    },
    {
      "cell_type": "markdown",
      "metadata": {
        "id": "OfYvOlKEj7_i"
      },
      "source": [
        "### Observation:\n",
        "\n",
        "Even after the hyperparameter tuning, the metrics haven't improved significantly. So, let's try a different algorithm.\n",
        "\n",
        "<hr> <hr>"
      ]
    },
    {
      "cell_type": "markdown",
      "metadata": {
        "id": "rLCsTntbOAqw"
      },
      "source": [
        "## 2.4.2 K-Nearest Neighbors (KNN) Algorithm\n",
        "\n",
        "- The K-Nearest Neighbors (KNN) algorithm is a simple, yet powerful machine learning technique used for both classification and regression tasks.\n",
        "- It works by identifying the 'k' closest data points (neighbors) to a given input, based on a chosen distance metric such as Euclidean distance.\n",
        "- For classification, KNN assigns the most common class among these neighbors to the new instance, while in regression, it predicts the value by averaging the neighbors' outputs.\n",
        "- KNN is a non-parametric, instance-based learning algorithm, meaning it doesn't learn an explicit model during training but instead stores the entire training dataset and makes predictions by directly comparing new inputs to the stored data.\n",
        "- While KNN is easy to understand and implement, it can be computationally expensive during the prediction phase, especially with large datasets, and is sensitive to the choice of 'k' and the distance metric used.\n",
        "- Despite these challenges, KNN remains a popular choice for problems where interpretability and simplicity are valued.\n",
        "\n",
        "<center><img src=\"https://www.researchgate.net/publication/341831889/figure/fig2/AS:903350463787009@1592386942516/KNN-K-NN-Algorithms-K-NN-algo-following-some-steps-1-Pick-a-value-for-K-2-Calculate.ppm\" width=500 /></center>"
      ]
    },
    {
      "cell_type": "code",
      "execution_count": null,
      "metadata": {
        "colab": {
          "base_uri": "https://localhost:8080/"
        },
        "id": "xkiQQrNVlw_n",
        "outputId": "694e6b8e-cab0-4506-b429-04805e76a8be"
      },
      "outputs": [
        {
          "name": "stdout",
          "output_type": "stream",
          "text": [
            "              precision    recall  f1-score   support\n",
            "\n",
            "    Negative       0.79      0.65      0.71        34\n",
            "     Neutral       0.82      0.58      0.68        48\n",
            "    Positive       0.73      0.95      0.83        65\n",
            "\n",
            "    accuracy                           0.76       147\n",
            "   macro avg       0.78      0.73      0.74       147\n",
            "weighted avg       0.77      0.76      0.75       147\n",
            "\n"
          ]
        }
      ],
      "source": [
        "from sklearn.neighbors import KNeighborsClassifier\n",
        "\n",
        "# Split the data\n",
        "X_train, X_test, y_train, y_test = train_test_split(X_vector_data_doc2vec, Y_data,\n",
        "                                                    test_size=0.2, random_state=42)\n",
        "\n",
        "# Initialize the KNN model\n",
        "knn = KNeighborsClassifier()\n",
        "\n",
        "# Fit the model\n",
        "knn.fit(X_train, y_train)\n",
        "\n",
        "# Make predictions\n",
        "y_pred = knn.predict(X_test)\n",
        "\n",
        "# Evaluation of the model\n",
        "print(classification_report(y_test, y_pred))"
      ]
    },
    {
      "cell_type": "code",
      "execution_count": null,
      "metadata": {
        "id": "xAhZJvlTVNCv"
      },
      "outputs": [],
      "source": [
        "# Vec1 --> a1, a2,  ...a10\n",
        "# Vec2 --> b1, b2,  ...b10\n",
        "\n",
        "\n",
        "# |a1 - b1| + |a2 - b2| ....    --> Manhattan Distance (L1 distance)\n",
        "# sqrt(|a1 - b1|^2 + |a2 - b2|^ ....) --> Euclidean Distance\n",
        "\n",
        "# 1/p(|a1 - b1|^p + |a2 - b2|^p ....) --> Minkowski Euclidean\n",
        "# if p = inf, --> max(|ai _ bi|) --> Chebyshev Distance"
      ]
    },
    {
      "cell_type": "markdown",
      "metadata": {
        "id": "WrJloq6CnAHl"
      },
      "source": [
        "### Observation:\n",
        "\n",
        "As kNN algorithm also provides similar results, let's do hyperparameter tuning and find the best parameters."
      ]
    },
    {
      "cell_type": "markdown",
      "metadata": {
        "id": "wvk5nmYrOnKY"
      },
      "source": [
        "#2.4.3 K-Nearest Neighbors (KNN) Hyperparameter tnning\n",
        "\n",
        "### Hyperparameters for the `K-Nearest Neighbors (KNN)`\n",
        "\n",
        "- **n_neighbors:** This hyperparameter specifies the number of nearest neighbors that the algorithm considers when making predictions. A small value of k (e.g., 1 or 3) makes the model sensitive to noise and potentially more prone to overfitting, as it closely follows the training data. On the other hand, a larger k smooths out the decision boundary but can lead to underfitting, where the model may fail to capture the underlying pattern in the data.\n",
        "\n",
        "<center><img src=\"https://miro.medium.com/v2/resize:fit:1400/1*TFY4OWhJoXLiBTYs1rq9EQ.jpeg\" width=500/></center>\n",
        "\n",
        "*Note: You will understand more about overfitting and underfitting through the course.*\n",
        "\n",
        "- **metric:** Defines the distance measure used to compute the proximity between data points. The choice of metric can significantly impact the model’s performance. The Euclidean distance (default) is the most common, calculating the straight-line distance between two points. Other metrics like Manhattan (sum of absolute differences) and Minkowski (a generalization of both Euclidean and Manhattan) can be used depending on the specific data characteristics and problem requirements.\n",
        "\n",
        "- **weights:** This hyperparameter controls how the influence of each neighbor is weighted when making a prediction. With weights='uniform', all neighbors contribute equally. With weights='distance', closer neighbors have a greater influence on the prediction, which can lead to better performance in cases where nearby points are more indicative of the correct class or value.\n",
        "\n",
        "- **algorithm:** Specifies the method used to compute the nearest neighbors. The choices include ball_tree (efficient for high-dimensional data), kd_tree (efficient for low-dimensional data), and brute (exhaustive search, used for small datasets). The auto option lets the algorithm choose the most appropriate method based on the dataset characteristics, balancing between speed and efficiency.\n",
        "\n",
        "- **leaf_size:** This parameter affects the tree-based algorithms (ball_tree and kd_tree) and controls the number of points at which the algorithm switches from tree-based to brute-force search. Smaller leaf sizes can lead to deeper trees, improving the speed of nearest neighbor searches at the cost of increased memory usage and training time.\n",
        "\n",
        "*Note: Tree based algorithms will be covered later in the course.*\n"
      ]
    },
    {
      "cell_type": "code",
      "execution_count": null,
      "metadata": {
        "colab": {
          "base_uri": "https://localhost:8080/"
        },
        "id": "8GNH2oAlRWFi",
        "outputId": "652ea04d-d987-4913-faee-57762bbb59e4"
      },
      "outputs": [
        {
          "name": "stdout",
          "output_type": "stream",
          "text": [
            "Fitting 10 folds for each of 384 candidates, totalling 3840 fits\n",
            "Best Parameters: {'algorithm': 'auto', 'leaf_size': 20, 'metric': 'manhattan', 'n_neighbors': 3, 'weights': 'distance'}\n"
          ]
        }
      ],
      "source": [
        "# Split the data\n",
        "X_train, X_test, y_train, y_test = train_test_split(X_vector_data_doc2vec, Y_data,\n",
        "                                                    test_size=0.2, random_state=42)\n",
        "\n",
        "\n",
        "# Define the parameter grid\n",
        "param_grid = {\n",
        "    'n_neighbors': [3, 4, 5, 6, 7, 8, 9, 10],\n",
        "    'weights': ['uniform', 'distance'],\n",
        "    'metric': ['euclidean', 'manhattan'],\n",
        "    'algorithm': ['auto', 'ball_tree', 'kd_tree', 'brute'],\n",
        "    'leaf_size': [20, 30, 40]\n",
        "}\n",
        "\n",
        "# Set up the Grid Search with Cross-Validation\n",
        "grid_search = GridSearchCV(knn, param_grid, cv=10, scoring='accuracy', n_jobs=-1, verbose=1)\n",
        "\n",
        "# Fit the model with the best parameters\n",
        "grid_search.fit(X_train, y_train)\n",
        "\n",
        "# Get the best parameters\n",
        "best_params_knn = grid_search.best_params_\n",
        "\n",
        "print(f\"Best Parameters: {best_params_knn}\")"
      ]
    },
    {
      "cell_type": "markdown",
      "metadata": {
        "id": "owc2mW-OpYQN"
      },
      "source": [
        "### Training the model on the best hyperparameters"
      ]
    },
    {
      "cell_type": "code",
      "execution_count": null,
      "metadata": {
        "colab": {
          "base_uri": "https://localhost:8080/"
        },
        "id": "YIpcosiOUcZJ",
        "outputId": "10d2fa64-569b-4cc7-c3cd-b63c7111607a"
      },
      "outputs": [
        {
          "name": "stdout",
          "output_type": "stream",
          "text": [
            "              precision    recall  f1-score   support\n",
            "\n",
            "    Negative       0.79      0.65      0.71        34\n",
            "     Neutral       0.83      0.60      0.70        48\n",
            "    Positive       0.74      0.95      0.83        65\n",
            "\n",
            "    accuracy                           0.77       147\n",
            "   macro avg       0.78      0.74      0.75       147\n",
            "weighted avg       0.78      0.77      0.76       147\n",
            "\n"
          ]
        }
      ],
      "source": [
        "# Split data into training and testing sets\n",
        "X_train, X_test, y_train, y_test = train_test_split(X_vector_data_doc2vec, Y_data,\n",
        "                                                    test_size=0.2, random_state=42)\n",
        "# Initialize and train the KNN model\n",
        "model = KNeighborsClassifier(algorithm=best_params_knn['algorithm'],\n",
        "                           n_neighbors=best_params_knn['n_neighbors'],\n",
        "                           metric=best_params_knn['metric'],\n",
        "                           weights=best_params_knn['weights'])\n",
        "\n",
        "# Train the model\n",
        "model.fit(X_train, y_train)\n",
        "\n",
        "# Make predictions\n",
        "y_pred = model.predict(X_test)\n",
        "\n",
        "# Evaluation of the model\n",
        "print(classification_report(y_test, y_pred))"
      ]
    },
    {
      "cell_type": "markdown",
      "metadata": {
        "id": "ogfRKaVo_TYP"
      },
      "source": [
        "### Interpretation:\n",
        "- The model achieved a 77% accuracy, reflecting an overall solid performance across all classes.\n",
        "\n",
        "- High recall for `Positive` class indicating the model is very effective at correctly identifying Positive instances, but might be overpredicting as well\n",
        "\n",
        "- The Precision value is balanced across all the classes.\n",
        "\n",
        "- The `Neutral` class has a good F1 score indicating the model is handling this class better than before, although recall is still a bit low.\n",
        "\n",
        "- Good F1-score for the entire model indicates that no class tends to be over dominating the predictions.\n",
        "\n",
        "<hr><hr>\n"
      ]
    }
  ],
  "metadata": {
    "colab": {
      "provenance": []
    },
    "kernelspec": {
      "display_name": "Python 3",
      "name": "python3"
    },
    "language_info": {
      "codemirror_mode": {
        "name": "ipython",
        "version": 3
      },
      "file_extension": ".py",
      "mimetype": "text/x-python",
      "name": "python",
      "nbconvert_exporter": "python",
      "pygments_lexer": "ipython3",
      "version": "3.12.5"
    }
  },
  "nbformat": 4,
  "nbformat_minor": 0
}
